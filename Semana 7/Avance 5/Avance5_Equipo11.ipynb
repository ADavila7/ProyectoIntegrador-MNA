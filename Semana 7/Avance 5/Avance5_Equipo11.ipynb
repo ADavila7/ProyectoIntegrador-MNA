{
  "cells": [
    {
      "cell_type": "markdown",
      "id": "fce4d787-9b2e-412a-bf01-a5d39be425c4",
      "metadata": {
        "id": "fce4d787-9b2e-412a-bf01-a5d39be425c4"
      },
      "source": [
        "# **Maestría en Inteligencia Artificial Aplicada**\n",
        "\n",
        "## Curso: **Proyecto Integrador**\n",
        "\n",
        "### Tecnológico de Monterrey\n",
        "\n",
        "## Actividad Semana 7\n",
        "\n",
        "### **Actividad 5. Modelo Final**"
      ]
    },
    {
      "cell_type": "markdown",
      "id": "4ab6842f-d047-479d-8f9e-2f9bb34983cb",
      "metadata": {
        "id": "4ab6842f-d047-479d-8f9e-2f9bb34983cb"
      },
      "source": [
        "Nombres y matrículas de los integrantes del equipo:\n",
        "* Adrián Alejandro Dávila González - A01039334\n",
        "* Samuel Emanuel Aguilar García - A00816565"
      ]
    },
    {
      "cell_type": "markdown",
      "id": "34c15009-2373-4a3d-9fb4-632231168eb6",
      "metadata": {
        "id": "34c15009-2373-4a3d-9fb4-632231168eb6"
      },
      "source": [
        "## **Actividades Iniciales**"
      ]
    },
    {
      "cell_type": "markdown",
      "id": "65aae72b-1b1f-4eed-b9ef-0d713cedb3ce",
      "metadata": {
        "id": "65aae72b-1b1f-4eed-b9ef-0d713cedb3ce"
      },
      "source": [
        "### **Descripción de Contexto**"
      ]
    },
    {
      "cell_type": "markdown",
      "id": "aefa8b71-c047-4b4a-8f98-3bf52f9dd541",
      "metadata": {
        "id": "aefa8b71-c047-4b4a-8f98-3bf52f9dd541"
      },
      "source": [
        "El propósito de este Proyecto Integrador, como se ha mencionado en las descripciones de semanas anteriores, consiste en desarrollar un programa que permita detectar si un componente físico de un sistema de rectificación eléctrica se está comportando de manera correcta o incorrecta en base a mediciones de temperatura capturadas por una cámara térmica durante la operación del equipo.\n",
        "\n",
        "Para llevar a cabo esto, se tiene considerado hacer uso de dos tipos de modelos de aprendizaje:\n",
        "*   **Modelo de Aprendizaje Profundo, específicamente un modelo de visión computacional.**\n",
        "*   **Modelo de Aprendizaje No Supervisado, específicamente un modelo de agrupamiento.**\n",
        "\n",
        "El uso de las técnicas mencionadas es debido a que se busca realizar la detección de componentes de interés en las imágenes capturadas por el equipo de medición, por lo cual se tiene en cuenta el modelo de visión, y la detección de anomalías en base al comportamiento detectado gracias a las mediciones de temperatura en estos elementos, por lo cual se tiene en cuenta el modelo de agrupamiento.\n",
        "\n",
        "\n",
        "Al ser un entrenamiento basado en equipo propio, creamos una base de datos de fotografías y datos utilizando una cámara termográfica. Esta cámara nos proporciona distintos tipos de imágenes (como luz normal, térmica y mixta), así como un arreglo de las temperaturas dentro de la imagen. Actualmente, contamos con 382 fotografías (cada una con sus distintos filtros y mapa de temperaturas). Esta base de datos es inicial, ya que buscamos incrementarla a lo largo del proyecto para poder obtener un modelo con mayor precisión. El procesamiento que hemos aplicado a estas variables se describirá más adelante."
      ]
    },
    {
      "cell_type": "markdown",
      "id": "RttNor7suNVT",
      "metadata": {
        "id": "RttNor7suNVT"
      },
      "source": [
        "### **Referencias**"
      ]
    },
    {
      "cell_type": "markdown",
      "id": "PKsAj_JcRqXB",
      "metadata": {
        "id": "PKsAj_JcRqXB"
      },
      "source": [
        "*   Redmon, J., Divvala, S., Girshick, R., & Farhadi, A. (2016). You only look once: Unified, real-time object detection. IEEE Conference on Computer Vision and Pattern Recognition (CVPR).\n",
        "*   Jocher, G., et al. (2022). YOLOv5: A guide to object detection. Ultralytics.\n",
        "*   Roboflow Team. (2022). How to Improve your Computer Vision Model. Roboflow Blog. https://blog.roboflow.com/model-best-practices/\n",
        "*   sobel — SciPy v1.14.1 Manual. (n.d.). https://docs.scipy.org/doc/scipy/reference/generated/scipy.ndimage.sobel.html\n",
        "*   Drake, A. (2024, March 26). Unveiling the potential of histogram of Oriented gradients (HOG) in computer vision. Comet. https://www.comet.com/site/blog/unveiling-the-potential-of-histogram-of-oriented-gradients-hog-in-computer-vision/\n",
        "*   Mittal, K. (2024, March 12). A gentle introduction into the histogram of oriented gradients. Medium. https://medium.com/analytics-vidhya/a-gentle-introduction-into-the-histogram-of-oriented-gradients-fdee9ed8f2aa\n",
        "*   Tyagi, M. (2024, April 2). Histogram of Oriented Gradients: An Overview. Built In. https://builtin.com/articles/histogram-of-oriented-gradients\n",
        "*   Effect of (not) standardizing variables in k-means clustering - Dmitrijs Kass’ blog. (2019, October 22). https://dmitrijskass.netlify.app/2019/10/22/effect-of-not-standardizing-variables-in-k-means-clustering/\n",
        "*   Meritshot. (2023, August 22). Standardization v/s Normalization - Meritshot - Medium. Medium. https://medium.com/@meritshot/standardization-v-s-normalization-6f93225fbd84\n",
        "*   Javali, M. (2023, May 4). 10 ways to extract features from an image - Mohit Javali - Medium. Medium. https://medium.com/@mohitjavali/10-ways-to-extract-features-from-an-image-f44c8e9b0fbf\n",
        "*   Are mean normalization and feature scaling needed for k-means clustering? (n.d.). Cross Validated. https://stats.stackexchange.com/questions/21222/are-mean-normalization-and-feature-scaling-needed-for-k-means-clustering\n",
        "*   Feature Detectors - Sobel Edge Detector. (n.d.). https://homepages.inf.ed.ac.uk/rbf/HIPR2/sobel.htm\n",
        "*   Virmani, D., Taneja, S., & Malhotra, G. (2015, March 3). Normalization based K means Clustering Algorithm. arXiv.org. https://arxiv.org/abs/1503.00900\n",
        "*   Jamshed, M., Parvin, S., & Akter, S. (2015). Significant HOG-Histogram of oriented gradient feature selection for human detection. International Journal of Computer Applications (0975 – 8887), 132(17). https://citeseerx.ist.psu.edu/document?repid=rep1&type=pdf&doi=0397e6e40e3a85177e70beae70d454dbafed2b5c\n",
        "*   Jocher, G., Chubukov, P., & M, L. (2022). Ultralytics YOLOv5: State-of-the-art object detection. Retrieved from https://github.com/ultralytics/yolov5\n",
        "*   Daniel. (2024, January 30). Isolation Forest: ¿cómo detectar anomalías en un conjunto de datos? Formación En Ciencia De Datos | DataScientest.com. https://datascientest.com/es/isolation-forest\n",
        "*   AI & Insights. (2023, July 21). Anomaly Detection - AI & Insights - Medium. Medium. https://medium.com/@AIandInsights/anomaly-detection-86e8a1cabbc3#\n",
        "*   Checking outliers with *performance*. (n.d.). https://easystats.github.io/performance/articles/check_outliers#\n",
        "*   2.7. Novelty and Outlier Detection. (n.d.). Scikit-learn. https://scikit-learn.org/1.5/modules/outlier_detection.html\n",
        "*   Jiang, M., Han, S., & Huang, H. (2023). Anomaly Detection with Score Distribution Discrimination. ACM. https://doi.org/10.1145/3580305.3599258\n",
        "*   Bougaham, A., Adoui, M. E., Linden, I., & Frénay, B. (2023). Composite score for anomaly detection in imbalanced real-world industrial dataset. Machine Learning, 113(7), 4381–4406. https://doi.org/10.1007/s10994-023-06415-9\n",
        "*   Data, S. B. (2023, October 18). Machine Learning: Seleccion Métricas de clasificación - sitiobigdata.com. sitiobigdata.com. https://sitiobigdata.com/2019/01/19/machine-learning-metrica-clasificacion-parte-3/#:~:text=Machine%20Learning%3A%20Accuracy%20(Precisi%C3%B3n),total%20de%20elementos%20clasificados%20correctamente.&text=Por%20lo%20tanto%2C%20para%20nuestro,valor%20entre%200%20y%201.\n",
        "*   Buckley, B. (2023, August 9). ¿Qué es una puntuación de F1? - Academia EITCA. EITCA Academy. https://es.eitca.org/artificial-intelligence/eitc-ai-gcml-google-cloud-machine-learning/introduction/what-is-machine-learning/what-is-an-f1-score/\n",
        "*   Ibm. (2024, August 23). Bagging. IBM. https://www.ibm.com/topics/bagging\n",
        "*   Prateek. (2024, October 14). What is Bootstrap Sampling in Statistics and Machine Learning? Analytics Vidhya. https://www.analyticsvidhya.com/blog/2020/02/what-is-bootstrap-sampling-in-statistics-and-machine-learning/\n",
        "*   Kılıç, İ. (2023, September 22). Ensemble learning: random forests, bagging, random subspace, and boosting. Medium. https://medium.com/@ilyurek/ensemble-learning-random-forests-bagging-random-subspace-and-boosting-713c7dbe6823\n",
        "*   Yu, S. (2022, May 8). Stacking and blending — an intuitive explanation - Steven Yu - medium. Medium. https://medium.com/@stevenyu530_73989/stacking-and-blending-intuitive-explanation-of-advanced-ensemble-methods-46b295da413c\n",
        "*   Awan-Ur-Rahman. (2023, August 3). Understanding soft voting and hard voting: A Comparative analysis of ensemble learning methods. Medium. https://medium.com/@awanurrahman.cse/understanding-soft-voting-and-hard-voting-a-comparative-analysis-of-ensemble-learning-methods-db0663d2c008#:~:text=Hard%20Voting%3A%20It%20takes%20a,a%20more%20refined%20final%20prediction.\n",
        "*   Ahmed, I. (2023, May 31). What is Hard and Soft Voting in Machine Learning? - Ilyas Ahmed - Medium. Medium. https://ilyasbinsalih.medium.com/what-is-hard-and-soft-voting-in-machine-learning-2652676b6a32"
      ]
    },
    {
      "cell_type": "markdown",
      "id": "7b438a88-7bee-4065-ae92-0dbdcad5cd88",
      "metadata": {
        "id": "7b438a88-7bee-4065-ae92-0dbdcad5cd88"
      },
      "source": [
        "### **Importado de Librerías a Utilizar**"
      ]
    },
    {
      "cell_type": "code",
      "execution_count": 1,
      "id": "__YLZ3x6kMqz",
      "metadata": {
        "colab": {
          "base_uri": "https://localhost:8080/"
        },
        "id": "__YLZ3x6kMqz",
        "outputId": "ddca0864-7cd8-4698-d5fb-dc76302d9042"
      },
      "outputs": [
        {
          "output_type": "stream",
          "name": "stdout",
          "text": [
            "Mounted at /content/drive\n"
          ]
        }
      ],
      "source": [
        "# Montaje de Libreta en Entorno de Google Collaboratory.\n",
        "from google.colab import drive\n",
        "drive.mount('/content/drive')"
      ]
    },
    {
      "cell_type": "code",
      "execution_count": 2,
      "id": "00y8gBpUirLL",
      "metadata": {
        "id": "00y8gBpUirLL"
      },
      "outputs": [],
      "source": [
        "# Setting the locale to UTF-8 to avoid the NotImplementedError\n",
        "import locale\n",
        "def getpreferredencoding(do_setlocale = True):\n",
        "    return \"UTF-8\"\n",
        "locale.getpreferredencoding = getpreferredencoding"
      ]
    },
    {
      "cell_type": "code",
      "execution_count": 3,
      "id": "4ec1f360-0dd0-4567-bcd7-de52ffd01ded",
      "metadata": {
        "id": "4ec1f360-0dd0-4567-bcd7-de52ffd01ded"
      },
      "outputs": [],
      "source": [
        "# Importado de Librerías.\n",
        "import os\n",
        "import time\n",
        "import pandas as pd\n",
        "import numpy as np\n",
        "import seaborn as sns\n",
        "import random\n",
        "import matplotlib.pyplot as plt\n",
        "import matplotlib.image as mpimg\n",
        "from PIL import Image\n",
        "from mpl_toolkits.mplot3d import Axes3D\n",
        "from scipy.ndimage import gaussian_filter, zoom, sobel\n",
        "from tabulate import tabulate\n",
        "from sklearn.preprocessing import StandardScaler, MinMaxScaler\n",
        "from sklearn.decomposition import PCA\n",
        "from sklearn.linear_model import LogisticRegression\n",
        "from sklearn.model_selection import cross_val_score, cross_val_predict, train_test_split, KFold, GridSearchCV, StratifiedKFold\n",
        "from sklearn.ensemble import IsolationForest\n",
        "from sklearn.neighbors import LocalOutlierFactor\n",
        "from sklearn.svm import OneClassSVM\n",
        "from sklearn.mixture import GaussianMixture\n",
        "from sklearn.cluster import DBSCAN\n",
        "from sklearn.base import clone\n",
        "from sklearn.metrics import (\n",
        "    precision_score, recall_score, f1_score, silhouette_score, confusion_matrix,\n",
        "    ConfusionMatrixDisplay, classification_report, roc_auc_score,\n",
        "    balanced_accuracy_score, precision_recall_curve, auc, make_scorer,\n",
        "    average_precision_score, roc_curve\n",
        ")"
      ]
    },
    {
      "cell_type": "code",
      "execution_count": 4,
      "id": "IAR7AORWkj4z",
      "metadata": {
        "id": "IAR7AORWkj4z"
      },
      "outputs": [],
      "source": [
        "# Definición de Ruta en Directorios.\n",
        "Main_Dir= \"/content/drive/MyDrive/Maestría/Sexto Trimestre/Proyecto Integrador/Semana 7\"\n",
        "Temp_Dir = os.path.join(Main_Dir, \"Mediciones de Temperatura/All\")\n",
        "OutTemp_Dir = os.path.join(Main_Dir, \"Mediciones de Temperatura/Outliers\")\n",
        "os.chdir(Main_Dir)"
      ]
    },
    {
      "cell_type": "markdown",
      "source": [
        "# **Modelos de Aprendizaje Profundo**"
      ],
      "metadata": {
        "id": "EFoOVYLc2CpG"
      },
      "id": "EFoOVYLc2CpG"
    },
    {
      "cell_type": "markdown",
      "source": [
        "### **Justificación y Explicaciones**"
      ],
      "metadata": {
        "id": "6oRm4_3Y2OYZ"
      },
      "id": "6oRm4_3Y2OYZ"
    },
    {
      "cell_type": "markdown",
      "source": [
        "En el desarrollo de nuestro proyecto, se ha tomado la decisión de no implementar un ensamble de modelos para la detección de objetos utilizando YOLO. Esta decisión se basa en varios factores que subrayan la complejidad y los desafíos asociados con la combinación de modelos de visión, así como el rendimiento de nuestro modelo YOLOv8.\n",
        "\n",
        "Uno de los principales problemas que enfrentamos es la variabilidad en las predicciones generadas por cada modelo entrenado. Cada uno de estos modelos puede detectar diferentes objetos y localizarlos en posiciones distintas dentro de la misma imagen. Esta inconsistencia en los resultados no solo complica la homologación de las predicciones, sino que también dificulta la creación de un marco unificado para la toma de decisiones. Por ejemplo, si un modelo detecta un objeto en un área diferente de otro, fusionar estas predicciones puede llevar a confusiones y a la pérdida de precisión en las detecciones finales.\n",
        "\n",
        "Además, la complejidad en la homologación de las predicciones se convierte en un desafío significativo. Con múltiples modelos generando diferentes cantidades de predicciones, la tarea de combinar estas salidas se vuelve cada vez más complicada. En lugar de mejorar la precisión, el ensamble podría introducir errores adicionales y confusión en la interpretación de los resultados.\n",
        "En este contexto, hemos decidido redirigir nuestros esfuerzos hacia el segundo modelo de aprendizaje no supervisado. Este cambio de dirección nos permite concentrar nuestros recursos y atención en metodologías que pueden ser más adecuadas para el contexto de nuestra investigación.\n",
        "\n",
        "Es importante destacar que el modelo de visión YOLOv8 ha superado nuestras expectativas iniciales. Ha demostrado un rendimiento robusto y confiable, cumpliendo con las métricas de precisión, recall y tiempo de procesamiento que. Dado este éxito, consideramos que los beneficios de implementar un ensamble no justifican la complejidad y los recursos adicionales requeridos.\n",
        "\n",
        "Por lo tanto, el modelo final será el YOLOv8 con el ajuste (tuning) realizado, tal como se presentó en la entrega anterior. Esta decisión no solo optimiza nuestros recursos, sino que también garantiza que utilizamos un modelo que ha sido validado y que está bien ajustado para nuestras necesidades específicas."
      ],
      "metadata": {
        "id": "18ql0F042Tpg"
      },
      "id": "18ql0F042Tpg"
    },
    {
      "cell_type": "markdown",
      "source": [
        "![image.png](data:image/png;base64,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)"
      ],
      "metadata": {
        "id": "FeEv_6Ku9Hog"
      },
      "id": "FeEv_6Ku9Hog"
    },
    {
      "cell_type": "markdown",
      "id": "b6b1e5df-bd87-44ff-9ee2-c499b115ca5f",
      "metadata": {
        "id": "b6b1e5df-bd87-44ff-9ee2-c499b115ca5f"
      },
      "source": [
        "# **Modelos de Aprendizaje No Supervisado**"
      ]
    },
    {
      "cell_type": "markdown",
      "source": [
        "Como se aprecia en la libreta llamada *'Procesamiento de datos.ipynb'*, se decidió separar el proceso de modelado y comprobación para reducir el tamaño de las libretas y facilitar la lectura."
      ],
      "metadata": {
        "id": "rcG9o7cf4Zuy"
      },
      "id": "rcG9o7cf4Zuy"
    },
    {
      "cell_type": "markdown",
      "id": "POMn-0_ntV0m",
      "metadata": {
        "id": "POMn-0_ntV0m"
      },
      "source": [
        "### **Modelo Base (Isolation Forest)**"
      ]
    },
    {
      "cell_type": "markdown",
      "source": [
        "Para poder llevar a cabo la ejecución de los modelos, se realiza la lectura de los archivos generados con los datos procesados y se asignan a las variables a las que les corresponden en el proceso original."
      ],
      "metadata": {
        "id": "pgFZKSny4xp9"
      },
      "id": "pgFZKSny4xp9"
    },
    {
      "cell_type": "code",
      "source": [
        "# Generación de un DataFrame al leer el archivo 'redux_feat.csv'\n",
        "redux_feat_df = pd.read_csv('redux_feat.csv')\n",
        "\n",
        "# Conversión del DataFrame a un array de Numpy\n",
        "redux_feat = redux_feat_df.to_numpy()"
      ],
      "metadata": {
        "id": "jwAhpo2WOLVz"
      },
      "id": "jwAhpo2WOLVz",
      "execution_count": 5,
      "outputs": []
    },
    {
      "cell_type": "code",
      "source": [
        "# Generación de un DataFrame al leer el archivo 'Temps.csv'\n",
        "Temps_df = pd.read_csv('Temps.csv')\n",
        "\n",
        "# Conversión de las columnas a listas\n",
        "Normal_Temps = Temps_df['Lista1'].dropna().tolist()\n",
        "Normal_Adjusted_Temps = Temps_df['Lista2'].dropna().tolist()\n",
        "Combined_Normal_Temps = Temps_df['Lista3'].dropna().tolist()"
      ],
      "metadata": {
        "id": "r9-J8qMEKv5Z"
      },
      "id": "r9-J8qMEKv5Z",
      "execution_count": 6,
      "outputs": []
    },
    {
      "cell_type": "markdown",
      "id": "e240d50e",
      "metadata": {
        "id": "e240d50e"
      },
      "source": [
        "Una vez que se obtuvo el vector de características reducido, se procede con la implementación del primer modelo.\n",
        "\n",
        "Además de esto, se imprimieron las predicciones obtenidas y los puntajes de las anomalías calculados por el modelo."
      ]
    },
    {
      "cell_type": "code",
      "execution_count": 7,
      "id": "JZgusM9SD33m",
      "metadata": {
        "colab": {
          "base_uri": "https://localhost:8080/"
        },
        "id": "JZgusM9SD33m",
        "outputId": "670bb347-dc06-4064-b90e-259fe197f9a0"
      },
      "outputs": [
        {
          "output_type": "stream",
          "name": "stdout",
          "text": [
            "Entrenamiento completado en 0.9380 segundos.\n",
            "\n",
            "Predicciones: [ 1 -1  1 -1 -1  1 -1 -1 -1  1 -1  1  1 -1 -1  1  1 -1  1  1 -1  1  1  1\n",
            " -1 -1 -1  1  1 -1  1 -1 -1 -1 -1 -1  1  1 -1  1 -1  1  1  1 -1 -1  1  1\n",
            " -1  1  1  1  1 -1  1  1 -1 -1  1 -1 -1 -1 -1  1  1  1 -1  1  1 -1  1 -1\n",
            " -1 -1 -1 -1  1 -1 -1  1  1  1 -1 -1  1 -1  1  1 -1  1 -1 -1  1  1  1  1\n",
            "  1  1 -1  1  1 -1 -1  1 -1 -1 -1 -1 -1 -1  1  1 -1 -1 -1 -1  1 -1  1  1\n",
            " -1  1  1  1 -1  1  1  1 -1  1 -1  1 -1 -1  1 -1  1 -1 -1  1  1 -1  1 -1\n",
            " -1 -1 -1  1 -1 -1 -1  1 -1  1  1  1  1 -1  1  1 -1 -1 -1 -1 -1  1  1 -1\n",
            "  1 -1  1  1 -1  1  1  1  1  1 -1 -1 -1  1  1  1  1  1 -1  1  1 -1  1 -1\n",
            " -1 -1  1  1  1 -1  1 -1 -1  1  1  1 -1  1  1  1 -1  1  1  1 -1  1 -1  1\n",
            "  1 -1 -1  1  1 -1  1 -1 -1 -1 -1  1  1 -1 -1 -1  1 -1  1 -1  1  1  1  1\n",
            "  1 -1 -1 -1 -1  1 -1  1  1  1 -1  1  1 -1 -1 -1 -1  1  1 -1  1  1  1 -1\n",
            "  1  1  1 -1 -1 -1 -1 -1 -1 -1 -1 -1 -1 -1 -1 -1 -1 -1 -1 -1 -1 -1  1 -1\n",
            " -1 -1 -1 -1 -1 -1 -1 -1  1  1 -1 -1 -1 -1 -1 -1  1 -1  1  1  1  1 -1 -1\n",
            " -1 -1 -1  1 -1  1 -1 -1  1  1 -1 -1 -1  1 -1  1  1  1  1  1  1 -1 -1 -1\n",
            "  1  1 -1  1  1  1  1 -1  1  1  1  1  1 -1  1  1 -1  1 -1  1 -1  1  1 -1\n",
            " -1  1 -1 -1  1  1  1  1  1  1  1  1  1  1  1 -1  1  1  1  1  1  1  1  1\n",
            "  1  1  1  1  1  1  1  1  1  1  1  1  1  1  1  1  1  1  1  1  1  1  1  1\n",
            "  1  1  1  1  1  1  1  1  1  1  1  1  1  1  1  1  1  1  1  1  1  1  1  1\n",
            "  1  1  1  1  1  1  1  1  1  1  1  1  1  1  1  1  1  1  1  1  1  1  1  1\n",
            "  1  1  1  1  1  1  1  1  1  1  1  1  1  1  1  1  1  1  1  1  1  1  1  1\n",
            "  1  1  1  1  1  1  1  1  1  1  1  1  1  1  1  1  1  1  1  1  1  1  1  1\n",
            "  1  1  1  1  1  1  1  1  1  1  1  1  1  1  1  1  1  1  1  1  1  1  1  1\n",
            "  1  1  1  1  1  1  1  1  1  1  1  1  1  1  1  1  1  1  1  1  1  1  1  1\n",
            "  1  1  1  1  1  1  1  1  1  1  1  1  1  1  1  1  1  1]\n",
            "\n",
            "Puntuaciones (Scores) de Anomalías (precisión=4):\n",
            "[ 0.0589 -0.014   0.0318 -0.0176 -0.0152  0.0721 -0.0255 -0.0112 -0.0102\n",
            "  0.0458 -0.0156  0.0006  0.0366 -0.0381 -0.0445  0.0369  0.0129 -0.0271\n",
            "  0.0383  0.0292 -0.0181  0.0263  0.0473  0.0167 -0.0091 -0.0092 -0.0396\n",
            "  0.0327  0.0015 -0.0045  0.0011 -0.0243 -0.0057 -0.0227 -0.0321 -0.0053\n",
            "  0.0371  0.0516 -0.0046  0.0092 -0.0272  0.033   0.03    0.0077 -0.0064\n",
            " -0.0237  0.0299  0.0476 -0.0219  0.0482  0.0026  0.0082  0.0574 -0.0068\n",
            "  0.0407  0.0199 -0.0017 -0.0252  0.0496 -0.0103 -0.022  -0.0162 -0.0098\n",
            "  0.0489  0.0062  0.054  -0.0148  0.0541  0.018  -0.009   0.036  -0.0102\n",
            " -0.0186 -0.0067 -0.0253 -0.0153  0.0407 -0.0361 -0.0177  0.0697  0.0401\n",
            "  0.0039 -0.0022 -0.0042  0.0272 -0.0291  0.0496  0.0302 -0.0301  0.0124\n",
            " -0.0089 -0.0118  0.0114  0.0416  0.0548  0.0585  0.001   0.0563 -0.0214\n",
            "  0.0069  0.0234 -0.0012 -0.0339  0.0298 -0.0004 -0.0144 -0.0155 -0.0107\n",
            " -0.0308 -0.0221  0.041   0.0222 -0.038  -0.0007 -0.0022 -0.0318  0.0453\n",
            " -0.0085  0.0259  0.0312 -0.0087  0.0504  0.0278  0.0168 -0.0038  0.017\n",
            "  0.0473  0.0631 -0.0049  0.0215 -0.0016  0.0724 -0.0242 -0.0299  0.0366\n",
            " -0.0148  0.0297 -0.03   -0.0335  0.0354  0.0453 -0.0148  0.0034 -0.0245\n",
            " -0.0236 -0.006  -0.0267  0.0732 -0.0043 -0.0088 -0.0103  0.0609 -0.0134\n",
            "  0.001   0.064   0.0306  0.0579 -0.0199  0.0298  0.035  -0.0288 -0.0198\n",
            " -0.0434 -0.0191 -0.0268  0.0316  0.0899 -0.0031  0.0659 -0.0067  0.0285\n",
            "  0.0096 -0.0285  0.031   0.0207  0.014   0.0522  0.0432 -0.0266 -0.0049\n",
            " -0.0266  0.0564  0.0567  0.0638  0.0166  0.0346 -0.0194  0.0273  0.0099\n",
            " -0.0212  0.0362 -0.0228 -0.0311 -0.0039  0.0221  0.0408  0.0387 -0.0161\n",
            "  0.0056 -0.0106 -0.04    0.0398  0.0241  0.0332 -0.0187  0.0328  0.0031\n",
            "  0.0092 -0.01    0.0325  0.0192  0.0311 -0.0086  0.0042 -0.0282  0.0339\n",
            "  0.072  -0.0204 -0.0118  0.0579  0.0185 -0.0317  0.0015 -0.0107 -0.0173\n",
            " -0.019  -0.0055  0.0083  0.0296 -0.03   -0.0196 -0.02    0.0539 -0.0157\n",
            "  0.0101 -0.0136  0.0198  0.02    0.0038  0.0571  0.0628 -0.0024 -0.021\n",
            " -0.0147 -0.0077  0.0164 -0.0141  0.0506  0.0042  0.0549 -0.0153  0.0044\n",
            "  0.0057 -0.0227 -0.0129 -0.0482 -0.0119  0.0061  0.0271 -0.0034  0.0066\n",
            "  0.0211  0.0226 -0.0119  0.044   0.0358  0.0165 -0.01   -0.0273 -0.0128\n",
            " -0.0233 -0.0141 -0.0054 -0.0137 -0.0091 -0.0201 -0.015  -0.0167 -0.0102\n",
            " -0.0073 -0.0378 -0.01   -0.0037 -0.009  -0.0047 -0.0013  0.0148 -0.0197\n",
            " -0.0035 -0.0101 -0.0193 -0.0208 -0.0248 -0.0253 -0.0343 -0.0082  0.0061\n",
            "  0.006  -0.0175 -0.0218 -0.0175 -0.0046 -0.0258 -0.0093  0.0166 -0.026\n",
            "  0.032   0.0203  0.0056  0.0389 -0.0194 -0.0148 -0.0094 -0.006  -0.0033\n",
            "  0.0171 -0.0034  0.0224 -0.013  -0.0196  0.0105  0.0289 -0.0355 -0.0398\n",
            " -0.0268  0.0394 -0.0054  0.064   0.003   0.0753  0.0299  0.0239  0.0517\n",
            " -0.0037 -0.0057 -0.0254  0.059   0.0169 -0.03    0.0016  0.0237  0.0176\n",
            "  0.0052 -0.0217  0.0549  0.0373  0.0017  0.063   0.0213 -0.0051  0.0202\n",
            "  0.0341 -0.0124  0.0646 -0.0209  0.046  -0.0342  0.0503  0.0238 -0.0154\n",
            " -0.017   0.0678 -0.0138 -0.0099  0.0268  0.0338  0.0267  0.0019  0.0588\n",
            "  0.0238  0.0377  0.0279  0.0145  0.0023  0.0662 -0.0069  0.0064  0.0129\n",
            "  0.059   0.0417  0.037   0.0563  0.0012  0.0392  0.0505  0.0317  0.0522\n",
            "  0.0147  0.0472  0.0677  0.0448  0.0556  0.047   0.0343  0.0261  0.0101\n",
            "  0.047   0.044   0.048   0.0517  0.0215  0.0308  0.047   0.0637  0.0194\n",
            "  0.0414  0.028   0.0132  0.0429  0.02    0.0231  0.0622  0.0226  0.0492\n",
            "  0.0327  0.0188  0.026   0.0431  0.0673  0.0522  0.0673  0.0535  0.0241\n",
            "  0.0531  0.0508  0.0545  0.0291  0.0211  0.0234  0.047   0.0483  0.0243\n",
            "  0.0308  0.0429  0.0242  0.0276  0.0485  0.0177  0.0382  0.0283  0.054\n",
            "  0.0677  0.0282  0.073   0.0736  0.0514  0.0448  0.0539  0.0207  0.0552\n",
            "  0.0462  0.016   0.0543  0.0313  0.0677  0.0638  0.0251  0.0502  0.0355\n",
            "  0.0175  0.0502  0.0385  0.0171  0.0472  0.0544  0.0488  0.0225  0.0475\n",
            "  0.0468  0.0395  0.0442  0.0501  0.008   0.02    0.0418  0.0312  0.0392\n",
            "  0.0226  0.0165  0.0426  0.0189  0.0618  0.0483  0.0083  0.0429  0.0523\n",
            "  0.0495  0.0259  0.0261  0.0671  0.0277  0.0279  0.0628  0.0437  0.073\n",
            "  0.0213  0.0305  0.0545  0.0223  0.0342  0.0251  0.0217  0.0506  0.0059\n",
            "  0.0547  0.0317  0.0236  0.0131  0.0632  0.0297  0.0192  0.029   0.0425\n",
            "  0.047   0.0501  0.0555  0.0473  0.0016  0.0171  0.0002  0.0167  0.0434\n",
            "  0.0538  0.0677  0.068   0.0443  0.0277  0.024   0.0531  0.0193  0.013\n",
            "  0.0494  0.0076  0.0325  0.0232  0.0432  0.0239  0.068   0.0677  0.0667\n",
            "  0.0452  0.0183  0.026   0.0447  0.0666  0.0659  0.0475  0.0677  0.049\n",
            "  0.0287  0.0643  0.0475  0.0304  0.0426  0.0533  0.0349  0.0567  0.0108\n",
            "  0.0266  0.0215  0.0222  0.0549  0.0297  0.0426  0.0136  0.0457  0.0368\n",
            "  0.0487  0.0249  0.0508]\n",
            "\n",
            "\n",
            "Detected outliers: 188 out of 570\n"
          ]
        }
      ],
      "source": [
        "# Ejecución del Modelo \"Isolation Forest\"\n",
        "\n",
        "# Inicialización del modelo\n",
        "iso_forest = IsolationForest(\n",
        "    n_estimators=100,  # Mayor número de estimadores para una mejor ejecución\n",
        "    max_samples='auto',  # Debido al tamaño del dataset, se usan todas las muestras\n",
        "    contamination=len(Normal_Adjusted_Temps) / 570,  # Fracción de los atípicos conocidos en relación al tamaño del vector características\n",
        "    random_state=42\n",
        ")\n",
        "\n",
        "# Cálculo del tiempo de operación y ajustado del modelo\n",
        "start_time = time.time()  # Inicio del temporizador\n",
        "iso_forest.fit(redux_feat)\n",
        "end_time = time.time()  # Paro del temporizador\n",
        "\n",
        "# Cálculo y despliegue del tiempo de ejecución\n",
        "exec_time = end_time - start_time\n",
        "print(f\"Entrenamiento completado en {exec_time:.4f} segundos.\\n\")\n",
        "\n",
        "# Guardado del tiempo en una variable para uso posterior\n",
        "iso_training_duration = exec_time\n",
        "\n",
        "# Predicción de anomalías (1 = valor típico o \"inlier\", -1 = valor atípico o \"outlier\")\n",
        "predictions = iso_forest.predict(redux_feat)\n",
        "\n",
        "# Obtención de las Métricas de las Anomalías\n",
        "anomaly_scores = iso_forest.decision_function(redux_feat)\n",
        "\n",
        "# Despliegue de resultados\n",
        "print(\"Predicciones:\", predictions)\n",
        "print(\"\\nPuntuaciones (Scores) de Anomalías (precisión=4):\")\n",
        "np.set_printoptions(precision=4, suppress=True)\n",
        "print(anomaly_scores)\n",
        "print(\"\\n\")\n",
        "\n",
        "# Conteo del número de atípicos detectados\n",
        "detected_outliers = np.sum(predictions == -1)\n",
        "print(f\"Detected outliers: {detected_outliers} out of {redux_feat.shape[0]}\")"
      ]
    },
    {
      "cell_type": "markdown",
      "id": "99ff0531",
      "metadata": {
        "id": "99ff0531"
      },
      "source": [
        "Para facilitar la visualización de estos resultados, se mapeó cada predicción y su puntaje de anomalía con la instancia a la que corresponden, iniciando en la instancia 0."
      ]
    },
    {
      "cell_type": "code",
      "execution_count": 8,
      "id": "3Nqd0o4dEiWx",
      "metadata": {
        "colab": {
          "base_uri": "https://localhost:8080/"
        },
        "id": "3Nqd0o4dEiWx",
        "outputId": "8b141be0-3477-4a11-d290-dd0af5ca56b1"
      },
      "outputs": [
        {
          "output_type": "stream",
          "name": "stdout",
          "text": [
            "Instancia 0: Predicción = 1, Puntuación de Anomalía = [0.0589]\n",
            "Instancia 1: Predicción = -1, Puntuación de Anomalía = [-0.014]\n",
            "Instancia 2: Predicción = 1, Puntuación de Anomalía = [0.0318]\n",
            "Instancia 3: Predicción = -1, Puntuación de Anomalía = [-0.0176]\n",
            "Instancia 4: Predicción = -1, Puntuación de Anomalía = [-0.0152]\n",
            "Instancia 5: Predicción = 1, Puntuación de Anomalía = [0.0721]\n",
            "Instancia 6: Predicción = -1, Puntuación de Anomalía = [-0.0255]\n",
            "Instancia 7: Predicción = -1, Puntuación de Anomalía = [-0.0112]\n",
            "Instancia 8: Predicción = -1, Puntuación de Anomalía = [-0.0102]\n",
            "Instancia 9: Predicción = 1, Puntuación de Anomalía = [0.0458]\n",
            "Instancia 10: Predicción = -1, Puntuación de Anomalía = [-0.0156]\n",
            "Instancia 11: Predicción = 1, Puntuación de Anomalía = [0.0006]\n",
            "Instancia 12: Predicción = 1, Puntuación de Anomalía = [0.0366]\n",
            "Instancia 13: Predicción = -1, Puntuación de Anomalía = [-0.0381]\n",
            "Instancia 14: Predicción = -1, Puntuación de Anomalía = [-0.0445]\n",
            "Instancia 15: Predicción = 1, Puntuación de Anomalía = [0.0369]\n",
            "Instancia 16: Predicción = 1, Puntuación de Anomalía = [0.0129]\n",
            "Instancia 17: Predicción = -1, Puntuación de Anomalía = [-0.0271]\n",
            "Instancia 18: Predicción = 1, Puntuación de Anomalía = [0.0383]\n",
            "Instancia 19: Predicción = 1, Puntuación de Anomalía = [0.0292]\n",
            "Instancia 20: Predicción = -1, Puntuación de Anomalía = [-0.0181]\n",
            "Instancia 21: Predicción = 1, Puntuación de Anomalía = [0.0263]\n",
            "Instancia 22: Predicción = 1, Puntuación de Anomalía = [0.0473]\n",
            "Instancia 23: Predicción = 1, Puntuación de Anomalía = [0.0167]\n",
            "Instancia 24: Predicción = -1, Puntuación de Anomalía = [-0.0091]\n",
            "Instancia 25: Predicción = -1, Puntuación de Anomalía = [-0.0092]\n",
            "Instancia 26: Predicción = -1, Puntuación de Anomalía = [-0.0396]\n",
            "Instancia 27: Predicción = 1, Puntuación de Anomalía = [0.0327]\n",
            "Instancia 28: Predicción = 1, Puntuación de Anomalía = [0.0015]\n",
            "Instancia 29: Predicción = -1, Puntuación de Anomalía = [-0.0045]\n",
            "Instancia 30: Predicción = 1, Puntuación de Anomalía = [0.0011]\n",
            "Instancia 31: Predicción = -1, Puntuación de Anomalía = [-0.0243]\n",
            "Instancia 32: Predicción = -1, Puntuación de Anomalía = [-0.0057]\n",
            "Instancia 33: Predicción = -1, Puntuación de Anomalía = [-0.0227]\n",
            "Instancia 34: Predicción = -1, Puntuación de Anomalía = [-0.0321]\n",
            "Instancia 35: Predicción = -1, Puntuación de Anomalía = [-0.0053]\n",
            "Instancia 36: Predicción = 1, Puntuación de Anomalía = [0.0371]\n",
            "Instancia 37: Predicción = 1, Puntuación de Anomalía = [0.0516]\n",
            "Instancia 38: Predicción = -1, Puntuación de Anomalía = [-0.0046]\n",
            "Instancia 39: Predicción = 1, Puntuación de Anomalía = [0.0092]\n",
            "Instancia 40: Predicción = -1, Puntuación de Anomalía = [-0.0272]\n",
            "Instancia 41: Predicción = 1, Puntuación de Anomalía = [0.033]\n",
            "Instancia 42: Predicción = 1, Puntuación de Anomalía = [0.03]\n",
            "Instancia 43: Predicción = 1, Puntuación de Anomalía = [0.0077]\n",
            "Instancia 44: Predicción = -1, Puntuación de Anomalía = [-0.0064]\n",
            "Instancia 45: Predicción = -1, Puntuación de Anomalía = [-0.0237]\n",
            "Instancia 46: Predicción = 1, Puntuación de Anomalía = [0.0299]\n",
            "Instancia 47: Predicción = 1, Puntuación de Anomalía = [0.0476]\n",
            "Instancia 48: Predicción = -1, Puntuación de Anomalía = [-0.0219]\n",
            "Instancia 49: Predicción = 1, Puntuación de Anomalía = [0.0482]\n",
            "Instancia 50: Predicción = 1, Puntuación de Anomalía = [0.0026]\n",
            "Instancia 51: Predicción = 1, Puntuación de Anomalía = [0.0082]\n",
            "Instancia 52: Predicción = 1, Puntuación de Anomalía = [0.0574]\n",
            "Instancia 53: Predicción = -1, Puntuación de Anomalía = [-0.0068]\n",
            "Instancia 54: Predicción = 1, Puntuación de Anomalía = [0.0407]\n",
            "Instancia 55: Predicción = 1, Puntuación de Anomalía = [0.0199]\n",
            "Instancia 56: Predicción = -1, Puntuación de Anomalía = [-0.0017]\n",
            "Instancia 57: Predicción = -1, Puntuación de Anomalía = [-0.0252]\n",
            "Instancia 58: Predicción = 1, Puntuación de Anomalía = [0.0496]\n",
            "Instancia 59: Predicción = -1, Puntuación de Anomalía = [-0.0103]\n",
            "Instancia 60: Predicción = -1, Puntuación de Anomalía = [-0.022]\n",
            "Instancia 61: Predicción = -1, Puntuación de Anomalía = [-0.0162]\n",
            "Instancia 62: Predicción = -1, Puntuación de Anomalía = [-0.0098]\n",
            "Instancia 63: Predicción = 1, Puntuación de Anomalía = [0.0489]\n",
            "Instancia 64: Predicción = 1, Puntuación de Anomalía = [0.0062]\n",
            "Instancia 65: Predicción = 1, Puntuación de Anomalía = [0.054]\n",
            "Instancia 66: Predicción = -1, Puntuación de Anomalía = [-0.0148]\n",
            "Instancia 67: Predicción = 1, Puntuación de Anomalía = [0.0541]\n",
            "Instancia 68: Predicción = 1, Puntuación de Anomalía = [0.018]\n",
            "Instancia 69: Predicción = -1, Puntuación de Anomalía = [-0.009]\n",
            "Instancia 70: Predicción = 1, Puntuación de Anomalía = [0.036]\n",
            "Instancia 71: Predicción = -1, Puntuación de Anomalía = [-0.0102]\n",
            "Instancia 72: Predicción = -1, Puntuación de Anomalía = [-0.0186]\n",
            "Instancia 73: Predicción = -1, Puntuación de Anomalía = [-0.0067]\n",
            "Instancia 74: Predicción = -1, Puntuación de Anomalía = [-0.0253]\n",
            "Instancia 75: Predicción = -1, Puntuación de Anomalía = [-0.0153]\n",
            "Instancia 76: Predicción = 1, Puntuación de Anomalía = [0.0407]\n",
            "Instancia 77: Predicción = -1, Puntuación de Anomalía = [-0.0361]\n",
            "Instancia 78: Predicción = -1, Puntuación de Anomalía = [-0.0177]\n",
            "Instancia 79: Predicción = 1, Puntuación de Anomalía = [0.0697]\n",
            "Instancia 80: Predicción = 1, Puntuación de Anomalía = [0.0401]\n",
            "Instancia 81: Predicción = 1, Puntuación de Anomalía = [0.0039]\n",
            "Instancia 82: Predicción = -1, Puntuación de Anomalía = [-0.0022]\n",
            "Instancia 83: Predicción = -1, Puntuación de Anomalía = [-0.0042]\n",
            "Instancia 84: Predicción = 1, Puntuación de Anomalía = [0.0272]\n",
            "Instancia 85: Predicción = -1, Puntuación de Anomalía = [-0.0291]\n",
            "Instancia 86: Predicción = 1, Puntuación de Anomalía = [0.0496]\n",
            "Instancia 87: Predicción = 1, Puntuación de Anomalía = [0.0302]\n",
            "Instancia 88: Predicción = -1, Puntuación de Anomalía = [-0.0301]\n",
            "Instancia 89: Predicción = 1, Puntuación de Anomalía = [0.0124]\n",
            "Instancia 90: Predicción = -1, Puntuación de Anomalía = [-0.0089]\n",
            "Instancia 91: Predicción = -1, Puntuación de Anomalía = [-0.0118]\n",
            "Instancia 92: Predicción = 1, Puntuación de Anomalía = [0.0114]\n",
            "Instancia 93: Predicción = 1, Puntuación de Anomalía = [0.0416]\n",
            "Instancia 94: Predicción = 1, Puntuación de Anomalía = [0.0548]\n",
            "Instancia 95: Predicción = 1, Puntuación de Anomalía = [0.0585]\n",
            "Instancia 96: Predicción = 1, Puntuación de Anomalía = [0.001]\n",
            "Instancia 97: Predicción = 1, Puntuación de Anomalía = [0.0563]\n",
            "Instancia 98: Predicción = -1, Puntuación de Anomalía = [-0.0214]\n",
            "Instancia 99: Predicción = 1, Puntuación de Anomalía = [0.0069]\n",
            "Instancia 100: Predicción = 1, Puntuación de Anomalía = [0.0234]\n",
            "Instancia 101: Predicción = -1, Puntuación de Anomalía = [-0.0012]\n",
            "Instancia 102: Predicción = -1, Puntuación de Anomalía = [-0.0339]\n",
            "Instancia 103: Predicción = 1, Puntuación de Anomalía = [0.0298]\n",
            "Instancia 104: Predicción = -1, Puntuación de Anomalía = [-0.0004]\n",
            "Instancia 105: Predicción = -1, Puntuación de Anomalía = [-0.0144]\n",
            "Instancia 106: Predicción = -1, Puntuación de Anomalía = [-0.0155]\n",
            "Instancia 107: Predicción = -1, Puntuación de Anomalía = [-0.0107]\n",
            "Instancia 108: Predicción = -1, Puntuación de Anomalía = [-0.0308]\n",
            "Instancia 109: Predicción = -1, Puntuación de Anomalía = [-0.0221]\n",
            "Instancia 110: Predicción = 1, Puntuación de Anomalía = [0.041]\n",
            "Instancia 111: Predicción = 1, Puntuación de Anomalía = [0.0222]\n",
            "Instancia 112: Predicción = -1, Puntuación de Anomalía = [-0.038]\n",
            "Instancia 113: Predicción = -1, Puntuación de Anomalía = [-0.0007]\n",
            "Instancia 114: Predicción = -1, Puntuación de Anomalía = [-0.0022]\n",
            "Instancia 115: Predicción = -1, Puntuación de Anomalía = [-0.0318]\n",
            "Instancia 116: Predicción = 1, Puntuación de Anomalía = [0.0453]\n",
            "Instancia 117: Predicción = -1, Puntuación de Anomalía = [-0.0085]\n",
            "Instancia 118: Predicción = 1, Puntuación de Anomalía = [0.0259]\n",
            "Instancia 119: Predicción = 1, Puntuación de Anomalía = [0.0312]\n",
            "Instancia 120: Predicción = -1, Puntuación de Anomalía = [-0.0087]\n",
            "Instancia 121: Predicción = 1, Puntuación de Anomalía = [0.0504]\n",
            "Instancia 122: Predicción = 1, Puntuación de Anomalía = [0.0278]\n",
            "Instancia 123: Predicción = 1, Puntuación de Anomalía = [0.0168]\n",
            "Instancia 124: Predicción = -1, Puntuación de Anomalía = [-0.0038]\n",
            "Instancia 125: Predicción = 1, Puntuación de Anomalía = [0.017]\n",
            "Instancia 126: Predicción = 1, Puntuación de Anomalía = [0.0473]\n",
            "Instancia 127: Predicción = 1, Puntuación de Anomalía = [0.0631]\n",
            "Instancia 128: Predicción = -1, Puntuación de Anomalía = [-0.0049]\n",
            "Instancia 129: Predicción = 1, Puntuación de Anomalía = [0.0215]\n",
            "Instancia 130: Predicción = -1, Puntuación de Anomalía = [-0.0016]\n",
            "Instancia 131: Predicción = 1, Puntuación de Anomalía = [0.0724]\n",
            "Instancia 132: Predicción = -1, Puntuación de Anomalía = [-0.0242]\n",
            "Instancia 133: Predicción = -1, Puntuación de Anomalía = [-0.0299]\n",
            "Instancia 134: Predicción = 1, Puntuación de Anomalía = [0.0366]\n",
            "Instancia 135: Predicción = -1, Puntuación de Anomalía = [-0.0148]\n",
            "Instancia 136: Predicción = 1, Puntuación de Anomalía = [0.0297]\n",
            "Instancia 137: Predicción = -1, Puntuación de Anomalía = [-0.03]\n",
            "Instancia 138: Predicción = -1, Puntuación de Anomalía = [-0.0335]\n",
            "Instancia 139: Predicción = 1, Puntuación de Anomalía = [0.0354]\n",
            "Instancia 140: Predicción = 1, Puntuación de Anomalía = [0.0453]\n",
            "Instancia 141: Predicción = -1, Puntuación de Anomalía = [-0.0148]\n",
            "Instancia 142: Predicción = 1, Puntuación de Anomalía = [0.0034]\n",
            "Instancia 143: Predicción = -1, Puntuación de Anomalía = [-0.0245]\n",
            "Instancia 144: Predicción = -1, Puntuación de Anomalía = [-0.0236]\n",
            "Instancia 145: Predicción = -1, Puntuación de Anomalía = [-0.006]\n",
            "Instancia 146: Predicción = -1, Puntuación de Anomalía = [-0.0267]\n",
            "Instancia 147: Predicción = 1, Puntuación de Anomalía = [0.0732]\n",
            "Instancia 148: Predicción = -1, Puntuación de Anomalía = [-0.0043]\n",
            "Instancia 149: Predicción = -1, Puntuación de Anomalía = [-0.0088]\n",
            "Instancia 150: Predicción = -1, Puntuación de Anomalía = [-0.0103]\n",
            "Instancia 151: Predicción = 1, Puntuación de Anomalía = [0.0609]\n",
            "Instancia 152: Predicción = -1, Puntuación de Anomalía = [-0.0134]\n",
            "Instancia 153: Predicción = 1, Puntuación de Anomalía = [0.001]\n",
            "Instancia 154: Predicción = 1, Puntuación de Anomalía = [0.064]\n",
            "Instancia 155: Predicción = 1, Puntuación de Anomalía = [0.0306]\n",
            "Instancia 156: Predicción = 1, Puntuación de Anomalía = [0.0579]\n",
            "Instancia 157: Predicción = -1, Puntuación de Anomalía = [-0.0199]\n",
            "Instancia 158: Predicción = 1, Puntuación de Anomalía = [0.0298]\n",
            "Instancia 159: Predicción = 1, Puntuación de Anomalía = [0.035]\n",
            "Instancia 160: Predicción = -1, Puntuación de Anomalía = [-0.0288]\n",
            "Instancia 161: Predicción = -1, Puntuación de Anomalía = [-0.0198]\n",
            "Instancia 162: Predicción = -1, Puntuación de Anomalía = [-0.0434]\n",
            "Instancia 163: Predicción = -1, Puntuación de Anomalía = [-0.0191]\n",
            "Instancia 164: Predicción = -1, Puntuación de Anomalía = [-0.0268]\n",
            "Instancia 165: Predicción = 1, Puntuación de Anomalía = [0.0316]\n",
            "Instancia 166: Predicción = 1, Puntuación de Anomalía = [0.0899]\n",
            "Instancia 167: Predicción = -1, Puntuación de Anomalía = [-0.0031]\n",
            "Instancia 168: Predicción = 1, Puntuación de Anomalía = [0.0659]\n",
            "Instancia 169: Predicción = -1, Puntuación de Anomalía = [-0.0067]\n",
            "Instancia 170: Predicción = 1, Puntuación de Anomalía = [0.0285]\n",
            "Instancia 171: Predicción = 1, Puntuación de Anomalía = [0.0096]\n",
            "Instancia 172: Predicción = -1, Puntuación de Anomalía = [-0.0285]\n",
            "Instancia 173: Predicción = 1, Puntuación de Anomalía = [0.031]\n",
            "Instancia 174: Predicción = 1, Puntuación de Anomalía = [0.0207]\n",
            "Instancia 175: Predicción = 1, Puntuación de Anomalía = [0.014]\n",
            "Instancia 176: Predicción = 1, Puntuación de Anomalía = [0.0522]\n",
            "Instancia 177: Predicción = 1, Puntuación de Anomalía = [0.0432]\n",
            "Instancia 178: Predicción = -1, Puntuación de Anomalía = [-0.0266]\n",
            "Instancia 179: Predicción = -1, Puntuación de Anomalía = [-0.0049]\n",
            "Instancia 180: Predicción = -1, Puntuación de Anomalía = [-0.0266]\n",
            "Instancia 181: Predicción = 1, Puntuación de Anomalía = [0.0564]\n",
            "Instancia 182: Predicción = 1, Puntuación de Anomalía = [0.0567]\n",
            "Instancia 183: Predicción = 1, Puntuación de Anomalía = [0.0638]\n",
            "Instancia 184: Predicción = 1, Puntuación de Anomalía = [0.0166]\n",
            "Instancia 185: Predicción = 1, Puntuación de Anomalía = [0.0346]\n",
            "Instancia 186: Predicción = -1, Puntuación de Anomalía = [-0.0194]\n",
            "Instancia 187: Predicción = 1, Puntuación de Anomalía = [0.0273]\n",
            "Instancia 188: Predicción = 1, Puntuación de Anomalía = [0.0099]\n",
            "Instancia 189: Predicción = -1, Puntuación de Anomalía = [-0.0212]\n",
            "Instancia 190: Predicción = 1, Puntuación de Anomalía = [0.0362]\n",
            "Instancia 191: Predicción = -1, Puntuación de Anomalía = [-0.0228]\n",
            "Instancia 192: Predicción = -1, Puntuación de Anomalía = [-0.0311]\n",
            "Instancia 193: Predicción = -1, Puntuación de Anomalía = [-0.0039]\n",
            "Instancia 194: Predicción = 1, Puntuación de Anomalía = [0.0221]\n",
            "Instancia 195: Predicción = 1, Puntuación de Anomalía = [0.0408]\n",
            "Instancia 196: Predicción = 1, Puntuación de Anomalía = [0.0387]\n",
            "Instancia 197: Predicción = -1, Puntuación de Anomalía = [-0.0161]\n",
            "Instancia 198: Predicción = 1, Puntuación de Anomalía = [0.0056]\n",
            "Instancia 199: Predicción = -1, Puntuación de Anomalía = [-0.0106]\n",
            "Instancia 200: Predicción = -1, Puntuación de Anomalía = [-0.04]\n",
            "Instancia 201: Predicción = 1, Puntuación de Anomalía = [0.0398]\n",
            "Instancia 202: Predicción = 1, Puntuación de Anomalía = [0.0241]\n",
            "Instancia 203: Predicción = 1, Puntuación de Anomalía = [0.0332]\n",
            "Instancia 204: Predicción = -1, Puntuación de Anomalía = [-0.0187]\n",
            "Instancia 205: Predicción = 1, Puntuación de Anomalía = [0.0328]\n",
            "Instancia 206: Predicción = 1, Puntuación de Anomalía = [0.0031]\n",
            "Instancia 207: Predicción = 1, Puntuación de Anomalía = [0.0092]\n",
            "Instancia 208: Predicción = -1, Puntuación de Anomalía = [-0.01]\n",
            "Instancia 209: Predicción = 1, Puntuación de Anomalía = [0.0325]\n",
            "Instancia 210: Predicción = 1, Puntuación de Anomalía = [0.0192]\n",
            "Instancia 211: Predicción = 1, Puntuación de Anomalía = [0.0311]\n",
            "Instancia 212: Predicción = -1, Puntuación de Anomalía = [-0.0086]\n",
            "Instancia 213: Predicción = 1, Puntuación de Anomalía = [0.0042]\n",
            "Instancia 214: Predicción = -1, Puntuación de Anomalía = [-0.0282]\n",
            "Instancia 215: Predicción = 1, Puntuación de Anomalía = [0.0339]\n",
            "Instancia 216: Predicción = 1, Puntuación de Anomalía = [0.072]\n",
            "Instancia 217: Predicción = -1, Puntuación de Anomalía = [-0.0204]\n",
            "Instancia 218: Predicción = -1, Puntuación de Anomalía = [-0.0118]\n",
            "Instancia 219: Predicción = 1, Puntuación de Anomalía = [0.0579]\n",
            "Instancia 220: Predicción = 1, Puntuación de Anomalía = [0.0185]\n",
            "Instancia 221: Predicción = -1, Puntuación de Anomalía = [-0.0317]\n",
            "Instancia 222: Predicción = 1, Puntuación de Anomalía = [0.0015]\n",
            "Instancia 223: Predicción = -1, Puntuación de Anomalía = [-0.0107]\n",
            "Instancia 224: Predicción = -1, Puntuación de Anomalía = [-0.0173]\n",
            "Instancia 225: Predicción = -1, Puntuación de Anomalía = [-0.019]\n",
            "Instancia 226: Predicción = -1, Puntuación de Anomalía = [-0.0055]\n",
            "Instancia 227: Predicción = 1, Puntuación de Anomalía = [0.0083]\n",
            "Instancia 228: Predicción = 1, Puntuación de Anomalía = [0.0296]\n",
            "Instancia 229: Predicción = -1, Puntuación de Anomalía = [-0.03]\n",
            "Instancia 230: Predicción = -1, Puntuación de Anomalía = [-0.0196]\n",
            "Instancia 231: Predicción = -1, Puntuación de Anomalía = [-0.02]\n",
            "Instancia 232: Predicción = 1, Puntuación de Anomalía = [0.0539]\n",
            "Instancia 233: Predicción = -1, Puntuación de Anomalía = [-0.0157]\n",
            "Instancia 234: Predicción = 1, Puntuación de Anomalía = [0.0101]\n",
            "Instancia 235: Predicción = -1, Puntuación de Anomalía = [-0.0136]\n",
            "Instancia 236: Predicción = 1, Puntuación de Anomalía = [0.0198]\n",
            "Instancia 237: Predicción = 1, Puntuación de Anomalía = [0.02]\n",
            "Instancia 238: Predicción = 1, Puntuación de Anomalía = [0.0038]\n",
            "Instancia 239: Predicción = 1, Puntuación de Anomalía = [0.0571]\n",
            "Instancia 240: Predicción = 1, Puntuación de Anomalía = [0.0628]\n",
            "Instancia 241: Predicción = -1, Puntuación de Anomalía = [-0.0024]\n",
            "Instancia 242: Predicción = -1, Puntuación de Anomalía = [-0.021]\n",
            "Instancia 243: Predicción = -1, Puntuación de Anomalía = [-0.0147]\n",
            "Instancia 244: Predicción = -1, Puntuación de Anomalía = [-0.0077]\n",
            "Instancia 245: Predicción = 1, Puntuación de Anomalía = [0.0164]\n",
            "Instancia 246: Predicción = -1, Puntuación de Anomalía = [-0.0141]\n",
            "Instancia 247: Predicción = 1, Puntuación de Anomalía = [0.0506]\n",
            "Instancia 248: Predicción = 1, Puntuación de Anomalía = [0.0042]\n",
            "Instancia 249: Predicción = 1, Puntuación de Anomalía = [0.0549]\n",
            "Instancia 250: Predicción = -1, Puntuación de Anomalía = [-0.0153]\n",
            "Instancia 251: Predicción = 1, Puntuación de Anomalía = [0.0044]\n",
            "Instancia 252: Predicción = 1, Puntuación de Anomalía = [0.0057]\n",
            "Instancia 253: Predicción = -1, Puntuación de Anomalía = [-0.0227]\n",
            "Instancia 254: Predicción = -1, Puntuación de Anomalía = [-0.0129]\n",
            "Instancia 255: Predicción = -1, Puntuación de Anomalía = [-0.0482]\n",
            "Instancia 256: Predicción = -1, Puntuación de Anomalía = [-0.0119]\n",
            "Instancia 257: Predicción = 1, Puntuación de Anomalía = [0.0061]\n",
            "Instancia 258: Predicción = 1, Puntuación de Anomalía = [0.0271]\n",
            "Instancia 259: Predicción = -1, Puntuación de Anomalía = [-0.0034]\n",
            "Instancia 260: Predicción = 1, Puntuación de Anomalía = [0.0066]\n",
            "Instancia 261: Predicción = 1, Puntuación de Anomalía = [0.0211]\n",
            "Instancia 262: Predicción = 1, Puntuación de Anomalía = [0.0226]\n",
            "Instancia 263: Predicción = -1, Puntuación de Anomalía = [-0.0119]\n",
            "Instancia 264: Predicción = 1, Puntuación de Anomalía = [0.044]\n",
            "Instancia 265: Predicción = 1, Puntuación de Anomalía = [0.0358]\n",
            "Instancia 266: Predicción = 1, Puntuación de Anomalía = [0.0165]\n",
            "Instancia 267: Predicción = -1, Puntuación de Anomalía = [-0.01]\n",
            "Instancia 268: Predicción = -1, Puntuación de Anomalía = [-0.0273]\n",
            "Instancia 269: Predicción = -1, Puntuación de Anomalía = [-0.0128]\n",
            "Instancia 270: Predicción = -1, Puntuación de Anomalía = [-0.0233]\n",
            "Instancia 271: Predicción = -1, Puntuación de Anomalía = [-0.0141]\n",
            "Instancia 272: Predicción = -1, Puntuación de Anomalía = [-0.0054]\n",
            "Instancia 273: Predicción = -1, Puntuación de Anomalía = [-0.0137]\n",
            "Instancia 274: Predicción = -1, Puntuación de Anomalía = [-0.0091]\n",
            "Instancia 275: Predicción = -1, Puntuación de Anomalía = [-0.0201]\n",
            "Instancia 276: Predicción = -1, Puntuación de Anomalía = [-0.015]\n",
            "Instancia 277: Predicción = -1, Puntuación de Anomalía = [-0.0167]\n",
            "Instancia 278: Predicción = -1, Puntuación de Anomalía = [-0.0102]\n",
            "Instancia 279: Predicción = -1, Puntuación de Anomalía = [-0.0073]\n",
            "Instancia 280: Predicción = -1, Puntuación de Anomalía = [-0.0378]\n",
            "Instancia 281: Predicción = -1, Puntuación de Anomalía = [-0.01]\n",
            "Instancia 282: Predicción = -1, Puntuación de Anomalía = [-0.0037]\n",
            "Instancia 283: Predicción = -1, Puntuación de Anomalía = [-0.009]\n",
            "Instancia 284: Predicción = -1, Puntuación de Anomalía = [-0.0047]\n",
            "Instancia 285: Predicción = -1, Puntuación de Anomalía = [-0.0013]\n",
            "Instancia 286: Predicción = 1, Puntuación de Anomalía = [0.0148]\n",
            "Instancia 287: Predicción = -1, Puntuación de Anomalía = [-0.0197]\n",
            "Instancia 288: Predicción = -1, Puntuación de Anomalía = [-0.0035]\n",
            "Instancia 289: Predicción = -1, Puntuación de Anomalía = [-0.0101]\n",
            "Instancia 290: Predicción = -1, Puntuación de Anomalía = [-0.0193]\n",
            "Instancia 291: Predicción = -1, Puntuación de Anomalía = [-0.0208]\n",
            "Instancia 292: Predicción = -1, Puntuación de Anomalía = [-0.0248]\n",
            "Instancia 293: Predicción = -1, Puntuación de Anomalía = [-0.0253]\n",
            "Instancia 294: Predicción = -1, Puntuación de Anomalía = [-0.0343]\n",
            "Instancia 295: Predicción = -1, Puntuación de Anomalía = [-0.0082]\n",
            "Instancia 296: Predicción = 1, Puntuación de Anomalía = [0.0061]\n",
            "Instancia 297: Predicción = 1, Puntuación de Anomalía = [0.006]\n",
            "Instancia 298: Predicción = -1, Puntuación de Anomalía = [-0.0175]\n",
            "Instancia 299: Predicción = -1, Puntuación de Anomalía = [-0.0218]\n",
            "Instancia 300: Predicción = -1, Puntuación de Anomalía = [-0.0175]\n",
            "Instancia 301: Predicción = -1, Puntuación de Anomalía = [-0.0046]\n",
            "Instancia 302: Predicción = -1, Puntuación de Anomalía = [-0.0258]\n",
            "Instancia 303: Predicción = -1, Puntuación de Anomalía = [-0.0093]\n",
            "Instancia 304: Predicción = 1, Puntuación de Anomalía = [0.0166]\n",
            "Instancia 305: Predicción = -1, Puntuación de Anomalía = [-0.026]\n",
            "Instancia 306: Predicción = 1, Puntuación de Anomalía = [0.032]\n",
            "Instancia 307: Predicción = 1, Puntuación de Anomalía = [0.0203]\n",
            "Instancia 308: Predicción = 1, Puntuación de Anomalía = [0.0056]\n",
            "Instancia 309: Predicción = 1, Puntuación de Anomalía = [0.0389]\n",
            "Instancia 310: Predicción = -1, Puntuación de Anomalía = [-0.0194]\n",
            "Instancia 311: Predicción = -1, Puntuación de Anomalía = [-0.0148]\n",
            "Instancia 312: Predicción = -1, Puntuación de Anomalía = [-0.0094]\n",
            "Instancia 313: Predicción = -1, Puntuación de Anomalía = [-0.006]\n",
            "Instancia 314: Predicción = -1, Puntuación de Anomalía = [-0.0033]\n",
            "Instancia 315: Predicción = 1, Puntuación de Anomalía = [0.0171]\n",
            "Instancia 316: Predicción = -1, Puntuación de Anomalía = [-0.0034]\n",
            "Instancia 317: Predicción = 1, Puntuación de Anomalía = [0.0224]\n",
            "Instancia 318: Predicción = -1, Puntuación de Anomalía = [-0.013]\n",
            "Instancia 319: Predicción = -1, Puntuación de Anomalía = [-0.0196]\n",
            "Instancia 320: Predicción = 1, Puntuación de Anomalía = [0.0105]\n",
            "Instancia 321: Predicción = 1, Puntuación de Anomalía = [0.0289]\n",
            "Instancia 322: Predicción = -1, Puntuación de Anomalía = [-0.0355]\n",
            "Instancia 323: Predicción = -1, Puntuación de Anomalía = [-0.0398]\n",
            "Instancia 324: Predicción = -1, Puntuación de Anomalía = [-0.0268]\n",
            "Instancia 325: Predicción = 1, Puntuación de Anomalía = [0.0394]\n",
            "Instancia 326: Predicción = -1, Puntuación de Anomalía = [-0.0054]\n",
            "Instancia 327: Predicción = 1, Puntuación de Anomalía = [0.064]\n",
            "Instancia 328: Predicción = 1, Puntuación de Anomalía = [0.003]\n",
            "Instancia 329: Predicción = 1, Puntuación de Anomalía = [0.0753]\n",
            "Instancia 330: Predicción = 1, Puntuación de Anomalía = [0.0299]\n",
            "Instancia 331: Predicción = 1, Puntuación de Anomalía = [0.0239]\n",
            "Instancia 332: Predicción = 1, Puntuación de Anomalía = [0.0517]\n",
            "Instancia 333: Predicción = -1, Puntuación de Anomalía = [-0.0037]\n",
            "Instancia 334: Predicción = -1, Puntuación de Anomalía = [-0.0057]\n",
            "Instancia 335: Predicción = -1, Puntuación de Anomalía = [-0.0254]\n",
            "Instancia 336: Predicción = 1, Puntuación de Anomalía = [0.059]\n",
            "Instancia 337: Predicción = 1, Puntuación de Anomalía = [0.0169]\n",
            "Instancia 338: Predicción = -1, Puntuación de Anomalía = [-0.03]\n",
            "Instancia 339: Predicción = 1, Puntuación de Anomalía = [0.0016]\n",
            "Instancia 340: Predicción = 1, Puntuación de Anomalía = [0.0237]\n",
            "Instancia 341: Predicción = 1, Puntuación de Anomalía = [0.0176]\n",
            "Instancia 342: Predicción = 1, Puntuación de Anomalía = [0.0052]\n",
            "Instancia 343: Predicción = -1, Puntuación de Anomalía = [-0.0217]\n",
            "Instancia 344: Predicción = 1, Puntuación de Anomalía = [0.0549]\n",
            "Instancia 345: Predicción = 1, Puntuación de Anomalía = [0.0373]\n",
            "Instancia 346: Predicción = 1, Puntuación de Anomalía = [0.0017]\n",
            "Instancia 347: Predicción = 1, Puntuación de Anomalía = [0.063]\n",
            "Instancia 348: Predicción = 1, Puntuación de Anomalía = [0.0213]\n",
            "Instancia 349: Predicción = -1, Puntuación de Anomalía = [-0.0051]\n",
            "Instancia 350: Predicción = 1, Puntuación de Anomalía = [0.0202]\n",
            "Instancia 351: Predicción = 1, Puntuación de Anomalía = [0.0341]\n",
            "Instancia 352: Predicción = -1, Puntuación de Anomalía = [-0.0124]\n",
            "Instancia 353: Predicción = 1, Puntuación de Anomalía = [0.0646]\n",
            "Instancia 354: Predicción = -1, Puntuación de Anomalía = [-0.0209]\n",
            "Instancia 355: Predicción = 1, Puntuación de Anomalía = [0.046]\n",
            "Instancia 356: Predicción = -1, Puntuación de Anomalía = [-0.0342]\n",
            "Instancia 357: Predicción = 1, Puntuación de Anomalía = [0.0503]\n",
            "Instancia 358: Predicción = 1, Puntuación de Anomalía = [0.0238]\n",
            "Instancia 359: Predicción = -1, Puntuación de Anomalía = [-0.0154]\n",
            "Instancia 360: Predicción = -1, Puntuación de Anomalía = [-0.017]\n",
            "Instancia 361: Predicción = 1, Puntuación de Anomalía = [0.0678]\n",
            "Instancia 362: Predicción = -1, Puntuación de Anomalía = [-0.0138]\n",
            "Instancia 363: Predicción = -1, Puntuación de Anomalía = [-0.0099]\n",
            "Instancia 364: Predicción = 1, Puntuación de Anomalía = [0.0268]\n",
            "Instancia 365: Predicción = 1, Puntuación de Anomalía = [0.0338]\n",
            "Instancia 366: Predicción = 1, Puntuación de Anomalía = [0.0267]\n",
            "Instancia 367: Predicción = 1, Puntuación de Anomalía = [0.0019]\n",
            "Instancia 368: Predicción = 1, Puntuación de Anomalía = [0.0588]\n",
            "Instancia 369: Predicción = 1, Puntuación de Anomalía = [0.0238]\n",
            "Instancia 370: Predicción = 1, Puntuación de Anomalía = [0.0377]\n",
            "Instancia 371: Predicción = 1, Puntuación de Anomalía = [0.0279]\n",
            "Instancia 372: Predicción = 1, Puntuación de Anomalía = [0.0145]\n",
            "Instancia 373: Predicción = 1, Puntuación de Anomalía = [0.0023]\n",
            "Instancia 374: Predicción = 1, Puntuación de Anomalía = [0.0662]\n",
            "Instancia 375: Predicción = -1, Puntuación de Anomalía = [-0.0069]\n",
            "Instancia 376: Predicción = 1, Puntuación de Anomalía = [0.0064]\n",
            "Instancia 377: Predicción = 1, Puntuación de Anomalía = [0.0129]\n",
            "Instancia 378: Predicción = 1, Puntuación de Anomalía = [0.059]\n",
            "Instancia 379: Predicción = 1, Puntuación de Anomalía = [0.0417]\n",
            "Instancia 380: Predicción = 1, Puntuación de Anomalía = [0.037]\n",
            "Instancia 381: Predicción = 1, Puntuación de Anomalía = [0.0563]\n",
            "Instancia 382: Predicción = 1, Puntuación de Anomalía = [0.0012]\n",
            "Instancia 383: Predicción = 1, Puntuación de Anomalía = [0.0392]\n",
            "Instancia 384: Predicción = 1, Puntuación de Anomalía = [0.0505]\n",
            "Instancia 385: Predicción = 1, Puntuación de Anomalía = [0.0317]\n",
            "Instancia 386: Predicción = 1, Puntuación de Anomalía = [0.0522]\n",
            "Instancia 387: Predicción = 1, Puntuación de Anomalía = [0.0147]\n",
            "Instancia 388: Predicción = 1, Puntuación de Anomalía = [0.0472]\n",
            "Instancia 389: Predicción = 1, Puntuación de Anomalía = [0.0677]\n",
            "Instancia 390: Predicción = 1, Puntuación de Anomalía = [0.0448]\n",
            "Instancia 391: Predicción = 1, Puntuación de Anomalía = [0.0556]\n",
            "Instancia 392: Predicción = 1, Puntuación de Anomalía = [0.047]\n",
            "Instancia 393: Predicción = 1, Puntuación de Anomalía = [0.0343]\n",
            "Instancia 394: Predicción = 1, Puntuación de Anomalía = [0.0261]\n",
            "Instancia 395: Predicción = 1, Puntuación de Anomalía = [0.0101]\n",
            "Instancia 396: Predicción = 1, Puntuación de Anomalía = [0.047]\n",
            "Instancia 397: Predicción = 1, Puntuación de Anomalía = [0.044]\n",
            "Instancia 398: Predicción = 1, Puntuación de Anomalía = [0.048]\n",
            "Instancia 399: Predicción = 1, Puntuación de Anomalía = [0.0517]\n",
            "Instancia 400: Predicción = 1, Puntuación de Anomalía = [0.0215]\n",
            "Instancia 401: Predicción = 1, Puntuación de Anomalía = [0.0308]\n",
            "Instancia 402: Predicción = 1, Puntuación de Anomalía = [0.047]\n",
            "Instancia 403: Predicción = 1, Puntuación de Anomalía = [0.0637]\n",
            "Instancia 404: Predicción = 1, Puntuación de Anomalía = [0.0194]\n",
            "Instancia 405: Predicción = 1, Puntuación de Anomalía = [0.0414]\n",
            "Instancia 406: Predicción = 1, Puntuación de Anomalía = [0.028]\n",
            "Instancia 407: Predicción = 1, Puntuación de Anomalía = [0.0132]\n",
            "Instancia 408: Predicción = 1, Puntuación de Anomalía = [0.0429]\n",
            "Instancia 409: Predicción = 1, Puntuación de Anomalía = [0.02]\n",
            "Instancia 410: Predicción = 1, Puntuación de Anomalía = [0.0231]\n",
            "Instancia 411: Predicción = 1, Puntuación de Anomalía = [0.0622]\n",
            "Instancia 412: Predicción = 1, Puntuación de Anomalía = [0.0226]\n",
            "Instancia 413: Predicción = 1, Puntuación de Anomalía = [0.0492]\n",
            "Instancia 414: Predicción = 1, Puntuación de Anomalía = [0.0327]\n",
            "Instancia 415: Predicción = 1, Puntuación de Anomalía = [0.0188]\n",
            "Instancia 416: Predicción = 1, Puntuación de Anomalía = [0.026]\n",
            "Instancia 417: Predicción = 1, Puntuación de Anomalía = [0.0431]\n",
            "Instancia 418: Predicción = 1, Puntuación de Anomalía = [0.0673]\n",
            "Instancia 419: Predicción = 1, Puntuación de Anomalía = [0.0522]\n",
            "Instancia 420: Predicción = 1, Puntuación de Anomalía = [0.0673]\n",
            "Instancia 421: Predicción = 1, Puntuación de Anomalía = [0.0535]\n",
            "Instancia 422: Predicción = 1, Puntuación de Anomalía = [0.0241]\n",
            "Instancia 423: Predicción = 1, Puntuación de Anomalía = [0.0531]\n",
            "Instancia 424: Predicción = 1, Puntuación de Anomalía = [0.0508]\n",
            "Instancia 425: Predicción = 1, Puntuación de Anomalía = [0.0545]\n",
            "Instancia 426: Predicción = 1, Puntuación de Anomalía = [0.0291]\n",
            "Instancia 427: Predicción = 1, Puntuación de Anomalía = [0.0211]\n",
            "Instancia 428: Predicción = 1, Puntuación de Anomalía = [0.0234]\n",
            "Instancia 429: Predicción = 1, Puntuación de Anomalía = [0.047]\n",
            "Instancia 430: Predicción = 1, Puntuación de Anomalía = [0.0483]\n",
            "Instancia 431: Predicción = 1, Puntuación de Anomalía = [0.0243]\n",
            "Instancia 432: Predicción = 1, Puntuación de Anomalía = [0.0308]\n",
            "Instancia 433: Predicción = 1, Puntuación de Anomalía = [0.0429]\n",
            "Instancia 434: Predicción = 1, Puntuación de Anomalía = [0.0242]\n",
            "Instancia 435: Predicción = 1, Puntuación de Anomalía = [0.0276]\n",
            "Instancia 436: Predicción = 1, Puntuación de Anomalía = [0.0485]\n",
            "Instancia 437: Predicción = 1, Puntuación de Anomalía = [0.0177]\n",
            "Instancia 438: Predicción = 1, Puntuación de Anomalía = [0.0382]\n",
            "Instancia 439: Predicción = 1, Puntuación de Anomalía = [0.0283]\n",
            "Instancia 440: Predicción = 1, Puntuación de Anomalía = [0.054]\n",
            "Instancia 441: Predicción = 1, Puntuación de Anomalía = [0.0677]\n",
            "Instancia 442: Predicción = 1, Puntuación de Anomalía = [0.0282]\n",
            "Instancia 443: Predicción = 1, Puntuación de Anomalía = [0.073]\n",
            "Instancia 444: Predicción = 1, Puntuación de Anomalía = [0.0736]\n",
            "Instancia 445: Predicción = 1, Puntuación de Anomalía = [0.0514]\n",
            "Instancia 446: Predicción = 1, Puntuación de Anomalía = [0.0448]\n",
            "Instancia 447: Predicción = 1, Puntuación de Anomalía = [0.0539]\n",
            "Instancia 448: Predicción = 1, Puntuación de Anomalía = [0.0207]\n",
            "Instancia 449: Predicción = 1, Puntuación de Anomalía = [0.0552]\n",
            "Instancia 450: Predicción = 1, Puntuación de Anomalía = [0.0462]\n",
            "Instancia 451: Predicción = 1, Puntuación de Anomalía = [0.016]\n",
            "Instancia 452: Predicción = 1, Puntuación de Anomalía = [0.0543]\n",
            "Instancia 453: Predicción = 1, Puntuación de Anomalía = [0.0313]\n",
            "Instancia 454: Predicción = 1, Puntuación de Anomalía = [0.0677]\n",
            "Instancia 455: Predicción = 1, Puntuación de Anomalía = [0.0638]\n",
            "Instancia 456: Predicción = 1, Puntuación de Anomalía = [0.0251]\n",
            "Instancia 457: Predicción = 1, Puntuación de Anomalía = [0.0502]\n",
            "Instancia 458: Predicción = 1, Puntuación de Anomalía = [0.0355]\n",
            "Instancia 459: Predicción = 1, Puntuación de Anomalía = [0.0175]\n",
            "Instancia 460: Predicción = 1, Puntuación de Anomalía = [0.0502]\n",
            "Instancia 461: Predicción = 1, Puntuación de Anomalía = [0.0385]\n",
            "Instancia 462: Predicción = 1, Puntuación de Anomalía = [0.0171]\n",
            "Instancia 463: Predicción = 1, Puntuación de Anomalía = [0.0472]\n",
            "Instancia 464: Predicción = 1, Puntuación de Anomalía = [0.0544]\n",
            "Instancia 465: Predicción = 1, Puntuación de Anomalía = [0.0488]\n",
            "Instancia 466: Predicción = 1, Puntuación de Anomalía = [0.0225]\n",
            "Instancia 467: Predicción = 1, Puntuación de Anomalía = [0.0475]\n",
            "Instancia 468: Predicción = 1, Puntuación de Anomalía = [0.0468]\n",
            "Instancia 469: Predicción = 1, Puntuación de Anomalía = [0.0395]\n",
            "Instancia 470: Predicción = 1, Puntuación de Anomalía = [0.0442]\n",
            "Instancia 471: Predicción = 1, Puntuación de Anomalía = [0.0501]\n",
            "Instancia 472: Predicción = 1, Puntuación de Anomalía = [0.008]\n",
            "Instancia 473: Predicción = 1, Puntuación de Anomalía = [0.02]\n",
            "Instancia 474: Predicción = 1, Puntuación de Anomalía = [0.0418]\n",
            "Instancia 475: Predicción = 1, Puntuación de Anomalía = [0.0312]\n",
            "Instancia 476: Predicción = 1, Puntuación de Anomalía = [0.0392]\n",
            "Instancia 477: Predicción = 1, Puntuación de Anomalía = [0.0226]\n",
            "Instancia 478: Predicción = 1, Puntuación de Anomalía = [0.0165]\n",
            "Instancia 479: Predicción = 1, Puntuación de Anomalía = [0.0426]\n",
            "Instancia 480: Predicción = 1, Puntuación de Anomalía = [0.0189]\n",
            "Instancia 481: Predicción = 1, Puntuación de Anomalía = [0.0618]\n",
            "Instancia 482: Predicción = 1, Puntuación de Anomalía = [0.0483]\n",
            "Instancia 483: Predicción = 1, Puntuación de Anomalía = [0.0083]\n",
            "Instancia 484: Predicción = 1, Puntuación de Anomalía = [0.0429]\n",
            "Instancia 485: Predicción = 1, Puntuación de Anomalía = [0.0523]\n",
            "Instancia 486: Predicción = 1, Puntuación de Anomalía = [0.0495]\n",
            "Instancia 487: Predicción = 1, Puntuación de Anomalía = [0.0259]\n",
            "Instancia 488: Predicción = 1, Puntuación de Anomalía = [0.0261]\n",
            "Instancia 489: Predicción = 1, Puntuación de Anomalía = [0.0671]\n",
            "Instancia 490: Predicción = 1, Puntuación de Anomalía = [0.0277]\n",
            "Instancia 491: Predicción = 1, Puntuación de Anomalía = [0.0279]\n",
            "Instancia 492: Predicción = 1, Puntuación de Anomalía = [0.0628]\n",
            "Instancia 493: Predicción = 1, Puntuación de Anomalía = [0.0437]\n",
            "Instancia 494: Predicción = 1, Puntuación de Anomalía = [0.073]\n",
            "Instancia 495: Predicción = 1, Puntuación de Anomalía = [0.0213]\n",
            "Instancia 496: Predicción = 1, Puntuación de Anomalía = [0.0305]\n",
            "Instancia 497: Predicción = 1, Puntuación de Anomalía = [0.0545]\n",
            "Instancia 498: Predicción = 1, Puntuación de Anomalía = [0.0223]\n",
            "Instancia 499: Predicción = 1, Puntuación de Anomalía = [0.0342]\n",
            "Instancia 500: Predicción = 1, Puntuación de Anomalía = [0.0251]\n",
            "Instancia 501: Predicción = 1, Puntuación de Anomalía = [0.0217]\n",
            "Instancia 502: Predicción = 1, Puntuación de Anomalía = [0.0506]\n",
            "Instancia 503: Predicción = 1, Puntuación de Anomalía = [0.0059]\n",
            "Instancia 504: Predicción = 1, Puntuación de Anomalía = [0.0547]\n",
            "Instancia 505: Predicción = 1, Puntuación de Anomalía = [0.0317]\n",
            "Instancia 506: Predicción = 1, Puntuación de Anomalía = [0.0236]\n",
            "Instancia 507: Predicción = 1, Puntuación de Anomalía = [0.0131]\n",
            "Instancia 508: Predicción = 1, Puntuación de Anomalía = [0.0632]\n",
            "Instancia 509: Predicción = 1, Puntuación de Anomalía = [0.0297]\n",
            "Instancia 510: Predicción = 1, Puntuación de Anomalía = [0.0192]\n",
            "Instancia 511: Predicción = 1, Puntuación de Anomalía = [0.029]\n",
            "Instancia 512: Predicción = 1, Puntuación de Anomalía = [0.0425]\n",
            "Instancia 513: Predicción = 1, Puntuación de Anomalía = [0.047]\n",
            "Instancia 514: Predicción = 1, Puntuación de Anomalía = [0.0501]\n",
            "Instancia 515: Predicción = 1, Puntuación de Anomalía = [0.0555]\n",
            "Instancia 516: Predicción = 1, Puntuación de Anomalía = [0.0473]\n",
            "Instancia 517: Predicción = 1, Puntuación de Anomalía = [0.0016]\n",
            "Instancia 518: Predicción = 1, Puntuación de Anomalía = [0.0171]\n",
            "Instancia 519: Predicción = 1, Puntuación de Anomalía = [0.0002]\n",
            "Instancia 520: Predicción = 1, Puntuación de Anomalía = [0.0167]\n",
            "Instancia 521: Predicción = 1, Puntuación de Anomalía = [0.0434]\n",
            "Instancia 522: Predicción = 1, Puntuación de Anomalía = [0.0538]\n",
            "Instancia 523: Predicción = 1, Puntuación de Anomalía = [0.0677]\n",
            "Instancia 524: Predicción = 1, Puntuación de Anomalía = [0.068]\n",
            "Instancia 525: Predicción = 1, Puntuación de Anomalía = [0.0443]\n",
            "Instancia 526: Predicción = 1, Puntuación de Anomalía = [0.0277]\n",
            "Instancia 527: Predicción = 1, Puntuación de Anomalía = [0.024]\n",
            "Instancia 528: Predicción = 1, Puntuación de Anomalía = [0.0531]\n",
            "Instancia 529: Predicción = 1, Puntuación de Anomalía = [0.0193]\n",
            "Instancia 530: Predicción = 1, Puntuación de Anomalía = [0.013]\n",
            "Instancia 531: Predicción = 1, Puntuación de Anomalía = [0.0494]\n",
            "Instancia 532: Predicción = 1, Puntuación de Anomalía = [0.0076]\n",
            "Instancia 533: Predicción = 1, Puntuación de Anomalía = [0.0325]\n",
            "Instancia 534: Predicción = 1, Puntuación de Anomalía = [0.0232]\n",
            "Instancia 535: Predicción = 1, Puntuación de Anomalía = [0.0432]\n",
            "Instancia 536: Predicción = 1, Puntuación de Anomalía = [0.0239]\n",
            "Instancia 537: Predicción = 1, Puntuación de Anomalía = [0.068]\n",
            "Instancia 538: Predicción = 1, Puntuación de Anomalía = [0.0677]\n",
            "Instancia 539: Predicción = 1, Puntuación de Anomalía = [0.0667]\n",
            "Instancia 540: Predicción = 1, Puntuación de Anomalía = [0.0452]\n",
            "Instancia 541: Predicción = 1, Puntuación de Anomalía = [0.0183]\n",
            "Instancia 542: Predicción = 1, Puntuación de Anomalía = [0.026]\n",
            "Instancia 543: Predicción = 1, Puntuación de Anomalía = [0.0447]\n",
            "Instancia 544: Predicción = 1, Puntuación de Anomalía = [0.0666]\n",
            "Instancia 545: Predicción = 1, Puntuación de Anomalía = [0.0659]\n",
            "Instancia 546: Predicción = 1, Puntuación de Anomalía = [0.0475]\n",
            "Instancia 547: Predicción = 1, Puntuación de Anomalía = [0.0677]\n",
            "Instancia 548: Predicción = 1, Puntuación de Anomalía = [0.049]\n",
            "Instancia 549: Predicción = 1, Puntuación de Anomalía = [0.0287]\n",
            "Instancia 550: Predicción = 1, Puntuación de Anomalía = [0.0643]\n",
            "Instancia 551: Predicción = 1, Puntuación de Anomalía = [0.0475]\n",
            "Instancia 552: Predicción = 1, Puntuación de Anomalía = [0.0304]\n",
            "Instancia 553: Predicción = 1, Puntuación de Anomalía = [0.0426]\n",
            "Instancia 554: Predicción = 1, Puntuación de Anomalía = [0.0533]\n",
            "Instancia 555: Predicción = 1, Puntuación de Anomalía = [0.0349]\n",
            "Instancia 556: Predicción = 1, Puntuación de Anomalía = [0.0567]\n",
            "Instancia 557: Predicción = 1, Puntuación de Anomalía = [0.0108]\n",
            "Instancia 558: Predicción = 1, Puntuación de Anomalía = [0.0266]\n",
            "Instancia 559: Predicción = 1, Puntuación de Anomalía = [0.0215]\n",
            "Instancia 560: Predicción = 1, Puntuación de Anomalía = [0.0222]\n",
            "Instancia 561: Predicción = 1, Puntuación de Anomalía = [0.0549]\n",
            "Instancia 562: Predicción = 1, Puntuación de Anomalía = [0.0297]\n",
            "Instancia 563: Predicción = 1, Puntuación de Anomalía = [0.0426]\n",
            "Instancia 564: Predicción = 1, Puntuación de Anomalía = [0.0136]\n",
            "Instancia 565: Predicción = 1, Puntuación de Anomalía = [0.0457]\n",
            "Instancia 566: Predicción = 1, Puntuación de Anomalía = [0.0368]\n",
            "Instancia 567: Predicción = 1, Puntuación de Anomalía = [0.0487]\n",
            "Instancia 568: Predicción = 1, Puntuación de Anomalía = [0.0249]\n",
            "Instancia 569: Predicción = 1, Puntuación de Anomalía = [0.0508]\n"
          ]
        }
      ],
      "source": [
        "# Mapeo de las instancias que corresponden a anomalías\n",
        "for i, (pred, score) in enumerate(zip(predictions, anomaly_scores)):\n",
        "  print(f\"Instancia {i}: Predicción = {pred}, Puntuación de Anomalía = {np.array2string(np.array([score]), precision=4, suppress_small=True)}\")"
      ]
    },
    {
      "cell_type": "markdown",
      "id": "384f6c76",
      "metadata": {
        "id": "384f6c76"
      },
      "source": [
        "Además de lo anterior, se imprimen las predicciones que fueron detectadas como anomalías, así como la cantidad de anomalías predichas.\n",
        "\n",
        "Complementariamente, se visualizan los cálculos de gradientes de cada una de las instancias a las que corresponden. Esto se lleva a cabo para poder visualizar las zonas en las que fueron detectados los puntos con valores atípicos en el conjunto de todos los posibles datos."
      ]
    },
    {
      "cell_type": "code",
      "execution_count": 9,
      "id": "xBnEVty4Sf4T",
      "metadata": {
        "colab": {
          "base_uri": "https://localhost:8080/"
        },
        "id": "xBnEVty4Sf4T",
        "outputId": "a900bce7-88c1-4bd7-e562-50a979258e71"
      },
      "outputs": [
        {
          "output_type": "stream",
          "name": "stdout",
          "text": [
            "Instancias de Anomalías: [1, 3, 4, 6, 7, 8, 10, 13, 14, 17, 20, 24, 25, 26, 29, 31, 32, 33, 34, 35, 38, 40, 44, 45, 48, 53, 56, 57, 59, 60, 61, 62, 66, 69, 71, 72, 73, 74, 75, 77, 78, 82, 83, 85, 88, 90, 91, 98, 101, 102, 104, 105, 106, 107, 108, 109, 112, 113, 114, 115, 117, 120, 124, 128, 130, 132, 133, 135, 137, 138, 141, 143, 144, 145, 146, 148, 149, 150, 152, 157, 160, 161, 162, 163, 164, 167, 169, 172, 178, 179, 180, 186, 189, 191, 192, 193, 197, 199, 200, 204, 208, 212, 214, 217, 218, 221, 223, 224, 225, 226, 229, 230, 231, 233, 235, 241, 242, 243, 244, 246, 250, 253, 254, 255, 256, 259, 263, 267, 268, 269, 270, 271, 272, 273, 274, 275, 276, 277, 278, 279, 280, 281, 282, 283, 284, 285, 287, 288, 289, 290, 291, 292, 293, 294, 295, 298, 299, 300, 301, 302, 303, 305, 310, 311, 312, 313, 314, 316, 318, 319, 322, 323, 324, 326, 333, 334, 335, 338, 343, 349, 352, 354, 356, 359, 360, 362, 363, 375]\n",
            "Cantidad de Anomalías Predichas: 188\n"
          ]
        }
      ],
      "source": [
        "# Impresión de las predicciones detectadas como anomalías\n",
        "outlier_indices = [i for i, p in enumerate(predictions) if p == -1]\n",
        "print(\"Instancias de Anomalías:\", outlier_indices)\n",
        "print(\"Cantidad de Anomalías Predichas:\", len(outlier_indices))"
      ]
    },
    {
      "cell_type": "markdown",
      "id": "MchXLWi5tvoW",
      "metadata": {
        "id": "MchXLWi5tvoW"
      },
      "source": [
        "#### **Sub/sobreajuste**\n"
      ]
    },
    {
      "cell_type": "markdown",
      "id": "lUyZt-R9wKeM",
      "metadata": {
        "id": "lUyZt-R9wKeM"
      },
      "source": [
        "Para detectar si un modelo de aprendizaje no supervisado como **Isolation Forest** se encuentra subentrenado o sobreentrenado, se pueden llevar a cabo diferentes procesos. Se ha elegido graficar la distribución de las puntuaciones de anomalías en un histograma, además de un gráfico de cajas, para poder observar el cómo es que el modelo separa los valores típicos (\"inliers\") y los valores atípicos (\"outliers\").\n",
        "\n",
        "Lo que se busca obtener en estas visualizaciones es una separación clara del threshold de decisión (típicamente siendo éste 0). Es decir, este threshold debería separar claramente los valores típicos y los atípicos, con los valores típicos estando en un rango de valores positivos o cercanos a cero, mientras que los atípicos tendrán puntuaciones negativas.\n",
        "\n",
        "En caso de que muchas puntuaciones se encuentren cerca de cero, esto puede indicar que el modelo está sobreentrenado, siendo muy estricto con desviaciones menores y tratándolas como atípicos. En caso de que se termine mostrando un amplio rango de puntuaciones a través del gráfico, pudiera significar que el modelo está subentrenado al no estar aprendiendo patrones concretos y asignando mismas puntuaciones a valores típicos y atípicos."
      ]
    },
    {
      "cell_type": "code",
      "execution_count": 10,
      "id": "Vu0391Xpt34Y",
      "metadata": {
        "colab": {
          "base_uri": "https://localhost:8080/",
          "height": 472
        },
        "id": "Vu0391Xpt34Y",
        "outputId": "af3c39ce-f89e-49f5-93a3-091fa9cf1578"
      },
      "outputs": [
        {
          "output_type": "display_data",
          "data": {
            "text/plain": [
              "<Figure size 640x480 with 1 Axes>"
            ],
            "image/png": "[encoded data removed]"
          },
          "metadata": {}
        }
      ],
      "source": [
        "# Graficado de la distribución de las puntuaciones de anomalías\n",
        "plt.hist(anomaly_scores, bins=50, alpha=0.7, color='blue', label='Inliers')\n",
        "plt.hist(anomaly_scores[predictions == -1], bins=10, alpha=0.7, color='red', label='Outliers')\n",
        "plt.axvline(x=0, color='black', linestyle='--', label='Threshold de Decisión')\n",
        "plt.title(\"Distribución de Puntuaciones de Anomalías\")\n",
        "plt.xlabel(\"Puntuación de Anomalía\")\n",
        "plt.ylabel(\"Frecuencia\")\n",
        "plt.legend()\n",
        "plt.show()"
      ]
    },
    {
      "cell_type": "markdown",
      "source": [
        "Como puede apreciarse en la visualización anterior, hay una distinción entre datos atípicos y datos normales clara. No obstante, hay algunos datos normales que se encuentran en el rango de las anomalías, lo cual puede estar mostrando algunas tendencias correspondientes a posibles falsos positivos y falsos negativos."
      ],
      "metadata": {
        "id": "I46s7CrVPGvc"
      },
      "id": "I46s7CrVPGvc"
    },
    {
      "cell_type": "code",
      "execution_count": 11,
      "id": "wcnUjDRcFGzv",
      "metadata": {
        "colab": {
          "base_uri": "https://localhost:8080/",
          "height": 453
        },
        "id": "wcnUjDRcFGzv",
        "outputId": "2fd6c96e-fd1e-499f-ead0-636d3b015e65"
      },
      "outputs": [
        {
          "output_type": "display_data",
          "data": {
            "text/plain": [
              "<Figure size 640x480 with 1 Axes>"
            ],
            "image/png": "[encoded data removed]"
          },
          "metadata": {}
        }
      ],
      "source": [
        "# Boxplot para visualizar las puntuaciones de anomalías\n",
        "plt.boxplot(anomaly_scores)\n",
        "plt.title(\"Boxplot de Puntuaciones de Anomalías\")\n",
        "plt.ylabel(\"Puntuación de Anomalía\")\n",
        "plt.axhline(y=0, color='red', linestyle='--', label='Threshold de Decisión')\n",
        "plt.legend()\n",
        "plt.show()"
      ]
    },
    {
      "cell_type": "markdown",
      "id": "LEYe74tpt4L8",
      "metadata": {
        "id": "LEYe74tpt4L8"
      },
      "source": [
        "#### **Métrica**"
      ]
    },
    {
      "cell_type": "markdown",
      "id": "bej0Q56_tyHq",
      "metadata": {
        "id": "bej0Q56_tyHq"
      },
      "source": [
        "Las métricas definidas para observar diferentes características del modelo y su ejecución son:\n",
        "\n",
        "* Validación cruzada con una función personalizada de puntaje\n",
        "* Relación de valores atípicos obtenidos\n",
        "* Precisión\n",
        "* Recall\n",
        "* F1-Score\n",
        "\n"
      ]
    },
    {
      "cell_type": "markdown",
      "source": [
        "Debido a que se cuenta con un conjunto conocido de valores atípicos, se puede generar un vector binario con las etiquetas correspondientes al tipo de imagen al que pertenece cada una en el conjunto de datos:\n",
        "\n",
        "*   0 - Típico\n",
        "*   1 - Atípico\n",
        "\n"
      ],
      "metadata": {
        "id": "AEa5GT_PrCeC"
      },
      "id": "AEa5GT_PrCeC"
    },
    {
      "cell_type": "code",
      "source": [
        "# Creación de las etiquetas: 0 para los elementos de la lista 'Normal_Temps' y 1 para los de la lista 'Normal_Adjusted_Temps'\n",
        "y_true = np.zeros(len(Combined_Normal_Temps))  # Inicio con los valores típicos o 'inliers' (0)\n",
        "\n",
        "# Seteo de las etiquetas de atípicos (1) para las temperaturas ajustadas\n",
        "# Asumiendo que los elementos de 'Normal_Adjusted_Temps' son los últimos 'n' DataFrames en el conjunto combinado\n",
        "n_outliers = len(Normal_Adjusted_Temps)\n",
        "y_true[-n_outliers:] = 1  # Seteo de los últimos 'n' elementos a 1 (outliers)"
      ],
      "metadata": {
        "id": "u1VsXHJMq7-3"
      },
      "id": "u1VsXHJMq7-3",
      "execution_count": 12,
      "outputs": []
    },
    {
      "cell_type": "markdown",
      "source": [
        "Se debe verificar que las etiquetas en *'y_true'* sean únicas para no interferir con las interpretaciones en las métricas de los modelos."
      ],
      "metadata": {
        "id": "-2IZwZi6saXd"
      },
      "id": "-2IZwZi6saXd"
    },
    {
      "cell_type": "code",
      "source": [
        "# Verificación que los valores en 'y_true' sean únicos\n",
        "unique_labels = np.unique(y_true)\n",
        "print(f\"Etiquetas únicas en 'y_true': {unique_labels}\")"
      ],
      "metadata": {
        "colab": {
          "base_uri": "https://localhost:8080/"
        },
        "id": "2dbp49DMsZjo",
        "outputId": "dc547ce5-2855-41cb-e623-b0a92754ee28"
      },
      "id": "2dbp49DMsZjo",
      "execution_count": 13,
      "outputs": [
        {
          "output_type": "stream",
          "name": "stdout",
          "text": [
            "Etiquetas únicas en 'y_true': [0. 1.]\n"
          ]
        }
      ]
    },
    {
      "cell_type": "markdown",
      "source": [
        "En la entrega anterior, al no contar con un conjunto de etiquetas, se hizo uso de la validación cruzada con una función personalizada de puntaje para observar y evaluar la estabilidad del modelo a través de diferentes particiones de los datos, es decir, las mediciones de las varianzas para observar si existe o no sobreentrenamiento o subentrenamiento.\n",
        "\n",
        "No obstante, al contar actualmente con las etiquetas, se hace uso de la validación cruzada para otro enfoque. En este caso, se usa para generar las predicciones con el vector de características reducido y cinco particiones."
      ],
      "metadata": {
        "id": "7EQ5FUOutdw-"
      },
      "id": "7EQ5FUOutdw-"
    },
    {
      "cell_type": "code",
      "source": [
        "# Obtención de las predicciones del modelo 'Isolation Forest'\n",
        "y_pred = cross_val_predict(iso_forest, redux_feat, cv=5)"
      ],
      "metadata": {
        "id": "MlJ375Jqs5un"
      },
      "id": "MlJ375Jqs5un",
      "execution_count": 14,
      "outputs": []
    },
    {
      "cell_type": "markdown",
      "source": [
        "De igual forma que con la variable *'y_true'*, se debe verificar que las etiquetas en *'y_pred'* sean únicas para no interferir con las interpretaciones en las métricas de los modelos."
      ],
      "metadata": {
        "id": "3hBb2F_XuDp0"
      },
      "id": "3hBb2F_XuDp0"
    },
    {
      "cell_type": "code",
      "source": [
        "# Inspección de los valores únicos en 'y_pred'\n",
        "unique_pred_labels = np.unique(y_pred)\n",
        "print(f\"Etiquetas únicas en 'y_pred': {unique_pred_labels}\")"
      ],
      "metadata": {
        "colab": {
          "base_uri": "https://localhost:8080/"
        },
        "id": "Ym4MpyPrtRZj",
        "outputId": "abc4621b-2601-4272-9240-5261a2a65418"
      },
      "id": "Ym4MpyPrtRZj",
      "execution_count": 15,
      "outputs": [
        {
          "output_type": "stream",
          "name": "stdout",
          "text": [
            "Etiquetas únicas en 'y_pred': [-1  1]\n"
          ]
        }
      ]
    },
    {
      "cell_type": "markdown",
      "source": [
        "Debido a que las etiquetas son formadas por -1 y 1 para representar valores típicos y atípicos, respectivamente, se debe mapear las etiquetas para cambiar los -1 por 0's (típicos) y dejar los 1's como están (atípicos).\n",
        "\n",
        "Este mapeo permitirá coincidir ambos conjuntos de etiquetas y que puedan ser utilizados para el cálculo de las métricas definidas."
      ],
      "metadata": {
        "id": "5Pic1ljtuSEV"
      },
      "id": "5Pic1ljtuSEV"
    },
    {
      "cell_type": "code",
      "source": [
        "# Mapeo de -1 a 0 ('inliers') y de 1 a 1 ('outliers')\n",
        "y_pred_mapped = np.where(y_pred == -1, 0, 1)  # Cambio de -1 (inlier) a 0; cambio de 1 (outlier) a 1"
      ],
      "metadata": {
        "id": "syUB7sgauz8L"
      },
      "id": "syUB7sgauz8L",
      "execution_count": 16,
      "outputs": []
    },
    {
      "cell_type": "markdown",
      "source": [
        "Una vez que se obtuvo el mapa de predicciones ajustado, se lleva a cabo el cálculo de las métricas siguientes para observar el comportamiento del modelo:\n",
        "\n",
        "\n",
        "*   **Precisión:** Proporción de elementos clasificados correctamente.\n",
        "*   **Exhaustividad (Recall):** Proporción de elementos identificados correctamente como positivos del total de verdaderos positivos.\n",
        "*   **F1-Score:** Media armónica de precisión y recall. De mucha utilidad en problemas de clases desbalanceadas.\n",
        "\n"
      ],
      "metadata": {
        "id": "-Xshpsc3vM6o"
      },
      "id": "-Xshpsc3vM6o"
    },
    {
      "cell_type": "code",
      "source": [
        "# Cálculo de precisión, recall y f1-score\n",
        "iso_precision = precision_score(y_true, y_pred_mapped, average='binary')\n",
        "iso_recall = recall_score(y_true, y_pred_mapped, average='binary')\n",
        "iso_f1 = f1_score(y_true, y_pred_mapped, average='binary')\n",
        "\n",
        "print(f\"Precision: {iso_precision:.4f}\")\n",
        "print(f\"Recall: {iso_recall:.4f}\")\n",
        "print(f\"F1 Score: {iso_f1:.4f}\")"
      ],
      "metadata": {
        "colab": {
          "base_uri": "https://localhost:8080/"
        },
        "id": "zTy8qX6zvM_t",
        "outputId": "eedb2625-e07b-4532-83f1-fff6c99f1e91"
      },
      "id": "zTy8qX6zvM_t",
      "execution_count": 17,
      "outputs": [
        {
          "output_type": "stream",
          "name": "stdout",
          "text": [
            "Precision: 0.5237\n",
            "Recall: 1.0000\n",
            "F1 Score: 0.6874\n"
          ]
        }
      ]
    },
    {
      "cell_type": "markdown",
      "source": [
        "Además de las métricas anteriores, se lleva a cabo la impresión de la matriz de confusión y de sus componentes para poder observar el comportamiento de la ejecución del modelo."
      ],
      "metadata": {
        "id": "x58R9NhQy9AC"
      },
      "id": "x58R9NhQy9AC"
    },
    {
      "cell_type": "code",
      "source": [
        "# Creación de la matriz de confusión\n",
        "cm = confusion_matrix(y_true, y_pred_mapped)\n",
        "\n",
        "# Extracción de los valores TN, FP, FN, TP de la matriz de confusión\n",
        "TN, FP, FN, TP = cm.ravel()\n",
        "\n",
        "# Impresión de la matriz de confusión\n",
        "print(\"Confusion Matrix:\")\n",
        "print(cm)\n",
        "print(\"\\n\")\n",
        "\n",
        "# Impresión de TN, FP, FN, TP como strings separados\n",
        "print(f\"Verdaderos Negativos (TN) o instancias normales correctamente clasificadas: {TN}\")\n",
        "print(f\"Falsos Positivos (FP) o instancias normales clasificadas como anomalías: {FP}\")\n",
        "print(f\"Falsos Negativos (FN) o anomalías clasificadas como normales: {FN}\")\n",
        "print(f\"Verdaderos Positivos (TP) o anomalías correctamente clasificadas: {TP}\")\n",
        "print(\"\\n\")\n",
        "\n",
        "# Visualizado de la matriz de confusión\n",
        "disp = ConfusionMatrixDisplay(confusion_matrix=cm, display_labels=['Inlier (0)', 'Outlier (1)'])\n",
        "disp.plot(cmap=plt.cm.Blues)\n",
        "plt.title(\"Matriz de Confusión\")\n",
        "plt.show()"
      ],
      "metadata": {
        "colab": {
          "base_uri": "https://localhost:8080/",
          "height": 663
        },
        "id": "7Pt2P8gDy9FE",
        "outputId": "52dc63ff-68c1-4c61-d889-fe58f0be8a31"
      },
      "id": "7Pt2P8gDy9FE",
      "execution_count": 18,
      "outputs": [
        {
          "output_type": "stream",
          "name": "stdout",
          "text": [
            "Confusion Matrix:\n",
            "[[211 171]\n",
            " [  0 188]]\n",
            "\n",
            "\n",
            "Verdaderos Negativos (TN) o instancias normales correctamente clasificadas: 211\n",
            "Falsos Positivos (FP) o instancias normales clasificadas como anomalías: 171\n",
            "Falsos Negativos (FN) o anomalías clasificadas como normales: 0\n",
            "Verdaderos Positivos (TP) o anomalías correctamente clasificadas: 188\n",
            "\n",
            "\n"
          ]
        },
        {
          "output_type": "display_data",
          "data": {
            "text/plain": [
              "<Figure size 640x480 with 2 Axes>"
            ],
            "image/png": "[encoded data removed]"
          },
          "metadata": {}
        }
      ]
    },
    {
      "cell_type": "markdown",
      "source": [
        "Como se puede observar, se cuenta con una alta tasa de falsos positivos, lo cual explica los valores obtenidos previamente de las métricas del modelo.\n",
        "\n",
        "Estos resultados permiten comprobar algunas de las cosas que se podían inferir desde la distribución de las puntuaciones de anomalías. Existen algunas imágenes normales que parecieran encontrarse superpuestas por parte del modelo como si fueran anomalías.\n",
        "\n",
        "Esto puede deberse a muchas situaciones, entre las cuales puede ser la parte de optimización de hiperparámetros o inclusive la consideración de algunos datos generados de anomalías que no cuentan con información relevante o ajustada. Es decir, existe la posibilidad que los dataframes de atípicos codificados, no hayan encontrado valores extremos y esto haya causado que no se escalen correctamente todo el conjunto de atípicos."
      ],
      "metadata": {
        "id": "4FRF_t8xz7V4"
      },
      "id": "4FRF_t8xz7V4"
    },
    {
      "cell_type": "markdown",
      "id": "a92cb62a",
      "metadata": {
        "id": "a92cb62a"
      },
      "source": [
        "Además de las métricas anteriores, la relación o proporción de valores atípicos permite observar si el modelo se encuentra comportándose de la manera esperada al visualizar si el parámetro de contaminación en el modelo se encuentra operando de forma correcta o si el modelo no lo está tomando en cuenta y no se encuentra operando de buena forma.\n",
        "\n",
        "Si la relación obtenida tiene mucha desviación, pudiera significar un sobreentrenamiento (muchos valores atípicos) o un subentrenamiento (pocos valores atípicos)."
      ]
    },
    {
      "cell_type": "code",
      "execution_count": 19,
      "id": "xenN6QSJg7LV",
      "metadata": {
        "colab": {
          "base_uri": "https://localhost:8080/"
        },
        "id": "xenN6QSJg7LV",
        "outputId": "096e5851-174e-499e-f5a9-01bfd5f6b653"
      },
      "outputs": [
        {
          "output_type": "stream",
          "name": "stdout",
          "text": [
            "Relación de Valores Atípicos: 32.98%, Esperados: 32.98%\n"
          ]
        }
      ],
      "source": [
        "# Cálculo de la Relación de Valores Atípicos\n",
        "outlier_ratio = (predictions == -1).sum() / len(predictions)\n",
        "\n",
        "# Impresión de Resultados\n",
        "print(f'Relación de Valores Atípicos: {outlier_ratio:.2%}, Esperados: {iso_forest.contamination * 100:.2f}%')"
      ]
    },
    {
      "cell_type": "markdown",
      "source": [
        "### **Modelos Alternativos**"
      ],
      "metadata": {
        "id": "6BTme0fKvF7S"
      },
      "id": "6BTme0fKvF7S"
    },
    {
      "cell_type": "code",
      "source": [
        "# Definición de la función para evaluar los diferentes modelos seleccionados\n",
        "\n",
        "def evaluate_model(model, X_train, X_test, y_true):\n",
        "    start_time = time.time()  # Inicio del temporizador\n",
        "\n",
        "    # Ajuste del modelo y la generación de las predicciones\n",
        "\n",
        "    # Local Outlier Factor\n",
        "    if isinstance(model, LocalOutlierFactor):\n",
        "        y_pred = model.fit_predict(X_test)\n",
        "        y_pred_mapped = np.where(y_pred == -1, 0, 1)\n",
        "\n",
        "    # DBSCAN\n",
        "    elif isinstance(model, DBSCAN):\n",
        "        y_pred_mapped = model.fit_predict(X_test)\n",
        "        y_pred_mapped = np.where(y_pred_mapped == -1, 1, 0)\n",
        "\n",
        "    # Gaussian Mixture Model\n",
        "    elif isinstance(model, GaussianMixture):\n",
        "        model.fit(X_train)  # Ajuste de solo los datos de entrenamiento\n",
        "        log_likelihood = model.score_samples(X_test)  # Obtención de las puntuaciones de la probabilidad logarítmica\n",
        "        threshold = np.percentile(log_likelihood, 10)  # Definición de threshold base en el décimo percentil\n",
        "        print(f\"GMM Threshold: {threshold}\\n\")\n",
        "        y_pred_mapped = (log_likelihood < threshold).astype(int)  # Clasificación basada en el threshold\n",
        "\n",
        "    # One Class SVM\n",
        "    else:\n",
        "        model.fit(X_train)\n",
        "        y_pred = model.predict(X_test)\n",
        "        y_pred_mapped = np.where(y_pred == -1, 1, 0)\n",
        "\n",
        "    # Impresión de los valores predichos para el debuggeo\n",
        "    print(f\"Predicted values for {model.__class__.__name__}: {y_pred_mapped}\\n\")\n",
        "\n",
        "    # Cálculo de las métricas por modelo\n",
        "    precision = precision_score(y_true, y_pred_mapped, average='binary', zero_division=0)\n",
        "    recall = recall_score(y_true, y_pred_mapped, average='binary', zero_division=0)\n",
        "    f1 = f1_score(y_true, y_pred_mapped, average='binary', zero_division=0)\n",
        "\n",
        "    exec_time = time.time() - start_time  # Paro del temporizador\n",
        "\n",
        "    # Creación de la matriz de confusión\n",
        "    cm = confusion_matrix(y_true, y_pred_mapped)\n",
        "\n",
        "    return precision, recall, f1, exec_time, cm"
      ],
      "metadata": {
        "id": "DiJjoxPbqRKs"
      },
      "id": "DiJjoxPbqRKs",
      "execution_count": 20,
      "outputs": []
    },
    {
      "cell_type": "markdown",
      "source": [
        "Habiendo definido la función con los pasos a seguir en base a los modelos elegidos, se procede a particionar el conjunto de datos para su uso en los diferentes modelos alternativos elegidos."
      ],
      "metadata": {
        "id": "oYuPxHtTVnR5"
      },
      "id": "oYuPxHtTVnR5"
    },
    {
      "cell_type": "code",
      "source": [
        "# Partición del conjunto de datos para obtener el conjunto de entrenamiento y el de prueba\n",
        "X_train, X_test, y_train, y_test = train_test_split(redux_feat, y_true, test_size=0.2, random_state=42)"
      ],
      "metadata": {
        "id": "nom2Gtz80Y9t"
      },
      "id": "nom2Gtz80Y9t",
      "execution_count": 21,
      "outputs": []
    },
    {
      "cell_type": "markdown",
      "source": [
        "Una vez que se ha particionado el conjunto de datos, se procede a ejecutar los modelos con valores arbitrarios de algunos hiperparámetros para observar rendimiento y desplegar sus resultados.\n",
        "\n",
        "Además de esto, se busca obtener las métricas correspondientes a la precisión, el recall, la f1-score, el tiempo de ejecución y sus matrices de confusión."
      ],
      "metadata": {
        "id": "KoUP9rQ4WSY7"
      },
      "id": "KoUP9rQ4WSY7"
    },
    {
      "cell_type": "code",
      "source": [
        "# Inicialización de los modelos\n",
        "models = {\n",
        "    \"Local Outlier Factor\": LocalOutlierFactor(n_neighbors=15, contamination=0.1),\n",
        "    \"One-Class SVM\": OneClassSVM(gamma='scale', nu=0.1),\n",
        "}\n",
        "\n",
        "# Inicializado de diccionario 'results'\n",
        "results = {}\n",
        "\n",
        "# Cálculo de los resultados correspondientes a las métricas de cada modelo\n",
        "for name, model in models.items():\n",
        "    print(f\"Evaluating {name}...\")\n",
        "    precision, recall, f1, exec_time, cm = evaluate_model(model, X_train, X_test, y_test)\n",
        "    results[name] = {\n",
        "        'Precision': precision,\n",
        "        'Recall': recall,\n",
        "        'F1 Score': f1,\n",
        "        'Execution Time': exec_time,\n",
        "        'Confusion Matrix': cm\n",
        "    }\n",
        "\n",
        "# Impresión de resultados obtenidos\n",
        "for model_name, metrics in results.items():\n",
        "    print(f\"\\n{model_name}:\")\n",
        "    print(f\"Precision: {metrics['Precision']:.4f}\")\n",
        "    print(f\"Recall: {metrics['Recall']:.4f}\")\n",
        "    print(f\"F1 Score: {metrics['F1 Score']:.4f}\")\n",
        "    print(f\"Execution Time: {metrics['Execution Time']:.4f} seconds\")\n",
        "    print(f\"Confusion Matrix:\\n {metrics['Confusion Matrix']}\")"
      ],
      "metadata": {
        "colab": {
          "base_uri": "https://localhost:8080/"
        },
        "id": "5NFhnctA0bbi",
        "outputId": "aa6b5a7d-b763-4f1f-ae38-cc3eafc2d701"
      },
      "id": "5NFhnctA0bbi",
      "execution_count": 22,
      "outputs": [
        {
          "output_type": "stream",
          "name": "stdout",
          "text": [
            "Evaluating Local Outlier Factor...\n",
            "Predicted values for LocalOutlierFactor: [1 1 1 1 1 1 1 1 1 1 1 1 1 1 1 1 1 1 1 1 1 0 0 1 1 1 0 1 1 1 1 1 1 0 1 1 1\n",
            " 1 1 1 1 1 1 1 1 1 0 1 1 1 1 1 1 1 1 1 1 1 1 0 1 1 1 0 1 1 1 1 1 1 1 1 0 1\n",
            " 1 1 1 1 1 1 0 1 1 0 1 1 1 0 1 1 1 1 1 1 1 1 1 1 1 1 1 1 1 1 1 0 1 1 1 1 1\n",
            " 1 1 1]\n",
            "\n",
            "Evaluating One-Class SVM...\n",
            "Predicted values for OneClassSVM: [1 0 0 1 1 1 0 0 0 0 1 0 1 0 1 0 0 0 0 0 1 1 1 1 0 0 0 1 0 1 0 1 0 1 0 0 0\n",
            " 0 1 0 0 0 0 0 0 0 1 1 0 0 1 0 0 0 0 1 0 1 0 1 0 0 1 1 0 1 0 0 1 0 0 0 1 0\n",
            " 1 0 0 0 0 1 1 0 0 1 0 0 0 0 1 1 0 0 0 1 0 0 1 0 0 0 0 0 0 0 0 0 0 0 0 0 0\n",
            " 0 0 0]\n",
            "\n",
            "\n",
            "Local Outlier Factor:\n",
            "Precision: 0.2549\n",
            "Recall: 0.7222\n",
            "F1 Score: 0.3768\n",
            "Execution Time: 0.1665 seconds\n",
            "Confusion Matrix:\n",
            " [[ 2 76]\n",
            " [10 26]]\n",
            "\n",
            "One-Class SVM:\n",
            "Precision: 0.7429\n",
            "Recall: 0.7222\n",
            "F1 Score: 0.7324\n",
            "Execution Time: 0.0473 seconds\n",
            "Confusion Matrix:\n",
            " [[69  9]\n",
            " [10 26]]\n"
          ]
        }
      ]
    },
    {
      "cell_type": "code",
      "source": [
        "# Impresión y desglose de las matrices de confusión de los modelos\n",
        "for name, metrics in results.items():\n",
        "    cm = metrics['Confusion Matrix']\n",
        "    # Extracción de los valores TN, FP, FN, TP de la matriz de confusión\n",
        "    TN, FP, FN, TP = cm.ravel()\n",
        "\n",
        "    # Impresión de TN, FP, FN, TP como strings separados\n",
        "    print(f\"Verdaderos Negativos (TN) o instancias normales correctamente clasificadas: {TN}\")\n",
        "    print(f\"Falsos Positivos (FP) o instancias normales clasificadas como anomalías: {FP}\")\n",
        "    print(f\"Falsos Negativos (FN) o anomalías clasificadas como normales: {FN}\")\n",
        "    print(f\"Verdaderos Positivos (TP) o anomalías correctamente clasificadas: {TP}\")\n",
        "    print(\"\\n\")\n",
        "    disp = ConfusionMatrixDisplay(confusion_matrix=cm, display_labels=['Inlier (0)', 'Outlier (1)'])\n",
        "    disp.plot(cmap=plt.cm.Blues)\n",
        "    plt.title(f\"Matriz de Confusión para {name}\")\n",
        "    plt.show()\n",
        "    print(\"\\n\")"
      ],
      "metadata": {
        "colab": {
          "base_uri": "https://localhost:8080/",
          "height": 1000
        },
        "id": "BTCpJQv-0eU9",
        "outputId": "c09ac5d4-664d-46d6-dc22-2da1792dbd35"
      },
      "id": "BTCpJQv-0eU9",
      "execution_count": 23,
      "outputs": [
        {
          "output_type": "stream",
          "name": "stdout",
          "text": [
            "Verdaderos Negativos (TN) o instancias normales correctamente clasificadas: 2\n",
            "Falsos Positivos (FP) o instancias normales clasificadas como anomalías: 76\n",
            "Falsos Negativos (FN) o anomalías clasificadas como normales: 10\n",
            "Verdaderos Positivos (TP) o anomalías correctamente clasificadas: 26\n",
            "\n",
            "\n"
          ]
        },
        {
          "output_type": "display_data",
          "data": {
            "text/plain": [
              "<Figure size 640x480 with 2 Axes>"
            ],
            "image/png": "[encoded data removed]"
          },
          "metadata": {}
        },
        {
          "output_type": "stream",
          "name": "stdout",
          "text": [
            "\n",
            "\n",
            "Verdaderos Negativos (TN) o instancias normales correctamente clasificadas: 69\n",
            "Falsos Positivos (FP) o instancias normales clasificadas como anomalías: 9\n",
            "Falsos Negativos (FN) o anomalías clasificadas como normales: 10\n",
            "Verdaderos Positivos (TP) o anomalías correctamente clasificadas: 26\n",
            "\n",
            "\n"
          ]
        },
        {
          "output_type": "display_data",
          "data": {
            "text/plain": [
              "<Figure size 640x480 with 2 Axes>"
            ],
            "image/png": "[encoded data removed]"
          },
          "metadata": {}
        },
        {
          "output_type": "stream",
          "name": "stdout",
          "text": [
            "\n",
            "\n"
          ]
        }
      ]
    },
    {
      "cell_type": "markdown",
      "source": [
        "Para visualizar de otra forma las métricas obtenidas y poder comparar con mayor facilidad el rendimiento de todos los modelos, se procede a graficar tanto las métricas como el tiempo de ejecución en un par de histogramas en los que se comparan todos los modelos.\n",
        "\n",
        "En primer lugar, se define un diccionario con las métricas obtenidas por parte del modelo base para poder concatenarlo con las métricas obtenidas por parte de los modelos alternativos."
      ],
      "metadata": {
        "id": "JCmAqqQ1XIUs"
      },
      "id": "JCmAqqQ1XIUs"
    },
    {
      "cell_type": "code",
      "source": [
        "# Definicion de diccionario con Métricas Singulares (Modelo Base)\n",
        "singular_model_metrics = {\n",
        "    'Precision': iso_precision,\n",
        "    'Recall': iso_recall,\n",
        "    'F1 Score': iso_f1\n",
        "}\n",
        "\n",
        "singular_execution_time = {\n",
        "    'Execution Time': iso_training_duration\n",
        "}"
      ],
      "metadata": {
        "id": "Wv_Ktw4q0sWn"
      },
      "id": "Wv_Ktw4q0sWn",
      "execution_count": 24,
      "outputs": []
    },
    {
      "cell_type": "code",
      "source": [
        "# Creación de un DataFrame para las métricas\n",
        "metrics_df = pd.DataFrame(results).T[['Precision', 'Recall', 'F1 Score']]\n",
        "execution_time_df = pd.DataFrame(results).T[['Execution Time']]\n",
        "\n",
        "# Conversión del diccionario 'singular_model_metrics' a un DataFrame\n",
        "singular_metrics_df = pd.DataFrame([singular_model_metrics], index=['Isolation Forest'])\n",
        "singular_execution_time_df = pd.DataFrame([singular_execution_time], index=['Isolation Forest'])\n",
        "\n",
        "# Concatenado del dataframe con la información del modelo base, tanto métricas como el tiempo de ejecución\n",
        "metrics_df = pd.concat([singular_metrics_df, metrics_df], ignore_index=False)\n",
        "execution_time_df = pd.concat([singular_execution_time_df, execution_time_df], ignore_index=False)\n",
        "\n",
        "# Graficado de las métricas\n",
        "plt.figure(figsize=(10, 6))\n",
        "metrics_df.plot(kind='bar')\n",
        "plt.title(\"Métricas para Comparación de Modelos\")\n",
        "plt.ylabel(\"Puntuación\")\n",
        "plt.xticks(rotation=45)\n",
        "plt.legend(loc='best')\n",
        "plt.tight_layout()\n",
        "plt.show()\n",
        "\n",
        "# Graficado del tiempo de ejecución\n",
        "plt.figure(figsize=(10, 6))\n",
        "execution_time_df.plot(kind='bar', color='lightblue')\n",
        "plt.title(\"Tiempo de Ejecución de los Modelos\")\n",
        "plt.ylabel(\"Tiempo (segundos)\")\n",
        "plt.xticks(rotation=45)\n",
        "plt.tight_layout()\n",
        "plt.show()"
      ],
      "metadata": {
        "colab": {
          "base_uri": "https://localhost:8080/",
          "height": 992
        },
        "id": "mQqH3l2M0waD",
        "outputId": "123653d5-add3-40f9-f2f2-927fd05464b3"
      },
      "id": "mQqH3l2M0waD",
      "execution_count": 25,
      "outputs": [
        {
          "output_type": "display_data",
          "data": {
            "text/plain": [
              "<Figure size 1000x600 with 0 Axes>"
            ]
          },
          "metadata": {}
        },
        {
          "output_type": "display_data",
          "data": {
            "text/plain": [
              "<Figure size 640x480 with 1 Axes>"
            ],
            "image/png": "[encoded data removed]"
          },
          "metadata": {}
        },
        {
          "output_type": "display_data",
          "data": {
            "text/plain": [
              "<Figure size 1000x600 with 0 Axes>"
            ]
          },
          "metadata": {}
        },
        {
          "output_type": "display_data",
          "data": {
            "text/plain": [
              "<Figure size 640x480 with 1 Axes>"
            ],
            "image/png": "[encoded data removed]"
          },
          "metadata": {}
        }
      ]
    },
    {
      "cell_type": "code",
      "source": [
        "# Impresión de tablas formateadas\n",
        "print(\"DataFrame con Métricas:\")\n",
        "print(tabulate(metrics_df, headers='keys', tablefmt='fancy_grid', floatfmt=\".2f\"))\n",
        "\n",
        "print(\"\\nDataFrame con Tiempos de Ejecución:\")\n",
        "print(tabulate(execution_time_df, headers='keys', tablefmt='fancy_grid', floatfmt=\".2f\"))"
      ],
      "metadata": {
        "colab": {
          "base_uri": "https://localhost:8080/"
        },
        "id": "w9iXRvQU0zA2",
        "outputId": "27b9e5b4-8db1-46f8-deea-fc6eaeadd850"
      },
      "id": "w9iXRvQU0zA2",
      "execution_count": 26,
      "outputs": [
        {
          "output_type": "stream",
          "name": "stdout",
          "text": [
            "DataFrame con Métricas:\n",
            "╒══════════════════════╤═════════════╤══════════╤════════════╕\n",
            "│                      │   Precision │   Recall │   F1 Score │\n",
            "╞══════════════════════╪═════════════╪══════════╪════════════╡\n",
            "│ Isolation Forest     │        0.52 │     1.00 │       0.69 │\n",
            "├──────────────────────┼─────────────┼──────────┼────────────┤\n",
            "│ Local Outlier Factor │        0.25 │     0.72 │       0.38 │\n",
            "├──────────────────────┼─────────────┼──────────┼────────────┤\n",
            "│ One-Class SVM        │        0.74 │     0.72 │       0.73 │\n",
            "╘══════════════════════╧═════════════╧══════════╧════════════╛\n",
            "\n",
            "DataFrame con Tiempos de Ejecución:\n",
            "╒══════════════════════╤══════════════════╕\n",
            "│                      │   Execution Time │\n",
            "╞══════════════════════╪══════════════════╡\n",
            "│ Isolation Forest     │             0.94 │\n",
            "├──────────────────────┼──────────────────┤\n",
            "│ Local Outlier Factor │             0.17 │\n",
            "├──────────────────────┼──────────────────┤\n",
            "│ One-Class SVM        │             0.05 │\n",
            "╘══════════════════════╧══════════════════╛\n"
          ]
        }
      ]
    },
    {
      "cell_type": "markdown",
      "source": [
        "Habiendo observado el desempeño y rendimiento de los modelos, se decidió trabajar con el modelo base (Isolation Forest) y el One-Class SVM para la optimización de hiperparámetros.\n",
        "\n",
        "Esto es debido a que ambos modelos entregaron las precisiones más altas sin perder recall, además de contar con tiempos de ejecución relativamente cortos.\n"
      ],
      "metadata": {
        "id": "XtCKzTaEZNRU"
      },
      "id": "XtCKzTaEZNRU"
    },
    {
      "cell_type": "markdown",
      "source": [
        "### **Ajuste Fino**"
      ],
      "metadata": {
        "id": "1sNTE_wh06rg"
      },
      "id": "1sNTE_wh06rg"
    },
    {
      "cell_type": "markdown",
      "source": [
        "Para poder obtener los mejores hiperparámetros de los modelos seleccionados en la sección anterior, se recurrió a utilizar la técnica de búsqueda de malla (Grid Search) en los modelos seleccionados."
      ],
      "metadata": {
        "id": "lE8C1hcyZ8O_"
      },
      "id": "lE8C1hcyZ8O_"
    },
    {
      "cell_type": "code",
      "source": [
        "# Creación de función para puntajes con PR-AUC personalizada\n",
        "def pr_auc_score(y_true, y_scores):\n",
        "    precision, recall, _ = precision_recall_curve(y_true, y_scores)\n",
        "    return auc(recall, precision)\n",
        "\n",
        "pr_auc_scorer = make_scorer(pr_auc_score, needs_proba=True)\n",
        "\n",
        "true_outlier_ratio = sum(y_train) / len(y_train)\n",
        "print(f\"True Outlier Ratio: {true_outlier_ratio}\")\n",
        "\n",
        "# Malla de parámetros para Isolation Forest y One-Class SVM\n",
        "param_grid_if = {\n",
        "    'contamination': [0.05, 0.1, 0.15, 0.2, 0.25, 0.33],\n",
        "    'max_samples': [0.5, 0.75, 1.0],\n",
        "    'n_estimators': [50, 100, 200]\n",
        "}\n",
        "\n",
        "param_grid_svm = {\n",
        "    'nu': [0.1, 0.25, 0.5, 0.75],\n",
        "    'gamma': ['scale', 'auto']\n",
        "}\n",
        "\n",
        "# Inicializado de los modelos\n",
        "isolation_forest = IsolationForest()\n",
        "one_class_svm = OneClassSVM()\n",
        "\n",
        "# Uso de StratifiedKFold para balancear las clases en cada partición\n",
        "cv = StratifiedKFold(n_splits=5, shuffle=True, random_state=42)\n",
        "\n",
        "# Búsqueda de Malla para Isolation Forest y One-Class SVM\n",
        "grid_if = GridSearchCV(estimator=isolation_forest, param_grid=param_grid_if,\n",
        "                       scoring='balanced_accuracy', cv=cv, verbose=1, n_jobs=-1)\n",
        "\n",
        "grid_svm = GridSearchCV(estimator=one_class_svm, param_grid=param_grid_svm,\n",
        "                        scoring='balanced_accuracy', cv=cv, verbose=1, n_jobs=-1)\n",
        "\n",
        "# Ajustado de modelos\n",
        "grid_if.fit(X_train, y_train)\n",
        "grid_svm.fit(X_train, y_train)\n",
        "\n",
        "# Mejores modelos e hiperparámetros\n",
        "best_if = grid_if.best_estimator_\n",
        "best_svm = grid_svm.best_estimator_\n",
        "\n",
        "# Impresión de los mejores parámetros y puntaje\n",
        "print(\"\\nMejores parámetros para Isolation Forest:\", grid_if.best_params_)\n",
        "print(\"PR-AUC para Isolation Forest (validación cruzada):\", grid_if.best_score_)\n",
        "\n",
        "print(\"\\nMejores parámetros para One-Class SVM:\", grid_svm.best_params_)\n",
        "print(\"PR-AUC para One-Class SVM (validación cruzada):\", grid_svm.best_score_)\n",
        "\n",
        "# Cálculo de puntajes y predicciones para Isolation Forest\n",
        "y_scores_if = best_if.decision_function(X_test)\n",
        "threshold = np.percentile(y_scores_if, 75)\n",
        "y_pred_if = np.where(y_scores_if < threshold, 1, 0)\n",
        "\n",
        "# Cálculo de puntajes y predicciones para One-Class SVM\n",
        "y_scores_svm = best_svm.decision_function(X_test)\n",
        "y_pred_svm = np.where(best_svm.predict(X_test) == -1, 1, 0)\n",
        "\n",
        "# Cálculo de PR-AUC y ROC-AUC para ambos modelos\n",
        "precision_if, recall_if, _ = precision_recall_curve(y_test, y_scores_if)\n",
        "\n",
        "pr_auc_if = auc(recall_if, precision_if)\n",
        "roc_auc_if = roc_auc_score(y_test, y_scores_if)\n",
        "\n",
        "precision_svm, recall_svm, _ = precision_recall_curve(y_test, y_scores_svm)\n",
        "pr_auc_svm = auc(recall_svm, precision_svm)\n",
        "\n",
        "# Cálculo de Precisión, Recall y F1-Score para ambos modelos\n",
        "precision_if_score = precision_score(y_test, y_pred_if)\n",
        "recall_if_score = recall_score(y_test, y_pred_if)\n",
        "f1_if_score = f1_score(y_test, y_pred_if)\n",
        "\n",
        "precision_svm_score = precision_score(y_test, y_pred_svm)\n",
        "recall_svm_score = recall_score(y_test, y_pred_svm)\n",
        "f1_svm_score = f1_score(y_test, y_pred_svm)\n",
        "\n",
        "# Impresión de las métricas para Isolation Forest\n",
        "print(\"\\nMétricas para Isolation Forest:\")\n",
        "print(f\"PR-AUC: {pr_auc_if:.4f}\")\n",
        "print(f\"ROC-AUC: {roc_auc_if:.4f}\")\n",
        "print(f\"Precisión: {precision_if_score:.4f}\")\n",
        "print(f\"Recall: {recall_if_score:.4f}\")\n",
        "print(f\"F1-Score: {f1_if_score:.4f}\")\n",
        "print(\"Reporte de Clasificación:\")\n",
        "print(classification_report(y_test, y_pred_if))\n",
        "print(\"Matriz de Confusión:\")\n",
        "print(confusion_matrix(y_test, y_pred_if))\n",
        "\n",
        "# Impresión de las métricas para One-Class SVM\n",
        "print(\"\\nMétricas para One-Class SVM:\")\n",
        "print(f\"PR-AUC: {pr_auc_svm:.4f}\")\n",
        "print(f\"Precisión: {precision_svm_score:.4f}\")\n",
        "print(f\"Recall: {recall_svm_score:.4f}\")\n",
        "print(f\"F1-Score: {f1_svm_score:.4f}\")\n",
        "print(\"Reporte de Clasificación:\")\n",
        "print(classification_report(y_test, y_pred_svm))\n",
        "print(\"Matriz de Confusión:\")\n",
        "print(confusion_matrix(y_test, y_pred_svm))"
      ],
      "metadata": {
        "colab": {
          "base_uri": "https://localhost:8080/"
        },
        "id": "RK5LDuYXZiUz",
        "outputId": "f4e79eaa-7b01-428d-ef4d-86441a8b52a0"
      },
      "id": "RK5LDuYXZiUz",
      "execution_count": 27,
      "outputs": [
        {
          "output_type": "stream",
          "name": "stdout",
          "text": [
            "True Outlier Ratio: 0.3333333333333333\n",
            "Fitting 5 folds for each of 54 candidates, totalling 270 fits\n"
          ]
        },
        {
          "output_type": "stream",
          "name": "stderr",
          "text": [
            "/usr/local/lib/python3.10/dist-packages/sklearn/metrics/_scorer.py:610: FutureWarning: The `needs_threshold` and `needs_proba` parameter are deprecated in version 1.4 and will be removed in 1.6. You can either let `response_method` be `None` or set it to `predict` to preserve the same behaviour.\n",
            "  warnings.warn(\n"
          ]
        },
        {
          "output_type": "stream",
          "name": "stdout",
          "text": [
            "Fitting 5 folds for each of 8 candidates, totalling 40 fits\n",
            "\n",
            "Mejores parámetros para Isolation Forest: {'contamination': 0.05, 'max_samples': 0.5, 'n_estimators': 50}\n",
            "PR-AUC para Isolation Forest (validación cruzada): 0.5\n",
            "\n",
            "Mejores parámetros para One-Class SVM: {'gamma': 'scale', 'nu': 0.1}\n",
            "PR-AUC para One-Class SVM (validación cruzada): 0.13838709677419353\n",
            "\n",
            "Métricas para Isolation Forest:\n",
            "PR-AUC: 0.5466\n",
            "ROC-AUC: 0.7920\n",
            "Precisión: 0.2353\n",
            "Recall: 0.5556\n",
            "F1-Score: 0.3306\n",
            "Reporte de Clasificación:\n",
            "              precision    recall  f1-score   support\n",
            "\n",
            "         0.0       0.45      0.17      0.24        78\n",
            "         1.0       0.24      0.56      0.33        36\n",
            "\n",
            "    accuracy                           0.29       114\n",
            "   macro avg       0.34      0.36      0.29       114\n",
            "weighted avg       0.38      0.29      0.27       114\n",
            "\n",
            "Matriz de Confusión:\n",
            "[[13 65]\n",
            " [16 20]]\n",
            "\n",
            "Métricas para One-Class SVM:\n",
            "PR-AUC: 0.1848\n",
            "Precisión: 0.7429\n",
            "Recall: 0.7222\n",
            "F1-Score: 0.7324\n",
            "Reporte de Clasificación:\n",
            "              precision    recall  f1-score   support\n",
            "\n",
            "         0.0       0.87      0.88      0.88        78\n",
            "         1.0       0.74      0.72      0.73        36\n",
            "\n",
            "    accuracy                           0.83       114\n",
            "   macro avg       0.81      0.80      0.81       114\n",
            "weighted avg       0.83      0.83      0.83       114\n",
            "\n",
            "Matriz de Confusión:\n",
            "[[69  9]\n",
            " [10 26]]\n"
          ]
        }
      ]
    },
    {
      "cell_type": "markdown",
      "source": [
        "Una vez que se ajustó la forma en la que la búsqueda de malla se llevaba a cabo para obtener la operación correcta del Isolation Forest, se definió una función para evaluar los mejores modelos con los hiperparámetros obtenidos posterior a la búsqueda de malla y se ejecuta la evaluación."
      ],
      "metadata": {
        "id": "eFJcCZqfhgGJ"
      },
      "id": "eFJcCZqfhgGJ"
    },
    {
      "cell_type": "code",
      "source": [
        "def evaluate_oc_svm_and_iforest(model, X_train, X_test, y_true, threshold=None):\n",
        "    start_time = time.time()\n",
        "\n",
        "    # Ajuste de modelo y obtención de predicciones\n",
        "    model.fit(X_train)\n",
        "    y_pred = model.predict(X_test)\n",
        "\n",
        "    if isinstance(model, IsolationForest):\n",
        "        # Para el Isolation Forest, se usa una función de decisión y un threshold\n",
        "        y_scores = model.decision_function(X_test)\n",
        "        if threshold is None:\n",
        "            # Si no se provee un threshold, se setea uno por default (o se calcula)\n",
        "            threshold = np.percentile(y_scores, 75)\n",
        "        y_pred_mapped = np.where(y_scores < threshold, 1, 0)  # Anomalías son 1's\n",
        "    else:\n",
        "        # Para el One-Class SVM, se mapean las predicciones directamente\n",
        "        y_pred_mapped = np.where(y_pred == -1, 1, 0)\n",
        "\n",
        "    # Cálculo de métricas\n",
        "    precision = precision_score(y_true, y_pred_mapped, average='binary', zero_division=0)\n",
        "    recall = recall_score(y_true, y_pred_mapped, average='binary', zero_division=0)\n",
        "    f1 = f1_score(y_true, y_pred_mapped, average='binary', zero_division=0)\n",
        "\n",
        "    # Obtenido de puntajes para ROC y PR\n",
        "    y_scores = model.decision_function(X_test)\n",
        "    roc_auc = roc_auc_score(y_true, y_scores)\n",
        "    precision_pr, recall_pr, _ = precision_recall_curve(y_true, y_scores)\n",
        "    pr_auc = auc(recall_pr, precision_pr)\n",
        "\n",
        "    exec_time = time.time() - start_time\n",
        "\n",
        "    # Matriz de confusión\n",
        "    cm = confusion_matrix(y_true, y_pred_mapped)\n",
        "\n",
        "    # Salida de resultados en forma de diccionario\n",
        "    results = {\n",
        "        'precision': precision,\n",
        "        'recall': recall,\n",
        "        'f1': f1,\n",
        "        'exec_time': exec_time,\n",
        "        'confusion_matrix': cm,\n",
        "        'roc_auc': roc_auc,\n",
        "        'pr_auc': pr_auc\n",
        "    }\n",
        "\n",
        "    return results"
      ],
      "metadata": {
        "id": "u1DHlDNub4hl"
      },
      "id": "u1DHlDNub4hl",
      "execution_count": 28,
      "outputs": []
    },
    {
      "cell_type": "code",
      "source": [
        "# Evaluación de Isolation Forest\n",
        "results_if = evaluate_oc_svm_and_iforest(\n",
        "    model=best_if,\n",
        "    X_train=X_train,\n",
        "    X_test=X_test,\n",
        "    y_true=y_test\n",
        ")\n",
        "\n",
        "# Impresión de Resultados para Isolation Forest\n",
        "print(f\"Isolation Forest - Precisión: {results_if['precision']:.4f}, \"\n",
        "      f\"Recall: {results_if['recall']:.4f}, F1: {results_if['f1']:.4f}, \"\n",
        "      f\"PR_AUC: {results_if['pr_auc']:.4f}, ROC_AUC: {results_if['roc_auc']:.4f}, \"\n",
        "      f\"Tiempos de Ejecución: {results_if['exec_time']:.4f}s\")\n",
        "print(f\"Matriz de Confusión para Isolation Forest:\\n{results_if['confusion_matrix']}\\n\")\n",
        "\n",
        "# Evaluación de One-Class SVM\n",
        "results_svm = evaluate_oc_svm_and_iforest(\n",
        "    model=best_svm,\n",
        "    X_train=X_train,\n",
        "    X_test=X_test,\n",
        "    y_true=y_test\n",
        ")\n",
        "\n",
        "# Impresión de Resultados para One-Class SVM\n",
        "print(f\"One-Class SVM - Precisión: {results_svm['precision']:.4f}, \"\n",
        "      f\"Recall: {results_svm['recall']:.4f}, F1: {results_svm['f1']:.4f}, \"\n",
        "      f\"PR_AUC: {results_svm['pr_auc']:.4f}, ROC_AUC: {results_svm['roc_auc']:.4f}, \"\n",
        "      f\"Tiempos de Ejecución: {results_svm['exec_time']:.4f}s\")\n",
        "print(f\"Matriz de Confusión para One-Class SVM:\\n{results_svm['confusion_matrix']}\\n\")"
      ],
      "metadata": {
        "colab": {
          "base_uri": "https://localhost:8080/"
        },
        "id": "wqWSfJyGhvsb",
        "outputId": "15455dc8-70d5-4371-fde4-a3d7d794247d"
      },
      "id": "wqWSfJyGhvsb",
      "execution_count": 29,
      "outputs": [
        {
          "output_type": "stream",
          "name": "stdout",
          "text": [
            "Isolation Forest - Precisión: 0.2118, Recall: 0.5000, F1: 0.2975, PR_AUC: 0.5421, ROC_AUC: 0.8118, Tiempos de Ejecución: 0.0964s\n",
            "Matriz de Confusión para Isolation Forest:\n",
            "[[11 67]\n",
            " [18 18]]\n",
            "\n",
            "One-Class SVM - Precisión: 0.7429, Recall: 0.7222, F1: 0.7324, PR_AUC: 0.1848, ROC_AUC: 0.0662, Tiempos de Ejecución: 0.0443s\n",
            "Matriz de Confusión para One-Class SVM:\n",
            "[[69  9]\n",
            " [10 26]]\n",
            "\n"
          ]
        }
      ]
    },
    {
      "cell_type": "markdown",
      "source": [
        "Habiendo obtenido los resultados anteriores, se generó un par de dataframes en los cuales se acumularon lás métricas y los tiempos de ejecución de cada técnica utilizada y se imprimieron los primeros resultados con los modelos individuales."
      ],
      "metadata": {
        "id": "QyMKCrlz8OFN"
      },
      "id": "QyMKCrlz8OFN"
    },
    {
      "cell_type": "code",
      "source": [
        "# Generado de un diccionario con las métricas\n",
        "metrics_data = {\n",
        "    'Model': ['Isolation Forest', 'One-Class SVM'],\n",
        "    'Precision': [results_if['precision'], results_svm['precision']],\n",
        "    'Recall': [results_if['recall'], results_svm['recall']],\n",
        "    'F1': [results_if['f1'], results_svm['f1']],\n",
        "    'PR_AUC': [results_if['pr_auc'], results_svm['pr_auc']],\n",
        "    'ROC_AUC': [results_if['roc_auc'], results_svm['roc_auc']],\n",
        "}\n",
        "\n",
        "# Generado de un DataFrame con las métricas\n",
        "opt_metrics_df = pd.DataFrame(metrics_data)\n",
        "\n",
        "# Generado de un diccionario con los tiempos de ejecución\n",
        "execution_time_data = {\n",
        "    'Model': ['Isolation Forest', 'One-Class SVM'],\n",
        "    'Execution Time (s)': [results_if['exec_time'], results_svm['exec_time']],\n",
        "}\n",
        "\n",
        "# Generado de un DataFrame con los tiempos de ejecución\n",
        "opt_execution_time_df = pd.DataFrame(execution_time_data)"
      ],
      "metadata": {
        "id": "lQSOtpTpgjmZ"
      },
      "id": "lQSOtpTpgjmZ",
      "execution_count": 30,
      "outputs": []
    },
    {
      "cell_type": "code",
      "source": [
        "# Impresión de tablas formateadas\n",
        "print(\"DataFrame con Métricas:\")\n",
        "print(tabulate(opt_metrics_df, headers='keys', tablefmt='fancy_grid', floatfmt=\".2f\"))\n",
        "\n",
        "print(\"\\nDataFrame con Tiempos de Ejecución:\")\n",
        "print(tabulate(opt_execution_time_df, headers='keys', tablefmt='fancy_grid', floatfmt=\".2f\"))"
      ],
      "metadata": {
        "colab": {
          "base_uri": "https://localhost:8080/"
        },
        "id": "_1xlE2jFfzD1",
        "outputId": "6bc8c542-dafa-4872-dfe7-21de4c375ed9"
      },
      "id": "_1xlE2jFfzD1",
      "execution_count": 31,
      "outputs": [
        {
          "output_type": "stream",
          "name": "stdout",
          "text": [
            "DataFrame con Métricas:\n",
            "╒════╤══════════════════╤═════════════╤══════════╤══════╤══════════╤═══════════╕\n",
            "│    │ Model            │   Precision │   Recall │   F1 │   PR_AUC │   ROC_AUC │\n",
            "╞════╪══════════════════╪═════════════╪══════════╪══════╪══════════╪═══════════╡\n",
            "│  0 │ Isolation Forest │        0.21 │     0.50 │ 0.30 │     0.54 │      0.81 │\n",
            "├────┼──────────────────┼─────────────┼──────────┼──────┼──────────┼───────────┤\n",
            "│  1 │ One-Class SVM    │        0.74 │     0.72 │ 0.73 │     0.18 │      0.07 │\n",
            "╘════╧══════════════════╧═════════════╧══════════╧══════╧══════════╧═══════════╛\n",
            "\n",
            "DataFrame con Tiempos de Ejecución:\n",
            "╒════╤══════════════════╤══════════════════════╕\n",
            "│    │ Model            │   Execution Time (s) │\n",
            "╞════╪══════════════════╪══════════════════════╡\n",
            "│  0 │ Isolation Forest │                 0.10 │\n",
            "├────┼──────────────────┼──────────────────────┤\n",
            "│  1 │ One-Class SVM    │                 0.04 │\n",
            "╘════╧══════════════════╧══════════════════════╛\n"
          ]
        }
      ]
    },
    {
      "cell_type": "markdown",
      "source": [
        "## **Técnicas de Ensamble Homogéneas**"
      ],
      "metadata": {
        "id": "EcBTFBVGMKDy"
      },
      "id": "EcBTFBVGMKDy"
    },
    {
      "cell_type": "markdown",
      "source": [
        "En primer lugar, se decidió trabajar con dos técnicas de ensamble homogéneas:\n",
        "\n",
        "\n",
        "1.   **Bagging**\n",
        "2.   **Random Subspace Method**"
      ],
      "metadata": {
        "id": "prpVdFbK_Ixj"
      },
      "id": "prpVdFbK_Ixj"
    },
    {
      "cell_type": "markdown",
      "source": [
        "### **Bagging (Bootstrap Aggregation)**"
      ],
      "metadata": {
        "id": "N-0zvcIWMRV-"
      },
      "id": "N-0zvcIWMRV-"
    },
    {
      "cell_type": "markdown",
      "source": [
        "La primera de estas técnicas, *Bagging*, consiste en entrenar múltiples instancias de un mismo modelo en diferentes muestras \"bootstrapped\" de los datos. Esta es una técnica que es comúnmente usada para reducir varianza con un dataset muy ruidoso.\n",
        "\n",
        "Una muestra bootstrapped o \"bootstrapped sample\" consiste en un método de muestreo que involucra el seleccionar objetos con reemplazo, permitiendo a los objetos el ser seleccionados nuevamente o en múltiples ocasiones. Son usadas comunmente en modelos de aprendizaje máquina para generar múltiples datasets de entrenamiento para estimaciones de errores de clasificación sin prejuicio y permitir la mejora de la eficiencia en los sistemas de recomendación."
      ],
      "metadata": {
        "id": "MaDDrYqv_-oI"
      },
      "id": "MaDDrYqv_-oI"
    },
    {
      "cell_type": "markdown",
      "source": [
        "La primera instancia incurrió en aplicar esta técnica con el modelo de Isolation Forest.\n",
        "\n",
        "Se definió una función para hacer uso de la técnica al iterar en múltiples ocasiones sobre Isolation Forest, mientras se obtenían las métricas definidas anteriormente en la búsqueda de malla."
      ],
      "metadata": {
        "id": "DVgEMh0BBTg1"
      },
      "id": "DVgEMh0BBTg1"
    },
    {
      "cell_type": "code",
      "source": [
        "# Ensamblaje con Bagging para Isolation Forest\n",
        "def bagging_ensemble_if(X_train, X_test, y_true, n_estimators=5):\n",
        "    start_time = time.time()  # Inicio del temporizador\n",
        "\n",
        "    decision_scores = [] # Guardado de las puntuaciones de las decisiones\n",
        "    for _ in range(n_estimators):\n",
        "        model = IsolationForest(contamination=0.1, random_state=np.random.randint(100))\n",
        "        model.fit(X_train)  # Entrenamiento en X_train\n",
        "        decision_scores.append(model.decision_function(X_test))  # Predicción en X_test usando decision_function\n",
        "\n",
        "    # Promedio de las puntuaciones de decisión para el voto\n",
        "    mean_decision_scores = np.mean(decision_scores, axis=0)\n",
        "\n",
        "    # Predicción final usando el umbral del percentil 75\n",
        "    threshold = np.percentile(mean_decision_scores, 75)  # Threshold basado en el percentil 75\n",
        "    y_pred_mapped = np.where(mean_decision_scores < threshold, 1, 0)  # Mapeo de predicciones\n",
        "\n",
        "    # Cálculo de métricas obtenidas\n",
        "    precision = precision_score(y_true, y_pred_mapped, average='binary', zero_division=0)\n",
        "    recall = recall_score(y_true, y_pred_mapped, average='binary', zero_division=0)\n",
        "    f1 = f1_score(y_true, y_pred_mapped, average='binary', zero_division=0)\n",
        "    cm = confusion_matrix(y_true, y_pred_mapped)\n",
        "    exec_time = time.time() - start_time\n",
        "\n",
        "    # Cálculo de PR-AUC y ROC-AUC\n",
        "    precision_pr, recall_pr, _ = precision_recall_curve(y_true, mean_decision_scores)\n",
        "    pr_auc = auc(recall_pr, precision_pr)\n",
        "    roc_auc = roc_auc_score(y_true, mean_decision_scores)\n",
        "\n",
        "    return precision, recall, f1, exec_time, cm, y_pred_mapped, pr_auc, roc_auc"
      ],
      "metadata": {
        "id": "qxZ2GOjcEgQ9"
      },
      "id": "qxZ2GOjcEgQ9",
      "execution_count": 32,
      "outputs": []
    },
    {
      "cell_type": "markdown",
      "source": [
        "Una vez que se generó la función, se llevó a cabo su ejecución, se guardaron sus resultados y se imprimieron las métricas y predicciones para revisarlas."
      ],
      "metadata": {
        "id": "Iwix5dyADPvR"
      },
      "id": "Iwix5dyADPvR"
    },
    {
      "cell_type": "code",
      "source": [
        "# Ejecución de Bagging con Isolation Forest\n",
        "precision_if, recall_if, f1_if, exec_time_if, cm_if, bagging_predictions, pr_auc_if, roc_auc_if = bagging_ensemble_if(\n",
        "    X_train=X_train,\n",
        "    X_test=X_test,\n",
        "    y_true=y_test\n",
        ")\n",
        "\n",
        "# Guardado de los resultados en un diccionario\n",
        "results_bagging_if = {\n",
        "    'precision': precision_if,\n",
        "    'recall': recall_if,\n",
        "    'f1': f1_if,\n",
        "    'pr_auc': pr_auc_if,\n",
        "    'roc_auc': roc_auc_if,\n",
        "    'exec_time': exec_time_if\n",
        "}\n",
        "\n",
        "# Impresión de predicciones y métricas para revisión\n",
        "print(\"Resultados del Bagging con Isolation Forest:\")\n",
        "print(\"\\n\")\n",
        "print(\"Predicciones:\", bagging_predictions)\n",
        "print(\"Matriz de Confusión:\\n\", cm_if)\n",
        "print(f\"Precisión: {precision_if}, Recall: {recall_if}, F1 Score: {f1_if}, \"\n",
        "      f\"PR AUC: {pr_auc_if}, ROC AUC: {roc_auc_if}, Tiempo de Ejecución: {exec_time_if}\")"
      ],
      "metadata": {
        "colab": {
          "base_uri": "https://localhost:8080/"
        },
        "id": "904TDDgaBC0i",
        "outputId": "bb6796d4-e4f8-4794-848f-3ce5d896c2ed"
      },
      "id": "904TDDgaBC0i",
      "execution_count": 33,
      "outputs": [
        {
          "output_type": "stream",
          "name": "stdout",
          "text": [
            "Resultados del Bagging con Isolation Forest:\n",
            "\n",
            "\n",
            "Predicciones: [1 1 0 1 1 1 1 1 1 1 0 1 1 1 0 1 1 0 1 1 1 1 0 1 1 1 0 0 1 1 1 0 0 1 1 1 1\n",
            " 1 1 1 1 1 1 1 1 1 0 1 1 1 1 1 1 1 1 1 1 1 1 0 0 1 0 1 0 1 1 1 1 1 1 1 0 0\n",
            " 1 1 1 1 1 1 1 1 0 1 1 1 1 0 1 1 0 0 0 1 1 1 1 1 1 1 1 0 1 0 1 0 0 0 0 1 1\n",
            " 0 0 1]\n",
            "Matriz de Confusión:\n",
            " [[11 67]\n",
            " [18 18]]\n",
            "Precisión: 0.21176470588235294, Recall: 0.5, F1 Score: 0.2975206611570248, PR AUC: 0.5433031904750978, ROC AUC: 0.815883190883191, Tiempo de Ejecución: 0.9452972412109375\n"
          ]
        }
      ]
    },
    {
      "cell_type": "markdown",
      "source": [
        "De igual forma, se definió una función para hacer uso de la técnica de Bagging al iterar en múltiples ocasiones sobre el One-Class SVM."
      ],
      "metadata": {
        "id": "VDXAwu0_EF4U"
      },
      "id": "VDXAwu0_EF4U"
    },
    {
      "cell_type": "code",
      "source": [
        "# Ensamblaje con Bagging para One-Class SVM\n",
        "def bagging_ensemble_svm(X_train, X_test, y_true, n_estimators=5):\n",
        "    start_time = time.time()  # Inicio del temporizador\n",
        "\n",
        "    decision_scores = []  # Guardado de las puntuaciones de las decisiones\n",
        "    for _ in range(n_estimators):\n",
        "        model = OneClassSVM(kernel='rbf', gamma='scale', nu=0.5)  # Modelo de SVM\n",
        "        model.fit(X_train)  # Train on X_train\n",
        "        decision_scores.append(model.decision_function(X_test))\n",
        "\n",
        "    # Promedio de las puntuaciones de decisión\n",
        "    mean_decision_scores = np.mean(decision_scores, axis=0)\n",
        "\n",
        "    # Mapeo de las puntuaciones de decisión: negativos como anomalías y positivos como normales\n",
        "    y_pred_mapped = np.where(mean_decision_scores < 0, 1, 0)  # Mapeo de puntuaciones a 0 (normales) y 1 (anomalías)\n",
        "\n",
        "    # Cálculo de métricas obtenidas\n",
        "    precision = precision_score(y_true, y_pred_mapped, average='binary', zero_division=0)\n",
        "    recall = recall_score(y_true, y_pred_mapped, average='binary', zero_division=0)\n",
        "    f1 = f1_score(y_true, y_pred_mapped, average='binary', zero_division=0)\n",
        "    cm = confusion_matrix(y_true, y_pred_mapped)\n",
        "    exec_time = time.time() - start_time  # Execution time\n",
        "\n",
        "    # Cálculo de PR-AUC y ROC-AUC\n",
        "    precision_pr, recall_pr, _ = precision_recall_curve(y_true, mean_decision_scores)\n",
        "    pr_auc = auc(recall_pr, precision_pr)\n",
        "    roc_auc = roc_auc_score(y_true, mean_decision_scores)\n",
        "\n",
        "    return precision, recall, f1, exec_time, cm, y_pred_mapped, pr_auc, roc_auc"
      ],
      "metadata": {
        "id": "p_Ct-5fyOpSk"
      },
      "id": "p_Ct-5fyOpSk",
      "execution_count": 34,
      "outputs": []
    },
    {
      "cell_type": "markdown",
      "source": [
        "Una vez que se generó la función, se llevó a cabo su ejecución, se guardaron sus resultados y se imprimieron las métricas y predicciones para revisarlas."
      ],
      "metadata": {
        "id": "1hpMnBuFFxdX"
      },
      "id": "1hpMnBuFFxdX"
    },
    {
      "cell_type": "code",
      "source": [
        "# Ejecución de Bagging con One-Class SVM\n",
        "precision_svm, recall_svm, f1_svm, exec_time_svm, cm_svm, bagging_predictions_svm, pr_auc_svm, roc_auc_svm = bagging_ensemble_svm(\n",
        "    X_train=X_train,\n",
        "    X_test=X_test,\n",
        "    y_true=y_test\n",
        ")\n",
        "\n",
        "# Guardado de los resultados en un diccionario\n",
        "results_bagging_svm = {\n",
        "    'precision': precision_svm,\n",
        "    'recall': recall_svm,\n",
        "    'f1': f1_svm,\n",
        "    'pr_auc': pr_auc_svm,\n",
        "    'roc_auc': roc_auc_svm,\n",
        "    'exec_time': exec_time_svm\n",
        "}\n",
        "\n",
        "# Impresión de predicciones y métricas para revisión\n",
        "print(\"Resultados del Bagging con One-Class SVM:\")\n",
        "print(\"\\n\")\n",
        "print(\"Predicciones:\", bagging_predictions_svm)\n",
        "print(\"Matriz de Confusión:\\n\", cm_svm)\n",
        "print(f\"Precisión: {precision_svm}, Recall: {recall_svm}, F1 Score: {f1_svm}, \"\n",
        "      f\"PR AUC: {pr_auc_svm}, ROC AUC: {roc_auc_svm}, Tiempo de Ejecución: {exec_time_svm}\")"
      ],
      "metadata": {
        "colab": {
          "base_uri": "https://localhost:8080/"
        },
        "id": "OpwO2LgFEWpL",
        "outputId": "8dea532a-8b24-45e1-b059-2adc667bf66b"
      },
      "id": "OpwO2LgFEWpL",
      "execution_count": 35,
      "outputs": [
        {
          "output_type": "stream",
          "name": "stdout",
          "text": [
            "Resultados del Bagging con One-Class SVM:\n",
            "\n",
            "\n",
            "Predicciones: [1 0 0 1 1 1 0 0 0 1 1 0 1 0 1 0 1 0 1 1 1 1 1 1 0 0 1 1 0 1 0 1 1 1 0 0 0\n",
            " 1 1 0 0 1 0 1 0 0 1 1 1 0 1 0 0 0 0 1 0 1 0 1 0 0 1 1 1 1 0 0 1 1 0 0 1 1\n",
            " 1 1 1 1 0 1 1 0 0 1 1 0 0 1 1 1 1 1 1 1 0 0 1 1 0 0 0 1 0 1 1 1 0 0 1 1 0\n",
            " 0 1 0]\n",
            "Matriz de Confusión:\n",
            " [[50 28]\n",
            " [ 0 36]]\n",
            "Precisión: 0.5625, Recall: 1.0, F1 Score: 0.72, PR AUC: 0.183288216282745, ROC AUC: 0.07086894586894586, Tiempo de Ejecución: 0.1964261531829834\n"
          ]
        }
      ]
    },
    {
      "cell_type": "markdown",
      "source": [
        "Una vez que se obtuvieron estos resultados, se generaron un par de diccionarios para métricas y tiempos de ejecución que fueron transformados a Dataframes y concatenados con los Dataframes originales para su almacenamiento."
      ],
      "metadata": {
        "id": "y1Fx1cFuGX_1"
      },
      "id": "y1Fx1cFuGX_1"
    },
    {
      "cell_type": "code",
      "source": [
        "# Añadido de resultados de las métricas de Bagging a un diccionario\n",
        "bagging_metrics_data = {\n",
        "    'Model': ['Bagging Isolation Forest', 'Bagging One-Class SVM'],\n",
        "    'Precision': [results_bagging_if['precision'], results_bagging_svm['precision']],\n",
        "    'Recall': [results_bagging_if['recall'], results_bagging_svm['recall']],\n",
        "    'F1': [results_bagging_if['f1'], results_bagging_svm['f1']],\n",
        "    'PR_AUC': [results_bagging_if['pr_auc'], results_bagging_svm['pr_auc']],\n",
        "    'ROC_AUC': [results_bagging_if['roc_auc'], results_bagging_svm['roc_auc']],\n",
        "}\n",
        "\n",
        "# Concatenado de los resultados de Bagging al DataFrame de métricas\n",
        "bagging_metrics_df = pd.DataFrame(bagging_metrics_data)\n",
        "opt_metrics_df = pd.concat([opt_metrics_df, bagging_metrics_df], ignore_index=True)\n",
        "\n",
        "# Añadido de resultados de los tiempos de ejecución de Bagging a un diccionario\n",
        "bagging_execution_time_data = {\n",
        "    'Model': ['Bagging Isolation Forest', 'Bagging One-Class SVM'],\n",
        "    'Execution Time (s)': [results_bagging_if['exec_time'], results_bagging_svm['exec_time']],\n",
        "}\n",
        "\n",
        "# Concatenado de los resultados de Bagging al DataFrame de tiempos de ejecución\n",
        "bagging_execution_time_df = pd.DataFrame(bagging_execution_time_data)\n",
        "opt_execution_time_df = pd.concat([opt_execution_time_df, bagging_execution_time_df], ignore_index=True)"
      ],
      "metadata": {
        "id": "cVCtBbfhu1wK"
      },
      "id": "cVCtBbfhu1wK",
      "execution_count": 36,
      "outputs": []
    },
    {
      "cell_type": "markdown",
      "source": [
        "### **Random Subspace Method**"
      ],
      "metadata": {
        "id": "MCM3Xe83MtJN"
      },
      "id": "MCM3Xe83MtJN"
    },
    {
      "cell_type": "markdown",
      "source": [
        "La segunda técnica a utilizar es el *Random Subspace Method*. Esta técnica es una variación del método anterior que introduce aleatoriedad adicional al entrenar cada modelo con un subconjunto al azar de características.\n",
        "\n",
        "Este método tiene varios puntos fuertes como la diversidad entre los modelos, la cual se obtiene al realizar el entrenamiento con subconjuntos aleatorios, o la reducción de sobreajustes."
      ],
      "metadata": {
        "id": "IvU4LGopJwxb"
      },
      "id": "IvU4LGopJwxb"
    },
    {
      "cell_type": "markdown",
      "source": [
        "Se definió una función para hacer uso de la técnica al iterar en múltiples ocasiones sobre Isolation Forest y el One-Class SVM, mientras se obtenían las métricas definidas anteriormente en la búsqueda de malla."
      ],
      "metadata": {
        "id": "irhNN2OmONr_"
      },
      "id": "irhNN2OmONr_"
    },
    {
      "cell_type": "code",
      "source": [
        "# Ensamblaje con Random Subspace Method para Isolation Forest y One-Class SVM\n",
        "def random_subspace_ensemble(X_train, X_test, y_true, n_estimators=5, threshold=None):\n",
        "    start_time = time.time()  # Inicio del temporizador\n",
        "\n",
        "    # Inicializado de listas para recolectar las métricas por cada modelo\n",
        "    precision_list_if, recall_list_if, f1_list_if = [], [], []\n",
        "    pr_auc_list_if, roc_auc_list_if = [], []\n",
        "\n",
        "    precision_list_svm, recall_list_svm, f1_list_svm = [], [], []\n",
        "    pr_auc_list_svm, roc_auc_list_svm = [], []\n",
        "\n",
        "    predictions_if = []\n",
        "    predictions_svm = []\n",
        "    n_features = X_train.shape[1]\n",
        "\n",
        "    for _ in range(n_estimators):\n",
        "        # Selección al azar de un subconjunto de características\n",
        "        selected_features = np.random.choice(n_features, size=int(n_features * 0.8), replace=False)\n",
        "        X_train_subset = X_train[:, selected_features]\n",
        "        X_test_subset = X_test[:, selected_features]\n",
        "\n",
        "        # Entrenamiento de Isolation Forest\n",
        "        model_if = IsolationForest(contamination=0.1, random_state=np.random.randint(100))\n",
        "        model_if.fit(X_train_subset)\n",
        "        pred_if = model_if.decision_function(X_test_subset)  # Obtención de las puntuaciones de decisión\n",
        "        predictions_if.append(pred_if)\n",
        "\n",
        "        # Entrenamiento de One-Class SVM\n",
        "        model_svm = OneClassSVM(kernel='rbf', gamma='scale', nu=0.1)\n",
        "        model_svm.fit(X_train_subset)\n",
        "        predictions_svm.append(model_svm.predict(X_test_subset))\n",
        "\n",
        "    # Conversión de predicciones para Isolation Forest usando un umbral\n",
        "    final_pred_if = np.mean(predictions_if, axis=0)  # Promediado de las puntuaciones de la función de decisión\n",
        "\n",
        "    # Cálculo de umbral si no es proveído\n",
        "    if threshold is None:\n",
        "        threshold = np.percentile(final_pred_if, 75)  # Seteo de umbral basado en el percentil 75\n",
        "\n",
        "    y_pred_if_mapped = np.where(final_pred_if < threshold, 1, 0)  # Mapeo de puntuaciones basado en el umbral\n",
        "\n",
        "    # Votación por mayoría para One-Class SVM\n",
        "    final_pred_svm = np.sign(np.mean(predictions_svm, axis=0))\n",
        "    y_pred_svm_mapped = np.where(final_pred_svm == -1, 1, 0)\n",
        "\n",
        "    # Cálculo de métricas para Isolation Forest\n",
        "    precision_if = precision_score(y_true, y_pred_if_mapped, average='binary', zero_division=0)\n",
        "    recall_if = recall_score(y_true, y_pred_if_mapped, average='binary', zero_division=0)\n",
        "    f1_if = f1_score(y_true, y_pred_if_mapped, average='binary', zero_division=0)\n",
        "    pr_auc_if = average_precision_score(y_true, y_pred_if_mapped)\n",
        "    roc_auc_if = roc_auc_score(y_true, y_pred_if_mapped)\n",
        "\n",
        "    # Cálculo de métricas para One-Class SVM\n",
        "    precision_svm = precision_score(y_true, y_pred_svm_mapped, average='binary', zero_division=0)\n",
        "    recall_svm = recall_score(y_true, y_pred_svm_mapped, average='binary', zero_division=0)\n",
        "    f1_svm = f1_score(y_true, y_pred_svm_mapped, average='binary', zero_division=0)\n",
        "    pr_auc_svm = average_precision_score(y_true, y_pred_svm_mapped)\n",
        "    roc_auc_svm = roc_auc_score(y_true, y_pred_svm_mapped)\n",
        "\n",
        "    # Guardado de métricas en las listas (IF)\n",
        "    precision_list_if.append(precision_if)\n",
        "    recall_list_if.append(recall_if)\n",
        "    f1_list_if.append(f1_if)\n",
        "    pr_auc_list_if.append(pr_auc_if)\n",
        "    roc_auc_list_if.append(roc_auc_if)\n",
        "\n",
        "    # Guardado de métricas en las listas (OCSVM)\n",
        "    precision_list_svm.append(precision_svm)\n",
        "    recall_list_svm.append(recall_svm)\n",
        "    f1_list_svm.append(f1_svm)\n",
        "    pr_auc_list_svm.append(pr_auc_svm)\n",
        "    roc_auc_list_svm.append(roc_auc_svm)\n",
        "\n",
        "    # Cálculo de la matriz de confusión para Isolation Forest\n",
        "    cm_if = confusion_matrix(y_true, y_pred_if_mapped)\n",
        "\n",
        "    # Cálculo de la matriz de confusión para One-Class SVM\n",
        "    cm_svm = confusion_matrix(y_true, y_pred_svm_mapped)\n",
        "\n",
        "    # Tiempo de ejecución\n",
        "    exec_time = time.time() - start_time\n",
        "\n",
        "    # Cálculo del promedio de las métricas (IF)\n",
        "    avg_precision_if = np.mean(precision_list_if)\n",
        "    avg_recall_if = np.mean(recall_list_if)\n",
        "    avg_f1_if = np.mean(f1_list_if)\n",
        "    avg_pr_auc_if = np.mean(pr_auc_list_if)\n",
        "    avg_roc_auc_if = np.mean(roc_auc_list_if)\n",
        "\n",
        "    # Cálculo del promedio de las métricas (OCSVM)\n",
        "    avg_precision_svm = np.mean(precision_list_svm)\n",
        "    avg_recall_svm = np.mean(recall_list_svm)\n",
        "    avg_f1_svm = np.mean(f1_list_svm)\n",
        "    avg_pr_auc_svm = np.mean(pr_auc_list_svm)\n",
        "    avg_roc_auc_svm = np.mean(roc_auc_list_svm)\n",
        "\n",
        "    # Impresión de resultados\n",
        "    print(\"Resultados del Ensamble de Subespacio Aleatorio:\")\n",
        "    print(\"\\n\")\n",
        "    print(f\"Precisión Promedio: {avg_precision_if:.4f}, Recall Promedio: {avg_recall_if:.4f}, F1 Score Promedio: {avg_f1_if:.4f}\")\n",
        "    print(f\"PR AUC Promedio: {avg_pr_auc_if:.4f}, ROC AUC Promedio: {avg_roc_auc_if:.4f}\")\n",
        "    print(f\"Tiempo de Ejecución Total: {exec_time:.4f} segundos\")\n",
        "    print(\"\\nMatriz de Confusión para Isolation Forest:\")\n",
        "    print(cm_if)\n",
        "\n",
        "    return (avg_precision_if, avg_recall_if, avg_f1_if, avg_pr_auc_if, avg_roc_auc_if, exec_time, y_pred_if_mapped), (avg_precision_svm, avg_recall_svm, avg_f1_svm, avg_pr_auc_svm, avg_roc_auc_svm, exec_time, y_pred_svm_mapped)"
      ],
      "metadata": {
        "id": "aXadGi2F21ki"
      },
      "id": "aXadGi2F21ki",
      "execution_count": 37,
      "outputs": []
    },
    {
      "cell_type": "markdown",
      "source": [
        "Una vez que se generó la función, se llevó a cabo su ejecución, se guardaron sus resultados y se imprimieron las métricas y predicciones para revisarlas."
      ],
      "metadata": {
        "id": "7iCqP4DwOs_M"
      },
      "id": "7iCqP4DwOs_M"
    },
    {
      "cell_type": "code",
      "source": [
        "# Ejecución de Random Subspace Method\n",
        "results_if_random_subspace, results_svm_random_subspace = random_subspace_ensemble(X_train, X_test, y_test)\n",
        "\n",
        "# Desempacado de los resultados de la función de ensamble\n",
        "(\n",
        "    avg_precision_if, avg_recall_if, avg_f1_if, avg_pr_auc_if, avg_roc_auc_if, exec_time, y_pred_if_mapped\n",
        " ), (\n",
        "     avg_precision_svm, avg_recall_svm, avg_f1_svm, avg_pr_auc_svm, avg_roc_auc_svm, exec_time, y_pred_svm_mapped\n",
        "     ) = results_if_random_subspace, results_svm_random_subspace\n",
        "\n",
        "# Añadido de resultados de las métricas de Random Subspace Method a un diccionario\n",
        "random_subspace_metrics_data = {\n",
        "    'Model': ['Random Subspace Isolation Forest', 'Random Subspace One-Class SVM'],\n",
        "    'Precision': [avg_precision_if, avg_precision_svm],\n",
        "    'Recall': [avg_recall_if, avg_recall_svm],\n",
        "    'F1': [avg_f1_if, avg_f1_svm],\n",
        "    'PR_AUC': [avg_pr_auc_if, avg_pr_auc_svm],\n",
        "    'ROC_AUC': [avg_roc_auc_if, avg_roc_auc_svm],\n",
        "}\n",
        "\n",
        "# Creación de un DataFrame para las métricas\n",
        "random_subspace_metrics_df = pd.DataFrame(random_subspace_metrics_data)\n",
        "\n",
        "# Añadido de resultados de los tiempos de ejecución de Random Subspace Method a un diccionario\n",
        "random_subspace_execution_time_data = {\n",
        "    'Model': ['Random Subspace Isolation Forest', 'Random Subspace One-Class SVM'],\n",
        "    'Execution Time (s)': [exec_time_if, exec_time_svm],\n",
        "}\n",
        "\n",
        "# Creación de un DataFrame para los tiempos de ejecución\n",
        "random_subspace_execution_time_df = pd.DataFrame(random_subspace_execution_time_data)"
      ],
      "metadata": {
        "id": "V_mPxccgnqdV",
        "colab": {
          "base_uri": "https://localhost:8080/"
        },
        "outputId": "a7afad34-93fc-4be1-ccb8-3481a5dab76b"
      },
      "id": "V_mPxccgnqdV",
      "execution_count": 38,
      "outputs": [
        {
          "output_type": "stream",
          "name": "stdout",
          "text": [
            "Resultados del Ensamble de Subespacio Aleatorio:\n",
            "\n",
            "\n",
            "Precisión Promedio: 0.2118, Recall Promedio: 0.5000, F1 Score Promedio: 0.2975\n",
            "PR AUC Promedio: 0.2638, ROC AUC Promedio: 0.3205\n",
            "Tiempo de Ejecución Total: 0.9712 segundos\n",
            "\n",
            "Matriz de Confusión para Isolation Forest:\n",
            "[[11 67]\n",
            " [18 18]]\n"
          ]
        }
      ]
    },
    {
      "cell_type": "markdown",
      "source": [
        "De igual forma, al obtener estos resultados, se generaron un par de diccionarios para métricas y tiempos de ejecución que fueron transformados a Dataframes y concatenados con los Dataframes originales para su almacenamiento."
      ],
      "metadata": {
        "id": "RVKjRfR-PO1h"
      },
      "id": "RVKjRfR-PO1h"
    },
    {
      "cell_type": "code",
      "source": [
        "# Concatenado de los resultados de Random Subspace Method al DataFrame de métricas\n",
        "opt_metrics_df = pd.concat([opt_metrics_df, random_subspace_metrics_df], ignore_index=True)\n",
        "\n",
        "# Concatenado de los resultados de Random Subspace Method al DataFrame de tiempos de ejecución\n",
        "opt_execution_time_df = pd.concat([opt_execution_time_df, random_subspace_execution_time_df], ignore_index=True)"
      ],
      "metadata": {
        "id": "jakuujQRo6fV"
      },
      "id": "jakuujQRo6fV",
      "execution_count": 39,
      "outputs": []
    },
    {
      "cell_type": "markdown",
      "source": [
        "## **Técnicas de Ensamble Heterogéneas**"
      ],
      "metadata": {
        "id": "gY4OlwJYM1I0"
      },
      "id": "gY4OlwJYM1I0"
    },
    {
      "cell_type": "markdown",
      "source": [
        "Además de las técnicas anteriores, se decidió trabajar con tres técnicas de ensamble heterogéneas:\n",
        "\n",
        "\n",
        "1.   **Blending**\n",
        "2.   **Majority Voting**\n",
        "3.   **Soft Voting**"
      ],
      "metadata": {
        "id": "GyV2EA-1PjNs"
      },
      "id": "GyV2EA-1PjNs"
    },
    {
      "cell_type": "markdown",
      "source": [
        "### **Blending**"
      ],
      "metadata": {
        "id": "ZEo34-DuG_Ec"
      },
      "id": "ZEo34-DuG_Ec"
    },
    {
      "cell_type": "markdown",
      "source": [
        "En primer lugar, la técnica de **Blending** consiste en utilizar un conjunto de modelos base para obtener valores de predicciones base como nuevas características para un nuevo modelo \"meta\", el cual es entrenado con esta información para brindar una predicción final.\n",
        "\n",
        "La diferencia principal que tiene este método contra el **Stacking** es que esta técnica realiza el entrenamiento del modelo meta con un subconjunto de los datos originales de entrenamiento, conocido como *holdout-set*."
      ],
      "metadata": {
        "id": "r5Flgr-3gCkp"
      },
      "id": "r5Flgr-3gCkp"
    },
    {
      "cell_type": "markdown",
      "source": [
        "Se definió una función para hacer uso de la técnica al tomar al Isolation Forest y el One-Class SVM como los modelos base y definiendo al modelo meta a un modelo de Regresión Logística, mientras se obtenían las métricas definidas anteriormente en la búsqueda de malla."
      ],
      "metadata": {
        "id": "B01NbqhPkxbo"
      },
      "id": "B01NbqhPkxbo"
    },
    {
      "cell_type": "code",
      "source": [
        "# Definición de función para Blending\n",
        "def blending(X_train, X_test, y_train, y_test, contamination=0.1):\n",
        "    start_time = time.time()  # Inicio del temporizador\n",
        "\n",
        "    # Entrenamiento de los modelos base\n",
        "    model_if = IsolationForest(contamination=contamination, random_state=42)\n",
        "    model_svm = OneClassSVM(kernel='rbf', gamma='scale', nu=0.1)\n",
        "\n",
        "    # Ajuste de los modelos\n",
        "    model_if.fit(X_train)\n",
        "    model_svm.fit(X_train)\n",
        "\n",
        "    # Obtención de las predicciones\n",
        "    pred_if = model_if.predict(X_test)\n",
        "    pred_svm = model_svm.predict(X_test)\n",
        "\n",
        "    # Aplicación del umbral para el Isolation Forest\n",
        "    y_pred_if = np.where(pred_if == -1, 1, 0)  # Mapeo del -1 a 1 (anomalías), 1 a 0 (normales)\n",
        "\n",
        "    # Creación de entrada para el 'meta-learner'\n",
        "    blend_input = np.vstack((y_pred_if, pred_svm)).T\n",
        "\n",
        "    # Entrenamiento del 'meta-learner'\n",
        "    meta_model = LogisticRegression()\n",
        "    meta_model.fit(blend_input, y_test)\n",
        "\n",
        "    # Obtenido de predicciones finales\n",
        "    final_predictions = meta_model.predict(blend_input)\n",
        "\n",
        "    # Cálculo de métricas\n",
        "    precision = precision_score(y_test, final_predictions, average='binary', zero_division=0)\n",
        "    recall = recall_score(y_test, final_predictions, average='binary', zero_division=0)\n",
        "    f1 = f1_score(y_test, final_predictions, average='binary', zero_division=0)\n",
        "    roc_auc = roc_auc_score(y_test, final_predictions)\n",
        "    pr_auc = average_precision_score(y_test, final_predictions)\n",
        "    exec_time = time.time() - start_time\n",
        "    cm = confusion_matrix(y_test, final_predictions)\n",
        "\n",
        "    # Diccionario con Resultados\n",
        "    results_bl = {\n",
        "    'precision': precision,\n",
        "    'recall': recall,\n",
        "    'f1': f1,\n",
        "    'pr_auc': pr_auc,\n",
        "    'roc_auc': roc_auc,\n",
        "    'exec_time': exec_time\n",
        "    }\n",
        "\n",
        "    # Impresión de Resultados\n",
        "    print(\"Resultados de Blending:\")\n",
        "    print(f\"Predicciones: {final_predictions}\")\n",
        "    print(f\"Matriz de Confusión:\\n{cm}\")\n",
        "    print(f\"Precisión: {precision:.4f}, Recall: {recall:.4f}, F1 Score: {f1:.4f}, \"\n",
        "          f\"ROC AUC: {roc_auc:.4f}, PR AUC: {pr_auc:.4f}, Tiempo de Ejecución: {exec_time:.4f}s\")\n",
        "\n",
        "    return final_predictions, results_bl"
      ],
      "metadata": {
        "id": "O36qwIPMHCYd"
      },
      "id": "O36qwIPMHCYd",
      "execution_count": 40,
      "outputs": []
    },
    {
      "cell_type": "markdown",
      "source": [
        "Una vez que se generó la función, se llevó a cabo su ejecución y se imprimieron sus resultados para revisarlos."
      ],
      "metadata": {
        "id": "mpwzyiyUlE38"
      },
      "id": "mpwzyiyUlE38"
    },
    {
      "cell_type": "code",
      "source": [
        "# Ejecución de Blending\n",
        "pred_blending, results_blending = blending(X_train, X_test, y_train, y_test, contamination=0.05)"
      ],
      "metadata": {
        "colab": {
          "base_uri": "https://localhost:8080/"
        },
        "id": "7KOKjeMeHZCk",
        "outputId": "26e39b1f-be19-42b7-9600-7f8a4634e2c2"
      },
      "id": "7KOKjeMeHZCk",
      "execution_count": 41,
      "outputs": [
        {
          "output_type": "stream",
          "name": "stdout",
          "text": [
            "Resultados de Blending:\n",
            "Predicciones: [1. 0. 0. 1. 1. 1. 0. 0. 0. 0. 1. 0. 1. 0. 1. 0. 0. 0. 0. 0. 1. 1. 1. 1.\n",
            " 0. 0. 0. 1. 0. 1. 0. 1. 0. 1. 0. 0. 0. 0. 1. 0. 0. 0. 0. 0. 0. 0. 1. 1.\n",
            " 0. 0. 1. 0. 0. 0. 0. 1. 0. 1. 0. 1. 0. 0. 1. 1. 0. 1. 0. 0. 0. 0. 0. 0.\n",
            " 1. 0. 0. 0. 0. 0. 0. 1. 0. 0. 0. 1. 0. 0. 0. 0. 1. 1. 0. 0. 0. 1. 0. 0.\n",
            " 1. 0. 0. 0. 0. 0. 0. 0. 0. 0. 0. 0. 0. 0. 0. 0. 0. 0.]\n",
            "Matriz de Confusión:\n",
            "[[72  6]\n",
            " [10 26]]\n",
            "Precisión: 0.8125, Recall: 0.7222, F1 Score: 0.7647, ROC AUC: 0.8226, PR AUC: 0.6745, Tiempo de Ejecución: 0.2374s\n"
          ]
        }
      ]
    },
    {
      "cell_type": "markdown",
      "source": [
        "De igual forma a los métodos anteriores, al obtener estos resultados, se generaron un par de diccionarios para métricas y tiempos de ejecución que fueron transformados a Dataframes y concatenados con los Dataframes originales para su almacenamiento."
      ],
      "metadata": {
        "id": "GePtidodlVgZ"
      },
      "id": "GePtidodlVgZ"
    },
    {
      "cell_type": "code",
      "source": [
        "# Añadido de resultados de las métricas de Blending a un diccionario\n",
        "blending_metrics_data = {\n",
        "    'Model': ['Blending'],\n",
        "    'Precision': [results_blending['precision']],\n",
        "    'Recall': [results_blending['recall']],\n",
        "    'F1': [results_blending['f1']],\n",
        "    'PR_AUC': [results_blending['pr_auc']],\n",
        "    'ROC_AUC': [results_blending['roc_auc']],\n",
        "}\n",
        "\n",
        "# Creación de un DataFrame para las métricas y concatenado de los resultados al DataFrame de métricas\n",
        "blending_metrics_df = pd.DataFrame(blending_metrics_data)\n",
        "opt_metrics_df = pd.concat([opt_metrics_df, blending_metrics_df], ignore_index=True)\n",
        "\n",
        "# Añadido de resultados de los tiempos de ejecución de Blending a un diccionario\n",
        "blending_execution_time_data = {\n",
        "    'Model': ['Blending'],\n",
        "    'Execution Time (s)': [results_blending['exec_time']],\n",
        "}\n",
        "\n",
        "# Creación de un DataFrame para los tiempos de ejecución y concatenado de los resultados al DataFrame de tiempos de ejecución\n",
        "blending_execution_time_df = pd.DataFrame(blending_execution_time_data)\n",
        "opt_execution_time_df = pd.concat([opt_execution_time_df, blending_execution_time_df], ignore_index=True)"
      ],
      "metadata": {
        "id": "7sFlp4ojrO30"
      },
      "id": "7sFlp4ojrO30",
      "execution_count": 42,
      "outputs": []
    },
    {
      "cell_type": "markdown",
      "source": [
        "### **Majority Voting**"
      ],
      "metadata": {
        "id": "vW3p3XVHHI_n"
      },
      "id": "vW3p3XVHHI_n"
    },
    {
      "cell_type": "markdown",
      "source": [
        "El siguiente método a utilizar es la votación por mayoría, mejor conocida como **Majority Voting** o **Hard Voting**.\n",
        "\n",
        "Este método de ensamble consiste en que cada clasificador realiza una predicción y, por consencuencia, la predicción del ensamble es simplemente la que tiene la mayor cantidad de votos.\n",
        "\n",
        "Este método tiene una gran cantidad de ventajas por encima de otros métodos debido a la simplicidad en su ejecución, su efectividad y la versatilidad que tiene para ser utilizado con cualquier clasificador.\n",
        "\n",
        "No obstante, es vulnerable a la existencia de ruido en los datos y puede ser menos exacto que la *soft voting*."
      ],
      "metadata": {
        "id": "bx-BlwCklwjK"
      },
      "id": "bx-BlwCklwjK"
    },
    {
      "cell_type": "code",
      "source": [
        "# Definición de función para cálculo del umbral del Isolation Forest\n",
        "def calculate_isolation_forest_threshold(y_scores, percentile=75):\n",
        "    \"\"\"Cálculo del umbral basado en el percentil 75 de las puntuaciones de decisión.\"\"\"\n",
        "    return np.percentile(y_scores, percentile)\n",
        "\n",
        "# Definición de función para aplicación del umbral\n",
        "def apply_iforest_threshold(model, X_test, threshold):\n",
        "    \"\"\"Aplicación de umbral para las puntuaciones de decisión del Isolation Forest.\"\"\"\n",
        "    scores_test = model.decision_function(X_test)\n",
        "    predictions = np.where(scores_test < threshold, 1, 0)  # 1 = anomalía, 0 = normal\n",
        "    return predictions, scores_test\n",
        "\n",
        "# Definición de función para Majority Voting\n",
        "def majority_voting(X_train, X_test, y_train, y_test, contamination=0.1):\n",
        "    start_time = time.time()  # Inicio del temporizador\n",
        "\n",
        "    # Entrenamiento de los modelos individuales\n",
        "    model_if = IsolationForest(contamination=contamination, random_state=42)\n",
        "    model_if.fit(X_train)\n",
        "\n",
        "    model_svm = OneClassSVM(kernel='rbf', gamma='scale', nu=0.1)\n",
        "    model_svm.fit(X_train)\n",
        "\n",
        "    # Obtención de las puntuaciones del Isolation Forest y aplicación del umbral\n",
        "    y_scores_if = model_if.decision_function(X_test)\n",
        "    threshold_if = calculate_isolation_forest_threshold(y_scores_if, percentile=75)\n",
        "    pred_if_mapped, _ = apply_iforest_threshold(model_if, X_test, threshold_if)\n",
        "\n",
        "    # Predicciones del One-Class SVM\n",
        "    pred_svm = model_svm.predict(X_test)  # -1 = anomalía, 1 = normal\n",
        "    pred_svm_mapped = np.where(pred_svm == -1, 1, 0)  # Mapeo de -1 a 1 (anomalía), 1 a 0 (normal)\n",
        "\n",
        "    # Combinado de predicciones usando la votación mayoritaria\n",
        "    final_predictions = np.round((pred_if_mapped + pred_svm_mapped) / 2).astype(int)\n",
        "\n",
        "    # Cálculo de métricas\n",
        "    precision = precision_score(y_test, final_predictions, average='binary', zero_division=0)\n",
        "    recall = recall_score(y_test, final_predictions, average='binary', zero_division=0)\n",
        "    f1 = f1_score(y_test, final_predictions, average='binary', zero_division=0)\n",
        "\n",
        "    # Obtención de puntuaciones para las curvas ROC y PR (usando las puntuaciones de Isolation Forest)\n",
        "    roc_auc = roc_auc_score(y_test, y_scores_if)\n",
        "    precision_pr, recall_pr, _ = precision_recall_curve(y_test, y_scores_if)\n",
        "    pr_auc = auc(recall_pr, precision_pr)\n",
        "\n",
        "    # Tiempo de Ejecución\n",
        "    exec_time = time.time() - start_time\n",
        "\n",
        "    # Matriz de Confusión\n",
        "    cm = confusion_matrix(y_test, final_predictions)\n",
        "\n",
        "    # Impresión de Resultados\n",
        "    print(\"Resultados de Majority Voting:\")\n",
        "    print(f\"Predicciones: {final_predictions}\")\n",
        "    print(f\"Matriz de Confusión:\\n{cm}\")\n",
        "    print(f\"Precisión: {precision:.4f}, Recall: {recall:.4f}, F1 Score: {f1:.4f}, \"\n",
        "          f\"ROC AUC: {roc_auc:.4f}, PR AUC: {pr_auc:.4f}, Tiempo de Ejecución: {exec_time:.4f}s\")\n",
        "\n",
        "    # Retorno de predicciones finales y métricas en forma de diccionario\n",
        "    results = {\n",
        "        'precision': precision,\n",
        "        'recall': recall,\n",
        "        'f1': f1,\n",
        "        'roc_auc': roc_auc,\n",
        "        'pr_auc': pr_auc,\n",
        "        'exec_time': exec_time,\n",
        "        'confusion_matrix': cm,\n",
        "        'final_predictions': final_predictions\n",
        "    }\n",
        "\n",
        "    return results"
      ],
      "metadata": {
        "id": "UPqIo8joKYxT"
      },
      "id": "UPqIo8joKYxT",
      "execution_count": 43,
      "outputs": []
    },
    {
      "cell_type": "markdown",
      "source": [
        "Una vez que se generó la función, se llevó a cabo su ejecución y se imprimieron sus resultados para revisarlos."
      ],
      "metadata": {
        "id": "SnYpEYsYlN5y"
      },
      "id": "SnYpEYsYlN5y"
    },
    {
      "cell_type": "code",
      "source": [
        "# Ejecución de Majority Voting\n",
        "results_majority_voting = majority_voting(X_train, X_test, y_train, y_test, contamination=0.05)"
      ],
      "metadata": {
        "colab": {
          "base_uri": "https://localhost:8080/"
        },
        "id": "DtghNVjTJxjc",
        "outputId": "edaf551c-b2da-43a3-c8b4-dec3ed38f6e2"
      },
      "id": "DtghNVjTJxjc",
      "execution_count": 44,
      "outputs": [
        {
          "output_type": "stream",
          "name": "stdout",
          "text": [
            "Resultados de Majority Voting:\n",
            "Predicciones: [1 0 0 1 1 1 0 0 0 0 0 0 1 0 0 0 0 0 0 0 1 1 0 0 0 0 0 0 0 1 0 0 0 1 0 0 0\n",
            " 0 1 0 0 0 0 0 0 0 0 1 0 0 1 0 0 0 0 1 0 1 0 0 0 0 0 1 0 1 0 0 1 0 0 0 0 0\n",
            " 1 0 0 0 0 1 1 0 0 1 0 0 0 0 1 1 0 0 0 1 0 0 1 0 0 0 0 0 0 0 0 0 0 0 0 0 0\n",
            " 0 0 0]\n",
            "Matriz de Confusión:\n",
            "[[69  9]\n",
            " [20 16]]\n",
            "Precisión: 0.6400, Recall: 0.4444, F1 Score: 0.5246, ROC AUC: 0.8323, PR AUC: 0.5700, Tiempo de Ejecución: 0.2078s\n"
          ]
        }
      ]
    },
    {
      "cell_type": "markdown",
      "source": [
        "De igual forma a los métodos anteriores, al obtener estos resultados, se generaron un par de diccionarios para métricas y tiempos de ejecución que fueron transformados a Dataframes y concatenados con los Dataframes originales para su almacenamiento."
      ],
      "metadata": {
        "id": "XNHoP60ZlaQK"
      },
      "id": "XNHoP60ZlaQK"
    },
    {
      "cell_type": "code",
      "source": [
        "# Añadido de resultados de las métricas de Majority Voting a un diccionario\n",
        "majority_voting_metrics_data = {\n",
        "    'Model': ['Majority Voting'],\n",
        "    'Precision': [results_majority_voting['precision']],\n",
        "    'Recall': [results_majority_voting['recall']],\n",
        "    'F1': [results_majority_voting['f1']],\n",
        "    'PR_AUC': [results_majority_voting['pr_auc']],\n",
        "    'ROC_AUC': [results_majority_voting['roc_auc']],\n",
        "}\n",
        "\n",
        "# Creación de un DataFrame para las métricas y concatenado de los resultados al DataFrame de métricas\n",
        "majority_voting_metrics_df = pd.DataFrame(majority_voting_metrics_data)\n",
        "opt_metrics_df = pd.concat([opt_metrics_df, majority_voting_metrics_df], ignore_index=True)\n",
        "\n",
        "# Añadido de resultados de los tiempos de ejecución de Majority Voting a un diccionario\n",
        "majority_voting_execution_time_data = {\n",
        "    'Model': ['Majority Voting'],\n",
        "    'Execution Time (s)': [results_majority_voting['exec_time']],\n",
        "}\n",
        "\n",
        "# Creación de un DataFrame para los tiempos de ejecución y concatenado de los resultados al DataFrame de tiempos de ejecución\n",
        "majority_voting_execution_time_df = pd.DataFrame(majority_voting_execution_time_data)\n",
        "opt_execution_time_df = pd.concat([opt_execution_time_df, majority_voting_execution_time_df], ignore_index=True)"
      ],
      "metadata": {
        "id": "g69mjnX2tbid"
      },
      "id": "g69mjnX2tbid",
      "execution_count": 45,
      "outputs": []
    },
    {
      "cell_type": "markdown",
      "source": [
        "### **Soft Voting**"
      ],
      "metadata": {
        "id": "Htn6cM8EHNKq"
      },
      "id": "Htn6cM8EHNKq"
    },
    {
      "cell_type": "markdown",
      "source": [
        "Por último, el método que se utilizó es la votación suave, mejor conocida como **Soft Voting**.\n",
        "\n",
        "Este método de ensamble funciona al combinar las predicciones de múltiples clasificadores usando la probabilidad de las predicciones. Consiste en que cada clasificador le asigna una probabilidad a cada clase y, por consecuencia, la predicción del ensamble es la clase con la probabilidad total mayor.\n",
        "\n",
        "En general, este método es más exacto que *hard voting* debido a que toma en cuenta la confianza de la predicción de cada clasificador. Esto quiere decir que es menos probable que se cometan errores cuando clasificadores individuales no tengan tanta confianza en sus predicciones.\n",
        "\n",
        "Además de esto, este método es mucho más robusto ante la presencia de ruido en los datos y, al igual que el método anterior, puede ser utilizado con cualquier tipo de clasificador."
      ],
      "metadata": {
        "id": "xKpeP3k1m-Rb"
      },
      "id": "xKpeP3k1m-Rb"
    },
    {
      "cell_type": "code",
      "source": [
        "# Definición de función para Soft Voting\n",
        "def soft_voting_ensemble(X_train, X_test, y_train, y_test, contamination=0.1):\n",
        "    start_time = time.time()  # Inicio del temporizador\n",
        "\n",
        "    # Inicializado de los modelos\n",
        "    model_if = IsolationForest(contamination=contamination, random_state=42)\n",
        "    model_svm = OneClassSVM(kernel='rbf', gamma='scale', nu=0.1)\n",
        "\n",
        "    # Entrenamiento de modelos\n",
        "    model_if.fit(X_train)\n",
        "    model_svm.fit(X_train)\n",
        "\n",
        "    # Obtención de puntuaciones de función de decisión\n",
        "    scores_if = model_if.decision_function(X_test)\n",
        "    scores_svm = model_svm.decision_function(X_test)\n",
        "\n",
        "    # Normalizado de puntuaciones a un rango de [0, 1] usando MinMaxScaler\n",
        "    scaler = MinMaxScaler()\n",
        "    scores_if_normalized = scaler.fit_transform(scores_if.reshape(-1, 1)).flatten()\n",
        "    scores_svm_normalized = scaler.fit_transform(scores_svm.reshape(-1, 1)).flatten()\n",
        "\n",
        "    # Aplicación del umbral para las puntuaciones del Isolation Forest\n",
        "    threshold_if = np.percentile(scores_if, 75)  # Cálculo del umbral al percentil 75\n",
        "    pred_if_mapped = np.where(scores_if < threshold_if, 1, 0)  # 1 = anomalía, 0 = normal\n",
        "\n",
        "    # Operación de votación suave al promediar puntuaciones normalizadas\n",
        "    combined_scores = (scores_if_normalized + scores_svm_normalized) / 2\n",
        "    final_predictions = np.where(combined_scores < 0.5, 1, 0)  # Umbral en 0.5 para clasificación binaria\n",
        "\n",
        "    # Cálculo de métricas\n",
        "    precision = precision_score(y_test, final_predictions, average='binary', zero_division=0)\n",
        "    recall = recall_score(y_test, final_predictions, average='binary', zero_division=0)\n",
        "    f1 = f1_score(y_test, final_predictions, average='binary', zero_division=0)\n",
        "\n",
        "    # Cálculo de ROC-AUC y PR-AUC\n",
        "    roc_auc = roc_auc_score(y_test, combined_scores)\n",
        "    precision_pr, recall_pr, _ = precision_recall_curve(y_test, combined_scores)\n",
        "    pr_auc = auc(recall_pr, precision_pr)\n",
        "\n",
        "    # Tiempo de Ejecución\n",
        "    exec_time = time.time() - start_time\n",
        "\n",
        "    # Matriz de Confusión\n",
        "    cm = confusion_matrix(y_test, final_predictions)\n",
        "\n",
        "    # Impresión de Resultados\n",
        "    print(\"Resultados de Soft Voting:\")\n",
        "    print(f\"Predicciones: {final_predictions}\")\n",
        "    print(f\"Matriz de Confusión:\\n{cm}\")\n",
        "    print(f\"Precisión: {precision:.4f}, Recall: {recall:.4f}, F1 Score: {f1:.4f}, \"\n",
        "          f\"ROC AUC: {roc_auc:.4f}, PR AUC: {pr_auc:.4f}, Tiempo de Ejecución: {exec_time:.4f}s\")\n",
        "\n",
        "    # Retorno de predicciones finales y métricas en forma de diccionario\n",
        "    results = {\n",
        "        'precision': precision,\n",
        "        'recall': recall,\n",
        "        'f1': f1,\n",
        "        'roc_auc': roc_auc,\n",
        "        'pr_auc': pr_auc,\n",
        "        'exec_time': exec_time,\n",
        "        'confusion_matrix': cm,\n",
        "        'final_predictions': final_predictions\n",
        "    }\n",
        "\n",
        "    return results"
      ],
      "metadata": {
        "id": "93qFnq6tHL5U"
      },
      "id": "93qFnq6tHL5U",
      "execution_count": 46,
      "outputs": []
    },
    {
      "cell_type": "markdown",
      "source": [
        "Una vez que se generó la función, se llevó a cabo su ejecución y se imprimieron sus resultados para revisarlos."
      ],
      "metadata": {
        "id": "FFaRi19JlPt1"
      },
      "id": "FFaRi19JlPt1"
    },
    {
      "cell_type": "code",
      "source": [
        "# Ejecución de Soft Voting\n",
        "results_soft_voting = soft_voting_ensemble(X_train, X_test, y_train, y_test, contamination=0.05)"
      ],
      "metadata": {
        "colab": {
          "base_uri": "https://localhost:8080/"
        },
        "id": "b7IxlwYyHRrv",
        "outputId": "f572bb5d-b511-4e3a-ef1f-2b358cb1133f"
      },
      "id": "b7IxlwYyHRrv",
      "execution_count": 47,
      "outputs": [
        {
          "output_type": "stream",
          "name": "stdout",
          "text": [
            "Resultados de Soft Voting:\n",
            "Predicciones: [1 0 0 1 1 1 0 1 0 1 0 1 1 1 0 1 0 0 1 1 1 1 0 0 0 0 0 0 0 1 0 0 0 1 0 0 1\n",
            " 1 1 1 1 0 0 0 1 1 1 1 1 0 1 0 0 0 0 1 0 1 1 1 0 0 0 1 0 1 0 1 1 0 0 1 0 0\n",
            " 1 1 1 1 0 1 1 1 0 1 1 0 0 0 1 1 0 0 0 1 1 0 1 1 0 1 1 0 1 0 1 0 0 0 0 1 1\n",
            " 0 0 1]\n",
            "Matriz de Confusión:\n",
            "[[38 40]\n",
            " [18 18]]\n",
            "Precisión: 0.3103, Recall: 0.5000, F1 Score: 0.3830, ROC AUC: 0.5053, PR AUC: 0.2884, Tiempo de Ejecución: 0.2097s\n"
          ]
        }
      ]
    },
    {
      "cell_type": "markdown",
      "source": [
        "De igual forma a los métodos anteriores, al obtener estos resultados, se generaron un par de diccionarios para métricas y tiempos de ejecución que fueron transformados a Dataframes y concatenados con los Dataframes originales para su almacenamiento."
      ],
      "metadata": {
        "id": "LD-F00szlb2d"
      },
      "id": "LD-F00szlb2d"
    },
    {
      "cell_type": "code",
      "source": [
        "# Añadido de resultados de las métricas de Soft Voting a un diccionario\n",
        "soft_voting_metrics_data = {\n",
        "    'Model': ['Soft Voting'],\n",
        "    'Precision': [results_soft_voting['precision']],\n",
        "    'Recall': [results_soft_voting['recall']],\n",
        "    'F1': [results_soft_voting['f1']],\n",
        "    'PR_AUC': [results_soft_voting['pr_auc']],\n",
        "    'ROC_AUC': [results_soft_voting['roc_auc']],\n",
        "}\n",
        "\n",
        "# Creación de un DataFrame para las métricas y concatenado de los resultados al DataFrame de métricas\n",
        "soft_voting_metrics_df = pd.DataFrame(soft_voting_metrics_data)\n",
        "opt_metrics_df = pd.concat([opt_metrics_df, soft_voting_metrics_df], ignore_index=True)\n",
        "\n",
        "# Añadido de resultados de los tiempos de ejecución de Soft Voting a un diccionario\n",
        "soft_voting_execution_time_data = {\n",
        "    'Model': ['Soft Voting'],\n",
        "    'Execution Time (s)': [results_soft_voting['exec_time']],\n",
        "}\n",
        "\n",
        "# Creación de un DataFrame para los tiempos de ejecución y concatenado de los resultados al DataFrame de tiempos de ejecución\n",
        "soft_voting_execution_time_df = pd.DataFrame(soft_voting_execution_time_data)\n",
        "opt_execution_time_df = pd.concat([opt_execution_time_df, soft_voting_execution_time_df], ignore_index=True)"
      ],
      "metadata": {
        "id": "bAsK4g0_uHyb"
      },
      "id": "bAsK4g0_uHyb",
      "execution_count": 48,
      "outputs": []
    },
    {
      "cell_type": "markdown",
      "source": [
        "## **Selección**"
      ],
      "metadata": {
        "id": "q2-dK56Nunrc"
      },
      "id": "q2-dK56Nunrc"
    },
    {
      "cell_type": "markdown",
      "source": [
        "Habiendo terminado la ejecución y obtenido los resultados de cada una de las técnicas implementadas, se actualizaron los dataframes con los valores obtenidos y se imprimieron las tablas para observar los mejores comportamientos en base a la precisión y al menor tiempo de ejecución para poder tomar una decisión."
      ],
      "metadata": {
        "id": "tiuC8hfF8h99"
      },
      "id": "tiuC8hfF8h99"
    },
    {
      "cell_type": "code",
      "source": [
        "# Ordenado del Dataframe con las métricas basado en Precisión\n",
        "opt_metrics_df = opt_metrics_df.sort_values(by='Precision', ascending=False)\n",
        "\n",
        "# Ordenado del Dataframe con los tiempos de ejecución de menor a mayor\n",
        "opt_execution_time_df = opt_execution_time_df.sort_values(by='Execution Time (s)',ascending=True)"
      ],
      "metadata": {
        "id": "Na7jQVVp3oqy"
      },
      "id": "Na7jQVVp3oqy",
      "execution_count": 49,
      "outputs": []
    },
    {
      "cell_type": "code",
      "source": [
        "# Impresión de tablas formateadas\n",
        "print(\"DataFrame con Métricas:\")\n",
        "print(tabulate(opt_metrics_df, headers='keys', tablefmt='fancy_grid', floatfmt=\".4f\"))\n",
        "\n",
        "print(\"\\nDataFrame con Tiempos de Ejecución:\")\n",
        "print(tabulate(opt_execution_time_df, headers='keys', tablefmt='fancy_grid', floatfmt=\".4f\"))"
      ],
      "metadata": {
        "colab": {
          "base_uri": "https://localhost:8080/"
        },
        "id": "GXJuUXyAuKt-",
        "outputId": "b889267d-4e46-4020-94c1-40f5538c225c"
      },
      "id": "GXJuUXyAuKt-",
      "execution_count": 50,
      "outputs": [
        {
          "output_type": "stream",
          "name": "stdout",
          "text": [
            "DataFrame con Métricas:\n",
            "╒════╤══════════════════════════════════╤═════════════╤══════════╤════════╤══════════╤═══════════╕\n",
            "│    │ Model                            │   Precision │   Recall │     F1 │   PR_AUC │   ROC_AUC │\n",
            "╞════╪══════════════════════════════════╪═════════════╪══════════╪════════╪══════════╪═══════════╡\n",
            "│  5 │ Random Subspace One-Class SVM    │      0.8519 │   0.6389 │ 0.7302 │   0.6583 │    0.7938 │\n",
            "├────┼──────────────────────────────────┼─────────────┼──────────┼────────┼──────────┼───────────┤\n",
            "│  6 │ Blending                         │      0.8125 │   0.7222 │ 0.7647 │   0.6745 │    0.8226 │\n",
            "├────┼──────────────────────────────────┼─────────────┼──────────┼────────┼──────────┼───────────┤\n",
            "│  1 │ One-Class SVM                    │      0.7429 │   0.7222 │ 0.7324 │   0.1848 │    0.0662 │\n",
            "├────┼──────────────────────────────────┼─────────────┼──────────┼────────┼──────────┼───────────┤\n",
            "│  7 │ Majority Voting                  │      0.6400 │   0.4444 │ 0.5246 │   0.5700 │    0.8323 │\n",
            "├────┼──────────────────────────────────┼─────────────┼──────────┼────────┼──────────┼───────────┤\n",
            "│  3 │ Bagging One-Class SVM            │      0.5625 │   1.0000 │ 0.7200 │   0.1833 │    0.0709 │\n",
            "├────┼──────────────────────────────────┼─────────────┼──────────┼────────┼──────────┼───────────┤\n",
            "│  8 │ Soft Voting                      │      0.3103 │   0.5000 │ 0.3830 │   0.2884 │    0.5053 │\n",
            "├────┼──────────────────────────────────┼─────────────┼──────────┼────────┼──────────┼───────────┤\n",
            "│  0 │ Isolation Forest                 │      0.2118 │   0.5000 │ 0.2975 │   0.5421 │    0.8118 │\n",
            "├────┼──────────────────────────────────┼─────────────┼──────────┼────────┼──────────┼───────────┤\n",
            "│  2 │ Bagging Isolation Forest         │      0.2118 │   0.5000 │ 0.2975 │   0.5433 │    0.8159 │\n",
            "├────┼──────────────────────────────────┼─────────────┼──────────┼────────┼──────────┼───────────┤\n",
            "│  4 │ Random Subspace Isolation Forest │      0.2118 │   0.5000 │ 0.2975 │   0.2638 │    0.3205 │\n",
            "╘════╧══════════════════════════════════╧═════════════╧══════════╧════════╧══════════╧═══════════╛\n",
            "\n",
            "DataFrame con Tiempos de Ejecución:\n",
            "╒════╤══════════════════════════════════╤══════════════════════╕\n",
            "│    │ Model                            │   Execution Time (s) │\n",
            "╞════╪══════════════════════════════════╪══════════════════════╡\n",
            "│  1 │ One-Class SVM                    │               0.0443 │\n",
            "├────┼──────────────────────────────────┼──────────────────────┤\n",
            "│  0 │ Isolation Forest                 │               0.0964 │\n",
            "├────┼──────────────────────────────────┼──────────────────────┤\n",
            "│  3 │ Bagging One-Class SVM            │               0.1964 │\n",
            "├────┼──────────────────────────────────┼──────────────────────┤\n",
            "│  5 │ Random Subspace One-Class SVM    │               0.1964 │\n",
            "├────┼──────────────────────────────────┼──────────────────────┤\n",
            "│  7 │ Majority Voting                  │               0.2078 │\n",
            "├────┼──────────────────────────────────┼──────────────────────┤\n",
            "│  8 │ Soft Voting                      │               0.2097 │\n",
            "├────┼──────────────────────────────────┼──────────────────────┤\n",
            "│  6 │ Blending                         │               0.2374 │\n",
            "├────┼──────────────────────────────────┼──────────────────────┤\n",
            "│  2 │ Bagging Isolation Forest         │               0.9453 │\n",
            "├────┼──────────────────────────────────┼──────────────────────┤\n",
            "│  4 │ Random Subspace Isolation Forest │               0.9453 │\n",
            "╘════╧══════════════════════════════════╧══════════════════════╛\n"
          ]
        }
      ]
    },
    {
      "cell_type": "markdown",
      "source": [
        "En base a los resultados obtenidos, se ha seleccionado la técnica **Blending** ya que su rendimiento fue superior en comparación a los otros.\n",
        "\n",
        "Este método logró un equilibrio efectivo entre precisión y recall, alcanzando una precisión de 0.8125 y un recall de 0.7222. Esto indica una capacidad razonable para identificar instancias positivas (anomalías) sin sacrificar la precisión, lo cual es crucial en aplicaciones donde la detección de anomalías es prioritaria. Además, su F1 Score de 0.7647 refleja una mejor combinación de ambas métricas en comparación con las otras técnicas.\n",
        "\n",
        "El rendimiento de este método se ve respaldado por un ROC AUC de 0.8226, lo que sugiere una habilidad adecuada para separar las clases, además de un PR AUC de 0.6745 el cual, aunque presenta margen de mejora, indica una capacidad aceptable para clasificar correctamente las instancias positivas.\n",
        "\n",
        "Al combinar las predicciones de múltiples modelos, como Isolation Forest y One-Class SVM, el método de **Blending** aprovecha la diversidad de enfoques, lo que le proporciona mayor robustez frente a diferentes patrones de datos. En conjunto, estos resultados demuestran que **Blending** es la opción más adecuada para la detección de anomalías en este contexto, ofreciendo un rendimiento más confiable y consistente que otros métodos evaluados.\n",
        "\n",
        "Si bien se aprecia que las métricas del Espacio de Submuestreo Aleatorio con One-Class SVM son un poco mejores, estas métricas son obtenidas mediante un promedio de los resultados. Debido a esto y a la posibilidad de obtener un mal rendimiento en alguna iteración en lugar de la consistencia otorgada por la técnica seleccionada es por la que no se decidió utilizar como método final."
      ],
      "metadata": {
        "id": "zYB0A_MO86mA"
      },
      "id": "zYB0A_MO86mA"
    },
    {
      "cell_type": "markdown",
      "source": [
        "## **Gráficos**"
      ],
      "metadata": {
        "id": "7oMlVvfK2o5I"
      },
      "id": "7oMlVvfK2o5I"
    },
    {
      "cell_type": "markdown",
      "source": [
        "En esta sección, se presentan diversos gráficos generados a partir del modelo seleccionado para evaluar su rendimiento y efectividad en la detección de anomalías. Estos gráficos incluyen la matriz de confusión, la curva de precisión-recall, la curva ROC y la curva de aprendizaje. Cada uno de estos gráficos ofrece información valiosa para comprender mejor el comportamiento del modelo y guiar futuras mejoras en su desempeño."
      ],
      "metadata": {
        "id": "Grs9sInraB4a"
      },
      "id": "Grs9sInraB4a"
    },
    {
      "cell_type": "code",
      "source": [
        "# Asignación de valores a la variable 'y_predicted'\n",
        "y_predicted = pred_blending"
      ],
      "metadata": {
        "id": "TTa08WNZaSJT"
      },
      "id": "TTa08WNZaSJT",
      "execution_count": 51,
      "outputs": []
    },
    {
      "cell_type": "code",
      "source": [
        "# Creación de la matriz de confusión\n",
        "cm = confusion_matrix(y_test, y_predicted)\n",
        "\n",
        "# Extracción de los valores TN, FP, FN, TP de la matriz de confusión\n",
        "TN, FP, FN, TP = cm.ravel()\n",
        "\n",
        "# Impresión de TN, FP, FN, TP\n",
        "print(f\"Verdaderos Negativos (TN): {TN} - Instancias normales correctamente clasificadas.\")\n",
        "print(f\"Falsos Positivos (FP): {FP} - Instancias normales clasificadas como anomalías.\")\n",
        "print(f\"Falsos Negativos (FN): {FN} - Anomalías clasificadas como normales.\")\n",
        "print(f\"Verdaderos Positivos (TP): {TP} - Anomalías correctamente clasificadas.\")\n",
        "print(\"\\n\")\n",
        "\n",
        "# Visualización de la matriz de confusión\n",
        "disp = ConfusionMatrixDisplay(confusion_matrix=cm, display_labels=['Inlier (0)', 'Outlier (1)'])\n",
        "disp.plot(cmap=plt.cm.Blues)\n",
        "plt.title(\"Matriz de Confusión\")\n",
        "plt.show()"
      ],
      "metadata": {
        "colab": {
          "base_uri": "https://localhost:8080/",
          "height": 576
        },
        "id": "IgsWl-pHaTfl",
        "outputId": "f04460e3-8bc2-4805-fcd9-425cfc15e9f2"
      },
      "id": "IgsWl-pHaTfl",
      "execution_count": 52,
      "outputs": [
        {
          "output_type": "stream",
          "name": "stdout",
          "text": [
            "Verdaderos Negativos (TN): 72 - Instancias normales correctamente clasificadas.\n",
            "Falsos Positivos (FP): 6 - Instancias normales clasificadas como anomalías.\n",
            "Falsos Negativos (FN): 10 - Anomalías clasificadas como normales.\n",
            "Verdaderos Positivos (TP): 26 - Anomalías correctamente clasificadas.\n",
            "\n",
            "\n"
          ]
        },
        {
          "output_type": "display_data",
          "data": {
            "text/plain": [
              "<Figure size 640x480 with 2 Axes>"
            ],
            "image/png": "[encoded data removed]"
          },
          "metadata": {}
        }
      ]
    },
    {
      "cell_type": "markdown",
      "source": [
        "Los resultados de la matriz de confusión indican que el modelo ha identificado correctamente 72 instancias normales como verdaderos negativos (TN), lo que resalta su capacidad para detectar datos sin anomalías. También ha logrado clasificar 26 anomalías correctamente como verdaderos positivos (TP).\n",
        "\n",
        "No obstante, se presentan 6 falsos positivos (FP) en donde instancias normales fueron clasificadas erróneamente como anomalías, además de 10 falsos negativos (FN) en donde se pasaron por alto algunas anomalías.\n",
        "\n",
        "Estos resultados sugieren que, aunque el modelo muestra un desempeño prometedor, existe un potencial significativo para mejorar su precisión con especial enfoque en la reducción de los falsos negativos.\n",
        "\n",
        "Aumentar la cantidad y diversidad de los datos de entrenamiento podría ser una estrategia clave para optimizar su capacidad de detección y minimizar estos errores, lo que beneficiaría su aplicabilidad en situaciones reales."
      ],
      "metadata": {
        "id": "zZKOtn2Tamhf"
      },
      "id": "zZKOtn2Tamhf"
    },
    {
      "cell_type": "code",
      "source": [
        "# Obtención de las tazas de falsos positivos y verdaderos positivos para la curva ROC\n",
        "fpr, tpr, _ = roc_curve(y_test, y_predicted)\n",
        "roc_auc = auc(fpr, tpr)\n",
        "\n",
        "# Visualización de la Curva ROC\n",
        "plt.figure()\n",
        "plt.plot(fpr, tpr, color='blue', lw=2, label='Curva ROC (area = %0.2f)' % roc_auc)\n",
        "plt.plot([0, 1], [0, 1], color='red', lw=2, linestyle='--')\n",
        "plt.xlim([0.0, 1.0])\n",
        "plt.ylim([0.0, 1.0])\n",
        "plt.xlabel('Tasa de Falsos Positivos')\n",
        "plt.ylabel('Tasa de Verdaderos Positivos')\n",
        "plt.title('Curva ROC')\n",
        "plt.legend(loc='lower right')\n",
        "plt.show()"
      ],
      "metadata": {
        "colab": {
          "base_uri": "https://localhost:8080/",
          "height": 472
        },
        "id": "4uoMRq11bLQg",
        "outputId": "66cce096-e741-4140-b7b5-7daf07e8812e"
      },
      "id": "4uoMRq11bLQg",
      "execution_count": 53,
      "outputs": [
        {
          "output_type": "display_data",
          "data": {
            "text/plain": [
              "<Figure size 640x480 with 1 Axes>"
            ],
            "image/png": "[encoded data removed]"
          },
          "metadata": {}
        }
      ]
    },
    {
      "cell_type": "markdown",
      "source": [
        "En modelos binarios, como es el caso aquí presentado, la curva ROC puede reducirse a unos pocos puntos clave ya que solo se distinguen dos posibles resultados. El punto central observado, con una tasa de verdaderos positivos (TPR) de 0.72 y una tasa de falsos positivos (FPR) de 0.08, nos da una visión directa sobre el rendimiento del modelo al detectar la clase positiva mientras minimiza errores.\n",
        "\n",
        "Tasa de Verdaderos Positivos (TPR) de 0.72: Esto indica que el modelo es capaz de identificar correctamente el 72% de los casos positivos. En un contexto binario, esta sensibilidad o recall es crucial, especialmente si detectar casos positivos es una prioridad. El valor sugiere una buena detección, pero deja espacio para capturar más positivos sin clasificar erróneamente a los negativos.\n",
        "\n",
        "Tasa de Falsos Positivos (FPR) de 0.08: El valor relativamente bajo de FPR indica que, de todos los casos negativos, solo el 8% ha sido clasificado incorrectamente como positivo. Este es un indicador positivo en términos de especificidad del modelo, ya que significa que solo un pequeño porcentaje de los negativos generan falsos positivos.\n",
        "\n",
        "Este equilibrio en el punto intermedio indica un desempeño moderadamente efectivo para separar las clases, con una sensibilidad significativa y un nivel bajo de errores. En un problema binario, donde cada predicción impacta directamente el resultado general, este punto en la curva sugiere una configuración de umbral que maximiza la detección sin comprometer la precisión.\n",
        "\n",
        "Dado que el AUC es de 0.82, el modelo logra una diferenciación razonable entre las dos clases."
      ],
      "metadata": {
        "id": "TwGWJiJGbW8g"
      },
      "id": "TwGWJiJGbW8g"
    },
    {
      "cell_type": "code",
      "source": [
        "# Obtención de los valores para la curva de precisión-recall\n",
        "precision, recall, _ = precision_recall_curve(y_test, y_predicted)\n",
        "\n",
        "# Visualización de la Curva de Precisión-Recall\n",
        "plt.figure()\n",
        "plt.plot(recall, precision, marker='o', color='blue', label='Curva de Precisión-Recall')\n",
        "plt.xlabel('Recall')\n",
        "plt.ylabel('Precisión')\n",
        "plt.title('Curva de Precisión-Recall')\n",
        "plt.legend()\n",
        "plt.show()"
      ],
      "metadata": {
        "colab": {
          "base_uri": "https://localhost:8080/",
          "height": 472
        },
        "id": "PFjkMoLwbZt_",
        "outputId": "e215a8d1-cc02-4ba3-eec1-2f0d9f53d96d"
      },
      "id": "PFjkMoLwbZt_",
      "execution_count": 54,
      "outputs": [
        {
          "output_type": "display_data",
          "data": {
            "text/plain": [
              "<Figure size 640x480 with 1 Axes>"
            ],
            "image/png": "[encoded data removed]"
          },
          "metadata": {}
        }
      ]
    },
    {
      "cell_type": "markdown",
      "source": [
        "El punto medio en la curva de precisión-recall, con una precisión de 0.81 y un recall de 0.72, indica que el modelo logra identificar correctamente el 81% de los elementos clasificados como positivos en ese umbral, mientras que captura el 72% del total de verdaderos positivos.\n",
        "\n",
        "Esta combinación sugiere un equilibrio entre precisión y recall, pero también refleja una ligera dificultad del modelo para capturar todos los positivos (reflejado en el recall más bajo)."
      ],
      "metadata": {
        "id": "nbTTE4gubnFD"
      },
      "id": "nbTTE4gubnFD"
    },
    {
      "cell_type": "code",
      "source": [
        "# Definición de la función para una curva de aprendizaje\n",
        "def plot_learning_curve_recall(X, y, contamination=0.1, num_points=10):\n",
        "    train_sizes = np.linspace(0.1, 0.9, num_points)\n",
        "    recall_scores = []\n",
        "\n",
        "    for train_size in train_sizes:\n",
        "        # División del conjunto de datos en entrenamiento y prueba\n",
        "        X_train, X_test, y_train, y_test = train_test_split(X, y, train_size=train_size, random_state=42)\n",
        "\n",
        "        # Ejecución de la función de blending y obtenido de las predicciones\n",
        "        final_predictions, results_blending = blending(X_train, X_test, y_train, y_test, contamination)\n",
        "\n",
        "        # Extracción del recall del diccionario de resultados\n",
        "        recall = results_blending['recall']\n",
        "        recall_scores.append(recall)\n",
        "\n",
        "    # Visualización de la curva de aprendizaje\n",
        "    plt.figure()\n",
        "    plt.plot(train_sizes, recall_scores, marker='o', color='blue', label='Recall')\n",
        "    plt.title('Curva de Aprendizaje - Recall')\n",
        "    plt.xlabel('Tamaño del Conjunto de Entrenamiento')\n",
        "    plt.ylabel('Recall')\n",
        "    plt.xticks(train_sizes)\n",
        "    plt.grid()\n",
        "    plt.legend()\n",
        "    plt.show()"
      ],
      "metadata": {
        "id": "8J60QoISubWW"
      },
      "id": "8J60QoISubWW",
      "execution_count": 55,
      "outputs": []
    },
    {
      "cell_type": "code",
      "source": [
        "# Ejecución de la función para obtener la curva de aprendizaje\n",
        "plot_learning_curve_recall(redux_feat, y_true, contamination=0.05)"
      ],
      "metadata": {
        "colab": {
          "base_uri": "https://localhost:8080/",
          "height": 1000
        },
        "id": "Z4nzofRkfxb7",
        "outputId": "6d9dd80b-f50e-43ce-bb23-1fc22ae675dd"
      },
      "id": "Z4nzofRkfxb7",
      "execution_count": 56,
      "outputs": [
        {
          "output_type": "stream",
          "name": "stdout",
          "text": [
            "Resultados de Blending:\n",
            "Predicciones: [0. 0. 0. 0. 0. 0. 0. 0. 0. 0. 0. 0. 0. 0. 0. 0. 0. 0. 0. 0. 0. 0. 0. 0.\n",
            " 0. 0. 0. 0. 0. 0. 0. 0. 0. 0. 0. 0. 0. 0. 0. 0. 0. 0. 0. 0. 0. 0. 0. 0.\n",
            " 0. 0. 0. 0. 0. 0. 0. 0. 0. 0. 0. 0. 0. 0. 0. 0. 0. 0. 0. 0. 0. 0. 0. 0.\n",
            " 0. 0. 0. 0. 0. 0. 0. 0. 0. 0. 0. 0. 0. 0. 0. 0. 0. 0. 0. 0. 0. 0. 0. 0.\n",
            " 0. 0. 0. 0. 0. 0. 0. 0. 0. 0. 0. 0. 0. 0. 0. 0. 0. 0. 0. 0. 0. 0. 0. 0.\n",
            " 0. 0. 0. 0. 0. 0. 0. 0. 0. 0. 0. 0. 0. 0. 0. 0. 0. 0. 0. 0. 0. 0. 0. 0.\n",
            " 0. 0. 0. 0. 0. 0. 0. 0. 0. 0. 0. 0. 0. 0. 0. 0. 0. 0. 0. 0. 0. 0. 0. 0.\n",
            " 0. 0. 0. 0. 0. 0. 0. 0. 0. 0. 0. 0. 0. 0. 0. 0. 0. 0. 0. 0. 0. 0. 0. 0.\n",
            " 0. 0. 0. 0. 0. 0. 0. 0. 0. 0. 0. 0. 0. 0. 0. 0. 0. 0. 0. 0. 0. 0. 0. 0.\n",
            " 0. 0. 0. 0. 0. 0. 0. 0. 0. 0. 0. 0. 0. 0. 0. 0. 0. 0. 0. 0. 0. 0. 0. 0.\n",
            " 0. 0. 0. 0. 0. 0. 0. 0. 0. 0. 0. 0. 0. 0. 0. 0. 0. 0. 0. 0. 0. 0. 0. 0.\n",
            " 0. 0. 0. 0. 0. 0. 0. 0. 0. 0. 0. 0. 0. 0. 0. 0. 0. 0. 0. 0. 0. 0. 0. 0.\n",
            " 0. 0. 0. 0. 0. 0. 0. 0. 0. 0. 0. 0. 0. 0. 0. 0. 0. 0. 0. 0. 0. 0. 0. 0.\n",
            " 0. 0. 0. 0. 0. 0. 0. 0. 0. 0. 0. 0. 0. 0. 0. 0. 0. 0. 0. 0. 0. 0. 0. 0.\n",
            " 0. 0. 0. 0. 0. 0. 0. 0. 0. 0. 0. 0. 0. 0. 0. 0. 0. 0. 0. 0. 0. 0. 0. 0.\n",
            " 0. 0. 0. 0. 0. 0. 0. 0. 0. 0. 0. 0. 0. 0. 0. 0. 0. 0. 0. 0. 0. 0. 0. 0.\n",
            " 0. 0. 0. 0. 0. 0. 0. 0. 0. 0. 0. 0. 0. 0. 0. 0. 0. 0. 0. 0. 0. 0. 0. 0.\n",
            " 0. 0. 0. 0. 0. 0. 0. 0. 0. 0. 0. 0. 0. 0. 0. 0. 0. 0. 0. 0. 0. 0. 0. 0.\n",
            " 0. 0. 0. 0. 0. 0. 0. 0. 0. 0. 0. 0. 0. 0. 0. 0. 0. 0. 0. 0. 0. 0. 0. 0.\n",
            " 0. 0. 0. 0. 0. 0. 0. 0. 0. 0. 0. 0. 0. 0. 0. 0. 0. 0. 0. 0. 0. 0. 0. 0.\n",
            " 0. 0. 0. 0. 0. 0. 0. 0. 0. 0. 0. 0. 0. 0. 0. 0. 0. 0. 0. 0. 0. 0. 0. 0.\n",
            " 0. 0. 0. 0. 0. 0. 0. 0. 0.]\n",
            "Matriz de Confusión:\n",
            "[[345   0]\n",
            " [168   0]]\n",
            "Precisión: 0.0000, Recall: 0.0000, F1 Score: 0.0000, ROC AUC: 0.5000, PR AUC: 0.3275, Tiempo de Ejecución: 0.2227s\n",
            "Resultados de Blending:\n",
            "Predicciones: [0. 0. 0. 0. 0. 0. 0. 0. 0. 0. 0. 0. 0. 0. 0. 0. 0. 0. 0. 0. 0. 0. 0. 0.\n",
            " 0. 0. 0. 0. 0. 0. 0. 0. 0. 0. 0. 0. 0. 0. 0. 0. 0. 0. 0. 0. 0. 0. 0. 0.\n",
            " 0. 0. 0. 0. 0. 0. 0. 0. 0. 0. 0. 0. 0. 0. 0. 0. 0. 0. 0. 0. 0. 0. 0. 0.\n",
            " 0. 0. 0. 0. 0. 0. 0. 0. 0. 0. 0. 0. 0. 0. 0. 0. 0. 0. 0. 0. 0. 0. 0. 0.\n",
            " 0. 0. 0. 0. 0. 0. 0. 0. 0. 0. 0. 0. 0. 0. 0. 0. 0. 0. 0. 0. 0. 0. 0. 0.\n",
            " 0. 0. 0. 0. 0. 0. 0. 0. 0. 0. 0. 0. 0. 0. 0. 0. 0. 0. 0. 0. 0. 0. 0. 0.\n",
            " 0. 0. 0. 0. 0. 0. 0. 0. 0. 0. 0. 0. 0. 0. 0. 0. 0. 0. 0. 0. 0. 0. 0. 0.\n",
            " 0. 0. 0. 0. 0. 0. 0. 0. 0. 0. 0. 0. 0. 0. 0. 0. 0. 0. 0. 0. 0. 0. 0. 0.\n",
            " 0. 0. 0. 0. 0. 0. 0. 0. 0. 0. 0. 0. 0. 0. 0. 0. 0. 0. 0. 0. 0. 0. 0. 0.\n",
            " 0. 0. 0. 0. 0. 0. 0. 0. 0. 0. 0. 0. 0. 0. 0. 0. 0. 0. 0. 0. 0. 0. 0. 0.\n",
            " 0. 0. 0. 0. 0. 0. 0. 0. 0. 0. 0. 0. 0. 0. 0. 0. 0. 0. 0. 0. 0. 0. 0. 0.\n",
            " 0. 0. 0. 0. 0. 0. 0. 0. 0. 0. 0. 0. 0. 0. 0. 0. 0. 0. 0. 0. 0. 0. 0. 0.\n",
            " 0. 0. 0. 0. 0. 0. 0. 0. 0. 0. 0. 0. 0. 0. 0. 0. 0. 0. 0. 0. 0. 0. 0. 0.\n",
            " 0. 0. 0. 0. 0. 0. 0. 0. 0. 0. 0. 0. 0. 0. 0. 0. 0. 0. 0. 0. 0. 0. 0. 0.\n",
            " 0. 0. 0. 0. 0. 0. 0. 0. 0. 0. 0. 0. 0. 0. 0. 0. 0. 0. 0. 0. 0. 0. 0. 0.\n",
            " 0. 0. 0. 0. 0. 0. 0. 0. 0. 0. 0. 0. 0. 0. 0. 0. 0. 0. 0. 0. 0. 0. 0. 0.\n",
            " 0. 0. 0. 0. 0. 0. 0. 0. 0. 0. 0. 0. 0. 0. 0. 0. 0. 0. 0. 0. 0. 0. 0. 0.\n",
            " 0. 0. 0. 0. 0. 0. 0. 0. 0. 0. 0. 0. 0. 0. 0. 0. 0. 0. 0. 0. 0. 0. 0. 0.\n",
            " 0. 0. 0. 0. 0. 0. 0. 0. 0. 0. 0. 0. 0. 0. 0. 0. 0. 0. 0. 0. 0. 0. 0. 0.\n",
            " 0. 0. 0. 0. 0. 0. 0.]\n",
            "Matriz de Confusión:\n",
            "[[311   0]\n",
            " [152   0]]\n",
            "Precisión: 0.0000, Recall: 0.0000, F1 Score: 0.0000, ROC AUC: 0.5000, PR AUC: 0.3283, Tiempo de Ejecución: 0.1915s\n",
            "Resultados de Blending:\n",
            "Predicciones: [1. 1. 0. 1. 1. 1. 0. 0. 0. 1. 1. 0. 1. 0. 1. 0. 1. 0. 1. 1. 0. 1. 1. 1.\n",
            " 0. 0. 1. 1. 0. 0. 0. 1. 0. 1. 0. 0. 0. 0. 1. 0. 0. 1. 0. 1. 1. 1. 1. 1.\n",
            " 1. 0. 1. 0. 0. 0. 0. 1. 0. 1. 0. 1. 0. 1. 1. 1. 1. 1. 0. 0. 1. 1. 0. 0.\n",
            " 1. 1. 1. 1. 0. 0. 0. 1. 1. 1. 0. 1. 1. 0. 0. 0. 1. 1. 0. 0. 1. 1. 0. 0.\n",
            " 1. 1. 1. 0. 0. 1. 0. 0. 1. 1. 0. 0. 0. 0. 1. 0. 1. 1. 0. 0. 0. 0. 1. 0.\n",
            " 1. 1. 1. 1. 0. 1. 0. 1. 0. 1. 0. 1. 1. 0. 0. 0. 0. 0. 0. 1. 0. 0. 1. 1.\n",
            " 0. 1. 0. 1. 1. 1. 1. 0. 0. 1. 1. 0. 1. 0. 1. 1. 1. 0. 1. 0. 0. 1. 1. 1.\n",
            " 0. 0. 1. 1. 1. 1. 1. 1. 1. 1. 0. 1. 0. 1. 1. 0. 0. 0. 1. 1. 0. 1. 1. 0.\n",
            " 1. 1. 1. 1. 1. 0. 1. 1. 1. 1. 1. 0. 1. 1. 1. 1. 0. 0. 0. 0. 1. 1. 1. 1.\n",
            " 0. 1. 0. 0. 0. 0. 1. 1. 0. 0. 1. 1. 0. 1. 1. 1. 1. 0. 0. 1. 1. 0. 1. 0.\n",
            " 0. 0. 1. 0. 1. 1. 0. 0. 0. 0. 0. 1. 1. 0. 1. 1. 1. 0. 1. 0. 1. 0. 0. 1.\n",
            " 0. 1. 1. 1. 0. 1. 0. 1. 1. 0. 1. 0. 0. 1. 0. 1. 1. 0. 1. 1. 0. 0. 1. 1.\n",
            " 1. 0. 0. 0. 1. 0. 1. 1. 0. 1. 1. 1. 0. 1. 1. 1. 0. 1. 1. 0. 1. 0. 1. 0.\n",
            " 1. 1. 1. 0. 0. 0. 0. 0. 1. 1. 1. 0. 1. 1. 1. 0. 1. 0. 0. 1. 1. 0. 0. 0.\n",
            " 1. 0. 0. 0. 0. 1. 0. 1. 0. 1. 0. 0. 0. 1. 0. 0. 1. 0. 1. 1. 1. 0. 1. 1.\n",
            " 1. 0. 0. 1. 0. 0. 1. 1. 1. 0. 1. 0. 0. 1. 1. 0. 0. 1. 1. 0. 0. 0. 0. 1.\n",
            " 0. 1. 0. 1. 1. 0. 0. 1. 0. 1. 1. 0. 1. 1. 1. 1. 1. 0. 0. 1. 1. 0. 0. 1.\n",
            " 0. 1. 1. 0.]\n",
            "Matriz de Confusión:\n",
            "[[175 103]\n",
            " [ 15 119]]\n",
            "Precisión: 0.5360, Recall: 0.8881, F1 Score: 0.6685, ROC AUC: 0.7588, PR AUC: 0.5124, Tiempo de Ejecución: 0.2221s\n",
            "Resultados de Blending:\n",
            "Predicciones: [1. 1. 0. 1. 1. 1. 0. 0. 0. 0. 1. 0. 1. 0. 1. 0. 1. 0. 0. 1. 1. 1. 1. 1.\n",
            " 0. 0. 1. 1. 0. 1. 0. 1. 0. 1. 0. 0. 0. 1. 1. 0. 0. 1. 0. 1. 0. 0. 1. 1.\n",
            " 1. 0. 1. 0. 0. 0. 0. 1. 0. 1. 0. 1. 0. 0. 1. 1. 1. 1. 0. 0. 0. 1. 0. 0.\n",
            " 1. 1. 1. 1. 0. 1. 0. 1. 1. 1. 0. 1. 0. 0. 0. 0. 1. 1. 0. 0. 1. 1. 0. 0.\n",
            " 1. 0. 0. 0. 0. 1. 0. 0. 1. 1. 0. 0. 0. 1. 0. 0. 1. 0. 0. 0. 0. 0. 1. 0.\n",
            " 1. 0. 1. 1. 0. 1. 0. 1. 1. 1. 0. 1. 1. 0. 0. 0. 0. 0. 0. 1. 0. 0. 1. 1.\n",
            " 1. 1. 0. 1. 0. 1. 0. 0. 0. 1. 1. 0. 1. 0. 1. 1. 1. 0. 1. 0. 0. 0. 1. 0.\n",
            " 0. 0. 1. 1. 1. 0. 1. 1. 1. 1. 0. 1. 0. 1. 1. 0. 0. 0. 0. 1. 0. 0. 1. 0.\n",
            " 1. 1. 0. 1. 1. 0. 1. 0. 1. 1. 0. 0. 1. 1. 1. 1. 0. 0. 0. 0. 1. 1. 0. 0.\n",
            " 0. 1. 0. 0. 0. 0. 1. 0. 0. 0. 1. 1. 0. 1. 1. 1. 1. 0. 0. 1. 1. 0. 0. 0.\n",
            " 0. 0. 1. 0. 1. 1. 0. 0. 0. 0. 0. 1. 1. 0. 1. 1. 1. 0. 1. 0. 0. 0. 0. 1.\n",
            " 0. 0. 1. 1. 0. 1. 0. 1. 1. 0. 1. 0. 0. 1. 0. 1. 1. 0. 1. 1. 0. 0. 1. 1.\n",
            " 0. 0. 0. 0. 1. 0. 0. 1. 0. 1. 0. 0. 0. 1. 1. 1. 0. 1. 1. 0. 1. 0. 0. 0.\n",
            " 0. 1. 1. 0. 0. 0. 0. 0. 0. 1. 1. 0. 1. 1. 1. 0. 1. 0. 1. 1. 0. 0. 0. 0.\n",
            " 1. 0. 1. 0. 0. 1. 0. 1. 0. 1. 0. 0. 0. 1. 0. 0. 1. 0. 1. 1. 1. 0. 1. 1.\n",
            " 1.]\n",
            "Matriz de Confusión:\n",
            "[[175  69]\n",
            " [ 17 100]]\n",
            "Precisión: 0.5917, Recall: 0.8547, F1 Score: 0.6993, ROC AUC: 0.7860, PR AUC: 0.5528, Tiempo de Ejecución: 0.2041s\n",
            "Resultados de Blending:\n",
            "Predicciones: [1. 0. 0. 1. 1. 1. 0. 0. 0. 0. 1. 0. 1. 0. 1. 0. 1. 0. 0. 0. 1. 1. 1. 1.\n",
            " 0. 0. 1. 1. 0. 1. 0. 1. 0. 1. 0. 0. 0. 0. 1. 0. 0. 1. 0. 0. 0. 0. 1. 1.\n",
            " 1. 0. 1. 0. 0. 0. 0. 1. 0. 1. 0. 1. 0. 0. 1. 1. 1. 1. 0. 0. 0. 1. 0. 0.\n",
            " 1. 1. 1. 1. 0. 0. 0. 1. 1. 1. 0. 1. 0. 0. 0. 0. 1. 1. 0. 0. 0. 1. 0. 0.\n",
            " 1. 0. 0. 0. 0. 1. 0. 0. 0. 0. 0. 0. 0. 1. 0. 0. 1. 0. 0. 0. 0. 0. 1. 0.\n",
            " 1. 0. 1. 1. 0. 1. 0. 1. 1. 1. 0. 0. 1. 0. 0. 0. 0. 0. 0. 1. 0. 0. 1. 1.\n",
            " 0. 1. 0. 1. 1. 0. 0. 0. 0. 1. 0. 0. 1. 0. 1. 1. 1. 0. 1. 0. 0. 0. 1. 1.\n",
            " 0. 0. 1. 1. 1. 0. 1. 0. 1. 1. 0. 1. 0. 1. 1. 0. 0. 0. 1. 1. 0. 0. 1. 0.\n",
            " 1. 1. 0. 1. 1. 0. 1. 1. 1. 1. 0. 0. 1. 0. 1. 1. 0. 0. 0. 0. 1. 1. 0. 0.\n",
            " 0. 1. 0. 0. 0. 0. 0. 0. 0. 0. 1. 1. 1. 1. 1. 1. 1. 0. 0. 1. 1. 0. 1. 0.\n",
            " 0. 0. 1. 0. 1. 1. 0. 0. 0. 0. 0. 1. 1. 0. 1. 1. 1. 1. 1. 0. 0. 0. 0. 1.\n",
            " 0. 1. 1. 1. 0. 1. 0. 1. 1. 0. 1. 0. 0. 1. 0. 1. 1. 0. 1. 1. 0. 0. 1. 1.\n",
            " 0. 0. 0. 0. 1. 0. 0. 1. 0. 1. 0. 0. 0. 1. 1. 1. 0. 1. 1. 0. 0. 0. 0.]\n",
            "Matriz de Confusión:\n",
            "[[158  53]\n",
            " [ 15  85]]\n",
            "Precisión: 0.6159, Recall: 0.8500, F1 Score: 0.7143, ROC AUC: 0.7994, PR AUC: 0.5718, Tiempo de Ejecución: 0.2110s\n",
            "Resultados de Blending:\n",
            "Predicciones: [1. 0. 0. 1. 1. 1. 0. 0. 0. 0. 1. 0. 1. 0. 1. 0. 1. 0. 0. 0. 1. 1. 1. 1.\n",
            " 0. 0. 1. 1. 0. 1. 0. 1. 0. 1. 0. 0. 0. 0. 1. 0. 0. 1. 0. 0. 0. 0. 1. 1.\n",
            " 0. 0. 1. 0. 0. 0. 0. 1. 0. 1. 0. 1. 0. 0. 1. 1. 1. 1. 0. 0. 0. 1. 0. 0.\n",
            " 1. 1. 0. 0. 0. 0. 0. 1. 1. 0. 0. 0. 0. 0. 0. 0. 1. 1. 0. 0. 0. 1. 0. 0.\n",
            " 1. 0. 0. 0. 0. 0. 0. 0. 0. 0. 0. 0. 0. 1. 0. 0. 1. 0. 0. 0. 0. 0. 1. 0.\n",
            " 1. 0. 1. 1. 0. 1. 0. 1. 0. 0. 0. 0. 1. 0. 0. 0. 0. 0. 0. 1. 0. 0. 1. 1.\n",
            " 1. 1. 0. 0. 1. 0. 0. 0. 0. 1. 0. 0. 1. 0. 1. 1. 1. 0. 1. 0. 0. 0. 1. 0.\n",
            " 0. 0. 1. 1. 1. 0. 1. 0. 1. 0. 0. 1. 0. 1. 1. 0. 0. 0. 1. 1. 0. 0. 1. 0.\n",
            " 0. 1. 0. 0. 1. 0. 1. 0. 1. 1. 0. 0. 1. 0. 1. 1. 0. 0. 0. 0. 0. 1. 0. 0.\n",
            " 0. 1. 0. 0. 0. 0. 0. 0. 0. 0. 1. 1. 1. 1. 1. 1. 1. 0. 0. 1. 0. 0. 0. 0.\n",
            " 0. 0. 1. 0. 1. 1. 0. 0. 0. 0. 0. 1. 1. 0. 1. 1. 1. 1. 1. 0.]\n",
            "Matriz de Confusión:\n",
            "[[146  28]\n",
            " [ 15  71]]\n",
            "Precisión: 0.7172, Recall: 0.8256, F1 Score: 0.7676, ROC AUC: 0.8323, PR AUC: 0.6498, Tiempo de Ejecución: 0.2215s\n",
            "Resultados de Blending:\n",
            "Predicciones: [1. 0. 0. 1. 1. 1. 0. 0. 0. 0. 1. 0. 1. 0. 1. 0. 1. 0. 0. 0. 1. 1. 1. 1.\n",
            " 0. 0. 1. 1. 0. 1. 0. 1. 0. 1. 0. 0. 0. 0. 1. 0. 0. 1. 0. 0. 0. 0. 1. 1.\n",
            " 0. 0. 1. 0. 0. 0. 0. 1. 0. 1. 0. 1. 0. 0. 1. 1. 0. 1. 0. 0. 0. 1. 0. 0.\n",
            " 1. 0. 0. 0. 0. 0. 0. 1. 0. 0. 0. 0. 0. 0. 0. 0. 1. 1. 0. 0. 0. 1. 0. 0.\n",
            " 1. 0. 0. 0. 0. 0. 0. 0. 0. 0. 0. 0. 0. 1. 0. 0. 1. 0. 0. 0. 0. 0. 0. 0.\n",
            " 1. 0. 1. 1. 0. 1. 0. 1. 0. 0. 0. 0. 1. 0. 0. 0. 0. 0. 0. 1. 0. 0. 1. 1.\n",
            " 1. 1. 0. 0. 1. 0. 0. 0. 0. 0. 0. 0. 1. 0. 1. 1. 1. 0. 1. 0. 0. 0. 1. 1.\n",
            " 0. 0. 1. 1. 1. 0. 0. 0. 1. 0. 0. 1. 0. 1. 1. 0. 0. 0. 0. 1. 0. 0. 1. 0.\n",
            " 1. 1. 0. 0. 0. 0. 1. 0. 1. 1. 0. 0. 1. 0. 1. 1. 0.]\n",
            "Matriz de Confusión:\n",
            "[[119  16]\n",
            " [ 17  57]]\n",
            "Precisión: 0.7808, Recall: 0.7703, F1 Score: 0.7755, ROC AUC: 0.8259, PR AUC: 0.6828, Tiempo de Ejecución: 0.2153s\n",
            "Resultados de Blending:\n",
            "Predicciones: [1. 0. 0. 1. 1. 1. 0. 0. 0. 0. 1. 0. 1. 0. 1. 0. 0. 0. 0. 0. 1. 1. 1. 1.\n",
            " 0. 0. 0. 1. 0. 1. 0. 1. 0. 1. 0. 0. 0. 0. 1. 0. 0. 0. 0. 0. 0. 0. 1. 1.\n",
            " 0. 0. 1. 0. 0. 0. 0. 1. 0. 1. 0. 1. 0. 0. 1. 1. 0. 1. 0. 0. 0. 0. 0. 0.\n",
            " 1. 0. 0. 0. 0. 0. 0. 1. 0. 0. 0. 1. 0. 0. 0. 0. 1. 1. 0. 1. 0. 1. 0. 0.\n",
            " 1. 0. 0. 0. 0. 0. 0. 0. 0. 0. 0. 0. 0. 0. 0. 0. 0. 0. 0. 0. 0. 0. 0. 0.\n",
            " 1. 0. 1. 1. 0. 1. 0. 1. 1. 0. 0. 1. 1. 0. 0. 0. 0. 0. 0. 1. 0. 0. 0. 0.\n",
            " 0. 1. 0. 0. 1. 0. 0. 0. 0. 0. 0. 0. 0. 0. 1.]\n",
            "Matriz de Confusión:\n",
            "[[103   7]\n",
            " [ 11  38]]\n",
            "Precisión: 0.8444, Recall: 0.7755, F1 Score: 0.8085, ROC AUC: 0.8559, PR AUC: 0.7241, Tiempo de Ejecución: 0.1915s\n",
            "Resultados de Blending:\n",
            "Predicciones: [1. 0. 0. 1. 1. 1. 0. 0. 0. 0. 1. 0. 1. 0. 1. 0. 0. 0. 0. 0. 1. 1. 1. 1.\n",
            " 0. 0. 0. 1. 0. 1. 0. 1. 0. 1. 0. 0. 0. 0. 1. 0. 0. 0. 0. 0. 0. 0. 1. 1.\n",
            " 0. 0. 1. 0. 0. 0. 0. 1. 0. 1. 0. 1. 0. 0. 1. 1. 0. 1. 0. 0. 1. 0. 0. 0.\n",
            " 1. 1. 0. 0. 0. 0. 0. 1. 0. 0. 0. 0. 0. 0. 0. 0. 1. 1. 0. 0. 0. 1. 0. 0.\n",
            " 1. 0. 0. 0. 0. 0. 0. 0. 0. 0. 0. 0.]\n",
            "Matriz de Confusión:\n",
            "[[68  6]\n",
            " [ 7 27]]\n",
            "Precisión: 0.8182, Recall: 0.7941, F1 Score: 0.8060, ROC AUC: 0.8565, PR AUC: 0.7145, Tiempo de Ejecución: 0.1983s\n",
            "Resultados de Blending:\n",
            "Predicciones: [1. 0. 0. 1. 1. 1. 0. 0. 0. 0. 1. 0. 1. 0. 1. 0. 0. 0. 0. 0. 1. 1. 1. 1.\n",
            " 0. 0. 0. 1. 0. 1. 0. 1. 0. 1. 0. 0. 0. 0. 1. 0. 0. 0. 0. 0. 0. 0. 0. 1.\n",
            " 0. 0. 1. 0. 0. 0. 0. 1. 0.]\n",
            "Matriz de Confusión:\n",
            "[[35  4]\n",
            " [ 3 15]]\n",
            "Precisión: 0.7895, Recall: 0.8333, F1 Score: 0.8108, ROC AUC: 0.8654, PR AUC: 0.7105, Tiempo de Ejecución: 0.1998s\n"
          ]
        },
        {
          "output_type": "display_data",
          "data": {
            "text/plain": [
              "<Figure size 640x480 with 1 Axes>"
            ],
            "image/png": "[encoded data removed]"
          },
          "metadata": {}
        }
      ]
    },
    {
      "cell_type": "markdown",
      "source": [
        "La gráfica de la curva de aprendizaje muestra que al contar con tamaños de entrenamiento muy bajos, el modelo no puede identificar correctamente las anomalías, lo cual refleja un recall de 0 en los dos primeros puntos.\n",
        "\n",
        "A medida que se incrementa el tamaño del conjunto de entrenamiento, el recall mejora significativamente, alcanzando un máximo de 0.8881, lo que indica que el modelo está aprendiendo a detectar las anomalías de manera más efectiva.\n",
        "\n",
        "No obstante, se observa una ligera caída en los valores de recall a tamaños de entrenamiento más grandes, lo que podría indicar sobreajuste o dificultad en la generalización.\n",
        "\n",
        "A pesar de esto, el modelo logra recuperarse con un recall de 0.8108 al utilizar la totalidad del conjunto de datos, sugiriendo que ha aprendido patrones más complejos. Esta tendencia resalta la importancia de un tamaño adecuado del conjunto de entrenamiento para mejorar el rendimiento del modelo."
      ],
      "metadata": {
        "id": "Zh28B6IUbuSJ"
      },
      "id": "Zh28B6IUbuSJ"
    }
  ],
  "metadata": {
    "colab": {
      "provenance": []
    },
    "kernelspec": {
      "display_name": "Python 3",
      "name": "python3"
    },
    "language_info": {
      "codemirror_mode": {
        "name": "ipython",
        "version": 3
      },
      "file_extension": ".py",
      "mimetype": "text/x-python",
      "name": "python",
      "nbconvert_exporter": "python",
      "pygments_lexer": "ipython3",
      "version": "3.9.13"
    }
  },
  "nbformat": 4,
  "nbformat_minor": 5
}